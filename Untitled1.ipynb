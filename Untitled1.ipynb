{
  "nbformat": 4,
  "nbformat_minor": 0,
  "metadata": {
    "colab": {
      "provenance": [],
      "gpuType": "T4",
      "authorship_tag": "ABX9TyPXEltdB8BI1YZb8AHCd0SU",
      "include_colab_link": true
    },
    "kernelspec": {
      "name": "python3",
      "display_name": "Python 3"
    },
    "language_info": {
      "name": "python"
    },
    "accelerator": "GPU"
  },
  "cells": [
    {
      "cell_type": "markdown",
      "metadata": {
        "id": "view-in-github",
        "colab_type": "text"
      },
      "source": [
        "<a href=\"https://colab.research.google.com/github/manojt5/Machine_Learning_Practice_FCC/blob/main/Untitled1.ipynb\" target=\"_parent\"><img src=\"https://colab.research.google.com/assets/colab-badge.svg\" alt=\"Open In Colab\"/></a>"
      ]
    },
    {
      "cell_type": "code",
      "execution_count": null,
      "metadata": {
        "id": "R9wsptPuCfBT"
      },
      "outputs": [],
      "source": [
        "!pip install roboflow\n",
        "\n",
        "from roboflow import Roboflow\n",
        "rf = Roboflow(api_key=\"B14RtE5KZ3q9HgalFCEn\")\n",
        "project = rf.workspace(\"roboflow-universe-projects\").project(\"license-plate-recognition-rxg4e\")\n",
        "version = project.version(4)\n",
        "dataset = version.download(\"yolov8-obb\")"
      ]
    },
    {
      "cell_type": "code",
      "source": [
        "import os\n",
        "print(os.listdir('/content/License-Plate-Recognition-4'))"
      ],
      "metadata": {
        "colab": {
          "base_uri": "https://localhost:8080/"
        },
        "id": "o30tg7MlDMdU",
        "outputId": "8a3116db-71fc-4a17-8ff1-658ed74a71e5"
      },
      "execution_count": 5,
      "outputs": [
        {
          "output_type": "stream",
          "name": "stdout",
          "text": [
            "['train', 'README.dataset.txt', 'data.yaml', 'valid', 'README.roboflow.txt', 'test']\n"
          ]
        }
      ]
    },
    {
      "cell_type": "code",
      "source": [
        "from google.colab import drive\n",
        "drive.mount('/content/gdrive')"
      ],
      "metadata": {
        "colab": {
          "base_uri": "https://localhost:8080/"
        },
        "id": "4adIr3o1EeMs",
        "outputId": "3b430af7-5bfb-4d59-a6ec-9d54b5cb92b2"
      },
      "execution_count": 7,
      "outputs": [
        {
          "output_type": "stream",
          "name": "stdout",
          "text": [
            "Mounted at /content/gdrive\n"
          ]
        }
      ]
    },
    {
      "cell_type": "code",
      "source": [
        "# !scp -r /content/License-Plate-Recognition-4 '/content/gdrive/MyDrive/CompVis'"
      ],
      "metadata": {
        "id": "VVoUPnjGDj_J"
      },
      "execution_count": 9,
      "outputs": []
    },
    {
      "cell_type": "code",
      "source": [
        "!pip install ultralytics\n",
        "from ultralytics import YOLO\n",
        "model=YOLO('yolov8n.yaml')"
      ],
      "metadata": {
        "colab": {
          "base_uri": "https://localhost:8080/"
        },
        "id": "EIS22N_NHaav",
        "outputId": "555ada48-2e0e-4755-ad06-9ce8382d35f6"
      },
      "execution_count": 10,
      "outputs": [
        {
          "output_type": "stream",
          "name": "stdout",
          "text": [
            "Collecting ultralytics\n",
            "  Downloading ultralytics-8.1.29-py3-none-any.whl (721 kB)\n",
            "\u001b[?25l     \u001b[90m━━━━━━━━━━━━━━━━━━━━━━━━━━━━━━━━━━━━━━━━\u001b[0m \u001b[32m0.0/721.3 kB\u001b[0m \u001b[31m?\u001b[0m eta \u001b[36m-:--:--\u001b[0m\r\u001b[2K     \u001b[91m━━━━━━━━━━━━━━━\u001b[0m\u001b[90m╺\u001b[0m\u001b[90m━━━━━━━━━━━━━━━━━━━━━━━━\u001b[0m \u001b[32m276.5/721.3 kB\u001b[0m \u001b[31m8.3 MB/s\u001b[0m eta \u001b[36m0:00:01\u001b[0m\r\u001b[2K     \u001b[90m━━━━━━━━━━━━━━━━━━━━━━━━━━━━━━━━━━━━━━━━\u001b[0m \u001b[32m721.3/721.3 kB\u001b[0m \u001b[31m10.5 MB/s\u001b[0m eta \u001b[36m0:00:00\u001b[0m\n",
            "\u001b[?25hRequirement already satisfied: matplotlib>=3.3.0 in /usr/local/lib/python3.10/dist-packages (from ultralytics) (3.7.1)\n",
            "Requirement already satisfied: opencv-python>=4.6.0 in /usr/local/lib/python3.10/dist-packages (from ultralytics) (4.8.0.76)\n",
            "Requirement already satisfied: pillow>=7.1.2 in /usr/local/lib/python3.10/dist-packages (from ultralytics) (9.4.0)\n",
            "Requirement already satisfied: pyyaml>=5.3.1 in /usr/local/lib/python3.10/dist-packages (from ultralytics) (6.0.1)\n",
            "Requirement already satisfied: requests>=2.23.0 in /usr/local/lib/python3.10/dist-packages (from ultralytics) (2.31.0)\n",
            "Requirement already satisfied: scipy>=1.4.1 in /usr/local/lib/python3.10/dist-packages (from ultralytics) (1.11.4)\n",
            "Requirement already satisfied: torch>=1.8.0 in /usr/local/lib/python3.10/dist-packages (from ultralytics) (2.2.1+cu121)\n",
            "Requirement already satisfied: torchvision>=0.9.0 in /usr/local/lib/python3.10/dist-packages (from ultralytics) (0.17.1+cu121)\n",
            "Requirement already satisfied: tqdm>=4.64.0 in /usr/local/lib/python3.10/dist-packages (from ultralytics) (4.66.2)\n",
            "Requirement already satisfied: psutil in /usr/local/lib/python3.10/dist-packages (from ultralytics) (5.9.5)\n",
            "Requirement already satisfied: py-cpuinfo in /usr/local/lib/python3.10/dist-packages (from ultralytics) (9.0.0)\n",
            "Collecting thop>=0.1.1 (from ultralytics)\n",
            "  Downloading thop-0.1.1.post2209072238-py3-none-any.whl (15 kB)\n",
            "Requirement already satisfied: pandas>=1.1.4 in /usr/local/lib/python3.10/dist-packages (from ultralytics) (1.5.3)\n",
            "Requirement already satisfied: seaborn>=0.11.0 in /usr/local/lib/python3.10/dist-packages (from ultralytics) (0.13.1)\n",
            "Requirement already satisfied: contourpy>=1.0.1 in /usr/local/lib/python3.10/dist-packages (from matplotlib>=3.3.0->ultralytics) (1.2.0)\n",
            "Requirement already satisfied: cycler>=0.10 in /usr/local/lib/python3.10/dist-packages (from matplotlib>=3.3.0->ultralytics) (0.10.0)\n",
            "Requirement already satisfied: fonttools>=4.22.0 in /usr/local/lib/python3.10/dist-packages (from matplotlib>=3.3.0->ultralytics) (4.49.0)\n",
            "Requirement already satisfied: kiwisolver>=1.0.1 in /usr/local/lib/python3.10/dist-packages (from matplotlib>=3.3.0->ultralytics) (1.4.5)\n",
            "Requirement already satisfied: numpy>=1.20 in /usr/local/lib/python3.10/dist-packages (from matplotlib>=3.3.0->ultralytics) (1.25.2)\n",
            "Requirement already satisfied: packaging>=20.0 in /usr/local/lib/python3.10/dist-packages (from matplotlib>=3.3.0->ultralytics) (24.0)\n",
            "Requirement already satisfied: pyparsing>=2.3.1 in /usr/local/lib/python3.10/dist-packages (from matplotlib>=3.3.0->ultralytics) (3.1.2)\n",
            "Requirement already satisfied: python-dateutil>=2.7 in /usr/local/lib/python3.10/dist-packages (from matplotlib>=3.3.0->ultralytics) (2.8.2)\n",
            "Requirement already satisfied: pytz>=2020.1 in /usr/local/lib/python3.10/dist-packages (from pandas>=1.1.4->ultralytics) (2023.4)\n",
            "Requirement already satisfied: charset-normalizer<4,>=2 in /usr/local/lib/python3.10/dist-packages (from requests>=2.23.0->ultralytics) (3.3.2)\n",
            "Requirement already satisfied: idna<4,>=2.5 in /usr/local/lib/python3.10/dist-packages (from requests>=2.23.0->ultralytics) (2.10)\n",
            "Requirement already satisfied: urllib3<3,>=1.21.1 in /usr/local/lib/python3.10/dist-packages (from requests>=2.23.0->ultralytics) (2.0.7)\n",
            "Requirement already satisfied: certifi>=2017.4.17 in /usr/local/lib/python3.10/dist-packages (from requests>=2.23.0->ultralytics) (2023.7.22)\n",
            "Requirement already satisfied: filelock in /usr/local/lib/python3.10/dist-packages (from torch>=1.8.0->ultralytics) (3.13.1)\n",
            "Requirement already satisfied: typing-extensions>=4.8.0 in /usr/local/lib/python3.10/dist-packages (from torch>=1.8.0->ultralytics) (4.10.0)\n",
            "Requirement already satisfied: sympy in /usr/local/lib/python3.10/dist-packages (from torch>=1.8.0->ultralytics) (1.12)\n",
            "Requirement already satisfied: networkx in /usr/local/lib/python3.10/dist-packages (from torch>=1.8.0->ultralytics) (3.2.1)\n",
            "Requirement already satisfied: jinja2 in /usr/local/lib/python3.10/dist-packages (from torch>=1.8.0->ultralytics) (3.1.3)\n",
            "Requirement already satisfied: fsspec in /usr/local/lib/python3.10/dist-packages (from torch>=1.8.0->ultralytics) (2023.6.0)\n",
            "Collecting nvidia-cuda-nvrtc-cu12==12.1.105 (from torch>=1.8.0->ultralytics)\n",
            "  Downloading nvidia_cuda_nvrtc_cu12-12.1.105-py3-none-manylinux1_x86_64.whl (23.7 MB)\n",
            "\u001b[2K     \u001b[90m━━━━━━━━━━━━━━━━━━━━━━━━━━━━━━━━━━━━━━━━\u001b[0m \u001b[32m23.7/23.7 MB\u001b[0m \u001b[31m59.6 MB/s\u001b[0m eta \u001b[36m0:00:00\u001b[0m\n",
            "\u001b[?25hCollecting nvidia-cuda-runtime-cu12==12.1.105 (from torch>=1.8.0->ultralytics)\n",
            "  Downloading nvidia_cuda_runtime_cu12-12.1.105-py3-none-manylinux1_x86_64.whl (823 kB)\n",
            "\u001b[2K     \u001b[90m━━━━━━━━━━━━━━━━━━━━━━━━━━━━━━━━━━━━━━━━\u001b[0m \u001b[32m823.6/823.6 kB\u001b[0m \u001b[31m48.9 MB/s\u001b[0m eta \u001b[36m0:00:00\u001b[0m\n",
            "\u001b[?25hCollecting nvidia-cuda-cupti-cu12==12.1.105 (from torch>=1.8.0->ultralytics)\n",
            "  Downloading nvidia_cuda_cupti_cu12-12.1.105-py3-none-manylinux1_x86_64.whl (14.1 MB)\n",
            "\u001b[2K     \u001b[90m━━━━━━━━━━━━━━━━━━━━━━━━━━━━━━━━━━━━━━━━\u001b[0m \u001b[32m14.1/14.1 MB\u001b[0m \u001b[31m75.1 MB/s\u001b[0m eta \u001b[36m0:00:00\u001b[0m\n",
            "\u001b[?25hCollecting nvidia-cudnn-cu12==8.9.2.26 (from torch>=1.8.0->ultralytics)\n",
            "  Downloading nvidia_cudnn_cu12-8.9.2.26-py3-none-manylinux1_x86_64.whl (731.7 MB)\n",
            "\u001b[2K     \u001b[90m━━━━━━━━━━━━━━━━━━━━━━━━━━━━━━━━━━━━━━━━\u001b[0m \u001b[32m731.7/731.7 MB\u001b[0m \u001b[31m2.3 MB/s\u001b[0m eta \u001b[36m0:00:00\u001b[0m\n",
            "\u001b[?25hCollecting nvidia-cublas-cu12==12.1.3.1 (from torch>=1.8.0->ultralytics)\n",
            "  Downloading nvidia_cublas_cu12-12.1.3.1-py3-none-manylinux1_x86_64.whl (410.6 MB)\n",
            "\u001b[2K     \u001b[90m━━━━━━━━━━━━━━━━━━━━━━━━━━━━━━━━━━━━━━━━\u001b[0m \u001b[32m410.6/410.6 MB\u001b[0m \u001b[31m3.6 MB/s\u001b[0m eta \u001b[36m0:00:00\u001b[0m\n",
            "\u001b[?25hCollecting nvidia-cufft-cu12==11.0.2.54 (from torch>=1.8.0->ultralytics)\n",
            "  Downloading nvidia_cufft_cu12-11.0.2.54-py3-none-manylinux1_x86_64.whl (121.6 MB)\n",
            "\u001b[2K     \u001b[90m━━━━━━━━━━━━━━━━━━━━━━━━━━━━━━━━━━━━━━━━\u001b[0m \u001b[32m121.6/121.6 MB\u001b[0m \u001b[31m8.2 MB/s\u001b[0m eta \u001b[36m0:00:00\u001b[0m\n",
            "\u001b[?25hCollecting nvidia-curand-cu12==10.3.2.106 (from torch>=1.8.0->ultralytics)\n",
            "  Downloading nvidia_curand_cu12-10.3.2.106-py3-none-manylinux1_x86_64.whl (56.5 MB)\n",
            "\u001b[2K     \u001b[90m━━━━━━━━━━━━━━━━━━━━━━━━━━━━━━━━━━━━━━━━\u001b[0m \u001b[32m56.5/56.5 MB\u001b[0m \u001b[31m10.7 MB/s\u001b[0m eta \u001b[36m0:00:00\u001b[0m\n",
            "\u001b[?25hCollecting nvidia-cusolver-cu12==11.4.5.107 (from torch>=1.8.0->ultralytics)\n",
            "  Downloading nvidia_cusolver_cu12-11.4.5.107-py3-none-manylinux1_x86_64.whl (124.2 MB)\n",
            "\u001b[2K     \u001b[90m━━━━━━━━━━━━━━━━━━━━━━━━━━━━━━━━━━━━━━━━\u001b[0m \u001b[32m124.2/124.2 MB\u001b[0m \u001b[31m8.1 MB/s\u001b[0m eta \u001b[36m0:00:00\u001b[0m\n",
            "\u001b[?25hCollecting nvidia-cusparse-cu12==12.1.0.106 (from torch>=1.8.0->ultralytics)\n",
            "  Downloading nvidia_cusparse_cu12-12.1.0.106-py3-none-manylinux1_x86_64.whl (196.0 MB)\n",
            "\u001b[2K     \u001b[90m━━━━━━━━━━━━━━━━━━━━━━━━━━━━━━━━━━━━━━━━\u001b[0m \u001b[32m196.0/196.0 MB\u001b[0m \u001b[31m6.9 MB/s\u001b[0m eta \u001b[36m0:00:00\u001b[0m\n",
            "\u001b[?25hCollecting nvidia-nccl-cu12==2.19.3 (from torch>=1.8.0->ultralytics)\n",
            "  Downloading nvidia_nccl_cu12-2.19.3-py3-none-manylinux1_x86_64.whl (166.0 MB)\n",
            "\u001b[2K     \u001b[90m━━━━━━━━━━━━━━━━━━━━━━━━━━━━━━━━━━━━━━━━\u001b[0m \u001b[32m166.0/166.0 MB\u001b[0m \u001b[31m7.4 MB/s\u001b[0m eta \u001b[36m0:00:00\u001b[0m\n",
            "\u001b[?25hCollecting nvidia-nvtx-cu12==12.1.105 (from torch>=1.8.0->ultralytics)\n",
            "  Downloading nvidia_nvtx_cu12-12.1.105-py3-none-manylinux1_x86_64.whl (99 kB)\n",
            "\u001b[2K     \u001b[90m━━━━━━━━━━━━━━━━━━━━━━━━━━━━━━━━━━━━━━━━\u001b[0m \u001b[32m99.1/99.1 kB\u001b[0m \u001b[31m15.1 MB/s\u001b[0m eta \u001b[36m0:00:00\u001b[0m\n",
            "\u001b[?25hRequirement already satisfied: triton==2.2.0 in /usr/local/lib/python3.10/dist-packages (from torch>=1.8.0->ultralytics) (2.2.0)\n",
            "Collecting nvidia-nvjitlink-cu12 (from nvidia-cusolver-cu12==11.4.5.107->torch>=1.8.0->ultralytics)\n",
            "  Downloading nvidia_nvjitlink_cu12-12.4.99-py3-none-manylinux2014_x86_64.whl (21.1 MB)\n",
            "\u001b[2K     \u001b[90m━━━━━━━━━━━━━━━━━━━━━━━━━━━━━━━━━━━━━━━━\u001b[0m \u001b[32m21.1/21.1 MB\u001b[0m \u001b[31m77.6 MB/s\u001b[0m eta \u001b[36m0:00:00\u001b[0m\n",
            "\u001b[?25hRequirement already satisfied: six in /usr/local/lib/python3.10/dist-packages (from cycler>=0.10->matplotlib>=3.3.0->ultralytics) (1.16.0)\n",
            "Requirement already satisfied: MarkupSafe>=2.0 in /usr/local/lib/python3.10/dist-packages (from jinja2->torch>=1.8.0->ultralytics) (2.1.5)\n",
            "Requirement already satisfied: mpmath>=0.19 in /usr/local/lib/python3.10/dist-packages (from sympy->torch>=1.8.0->ultralytics) (1.3.0)\n",
            "Installing collected packages: nvidia-nvtx-cu12, nvidia-nvjitlink-cu12, nvidia-nccl-cu12, nvidia-curand-cu12, nvidia-cufft-cu12, nvidia-cuda-runtime-cu12, nvidia-cuda-nvrtc-cu12, nvidia-cuda-cupti-cu12, nvidia-cublas-cu12, nvidia-cusparse-cu12, nvidia-cudnn-cu12, nvidia-cusolver-cu12, thop, ultralytics\n",
            "Successfully installed nvidia-cublas-cu12-12.1.3.1 nvidia-cuda-cupti-cu12-12.1.105 nvidia-cuda-nvrtc-cu12-12.1.105 nvidia-cuda-runtime-cu12-12.1.105 nvidia-cudnn-cu12-8.9.2.26 nvidia-cufft-cu12-11.0.2.54 nvidia-curand-cu12-10.3.2.106 nvidia-cusolver-cu12-11.4.5.107 nvidia-cusparse-cu12-12.1.0.106 nvidia-nccl-cu12-2.19.3 nvidia-nvjitlink-cu12-12.4.99 nvidia-nvtx-cu12-12.1.105 thop-0.1.1.post2209072238 ultralytics-8.1.29\n"
          ]
        }
      ]
    },
    {
      "cell_type": "code",
      "source": [],
      "metadata": {
        "id": "OrBYIf1uOZ8D"
      },
      "execution_count": 10,
      "outputs": []
    },
    {
      "cell_type": "code",
      "source": [
        "model.train(data=\"/content/License-Plate-Recognition-4/data.yaml\", epochs=1)"
      ],
      "metadata": {
        "colab": {
          "base_uri": "https://localhost:8080/"
        },
        "id": "yHA4La5JKMdE",
        "outputId": "172e9084-62ee-470b-b978-1bd966bfccea"
      },
      "execution_count": 11,
      "outputs": [
        {
          "output_type": "stream",
          "name": "stdout",
          "text": [
            "Ultralytics YOLOv8.1.29 🚀 Python-3.10.12 torch-2.2.1+cu121 CUDA:0 (Tesla T4, 15102MiB)\n",
            "\u001b[34m\u001b[1mengine/trainer: \u001b[0mtask=detect, mode=train, model=yolov8n.yaml, data=/content/License-Plate-Recognition-4/data.yaml, epochs=1, time=None, patience=100, batch=16, imgsz=640, save=True, save_period=-1, cache=False, device=None, workers=8, project=None, name=train, exist_ok=False, pretrained=True, optimizer=auto, verbose=True, seed=0, deterministic=True, single_cls=False, rect=False, cos_lr=False, close_mosaic=10, resume=False, amp=True, fraction=1.0, profile=False, freeze=None, multi_scale=False, overlap_mask=True, mask_ratio=4, dropout=0.0, val=True, split=val, save_json=False, save_hybrid=False, conf=None, iou=0.7, max_det=300, half=False, dnn=False, plots=True, source=None, vid_stride=1, stream_buffer=False, visualize=False, augment=False, agnostic_nms=False, classes=None, retina_masks=False, embed=None, show=False, save_frames=False, save_txt=False, save_conf=False, save_crop=False, show_labels=True, show_conf=True, show_boxes=True, line_width=None, format=torchscript, keras=False, optimize=False, int8=False, dynamic=False, simplify=False, opset=None, workspace=4, nms=False, lr0=0.01, lrf=0.01, momentum=0.937, weight_decay=0.0005, warmup_epochs=3.0, warmup_momentum=0.8, warmup_bias_lr=0.1, box=7.5, cls=0.5, dfl=1.5, pose=12.0, kobj=1.0, label_smoothing=0.0, nbs=64, hsv_h=0.015, hsv_s=0.7, hsv_v=0.4, degrees=0.0, translate=0.1, scale=0.5, shear=0.0, perspective=0.0, flipud=0.0, fliplr=0.5, mosaic=1.0, mixup=0.0, copy_paste=0.0, auto_augment=randaugment, erasing=0.4, crop_fraction=1.0, cfg=None, tracker=botsort.yaml, save_dir=runs/detect/train\n",
            "Downloading https://ultralytics.com/assets/Arial.ttf to '/root/.config/Ultralytics/Arial.ttf'...\n"
          ]
        },
        {
          "output_type": "stream",
          "name": "stderr",
          "text": [
            "100%|██████████| 755k/755k [00:00<00:00, 38.2MB/s]\n"
          ]
        },
        {
          "output_type": "stream",
          "name": "stdout",
          "text": [
            "Overriding model.yaml nc=80 with nc=1\n",
            "\n",
            "                   from  n    params  module                                       arguments                     \n",
            "  0                  -1  1       464  ultralytics.nn.modules.conv.Conv             [3, 16, 3, 2]                 \n",
            "  1                  -1  1      4672  ultralytics.nn.modules.conv.Conv             [16, 32, 3, 2]                \n",
            "  2                  -1  1      7360  ultralytics.nn.modules.block.C2f             [32, 32, 1, True]             \n",
            "  3                  -1  1     18560  ultralytics.nn.modules.conv.Conv             [32, 64, 3, 2]                \n",
            "  4                  -1  2     49664  ultralytics.nn.modules.block.C2f             [64, 64, 2, True]             \n",
            "  5                  -1  1     73984  ultralytics.nn.modules.conv.Conv             [64, 128, 3, 2]               \n",
            "  6                  -1  2    197632  ultralytics.nn.modules.block.C2f             [128, 128, 2, True]           \n",
            "  7                  -1  1    295424  ultralytics.nn.modules.conv.Conv             [128, 256, 3, 2]              \n",
            "  8                  -1  1    460288  ultralytics.nn.modules.block.C2f             [256, 256, 1, True]           \n",
            "  9                  -1  1    164608  ultralytics.nn.modules.block.SPPF            [256, 256, 5]                 \n",
            " 10                  -1  1         0  torch.nn.modules.upsampling.Upsample         [None, 2, 'nearest']          \n",
            " 11             [-1, 6]  1         0  ultralytics.nn.modules.conv.Concat           [1]                           \n",
            " 12                  -1  1    148224  ultralytics.nn.modules.block.C2f             [384, 128, 1]                 \n",
            " 13                  -1  1         0  torch.nn.modules.upsampling.Upsample         [None, 2, 'nearest']          \n",
            " 14             [-1, 4]  1         0  ultralytics.nn.modules.conv.Concat           [1]                           \n",
            " 15                  -1  1     37248  ultralytics.nn.modules.block.C2f             [192, 64, 1]                  \n",
            " 16                  -1  1     36992  ultralytics.nn.modules.conv.Conv             [64, 64, 3, 2]                \n",
            " 17            [-1, 12]  1         0  ultralytics.nn.modules.conv.Concat           [1]                           \n",
            " 18                  -1  1    123648  ultralytics.nn.modules.block.C2f             [192, 128, 1]                 \n",
            " 19                  -1  1    147712  ultralytics.nn.modules.conv.Conv             [128, 128, 3, 2]              \n",
            " 20             [-1, 9]  1         0  ultralytics.nn.modules.conv.Concat           [1]                           \n",
            " 21                  -1  1    493056  ultralytics.nn.modules.block.C2f             [384, 256, 1]                 \n",
            " 22        [15, 18, 21]  1    751507  ultralytics.nn.modules.head.Detect           [1, [64, 128, 256]]           \n",
            "YOLOv8n summary: 225 layers, 3011043 parameters, 3011027 gradients, 8.2 GFLOPs\n",
            "\n",
            "\u001b[34m\u001b[1mTensorBoard: \u001b[0mStart with 'tensorboard --logdir runs/detect/train', view at http://localhost:6006/\n",
            "Freezing layer 'model.22.dfl.conv.weight'\n",
            "\u001b[34m\u001b[1mAMP: \u001b[0mrunning Automatic Mixed Precision (AMP) checks with YOLOv8n...\n",
            "Downloading https://github.com/ultralytics/assets/releases/download/v8.1.0/yolov8n.pt to 'yolov8n.pt'...\n"
          ]
        },
        {
          "output_type": "stream",
          "name": "stderr",
          "text": [
            "100%|██████████| 6.23M/6.23M [00:00<00:00, 122MB/s]\n"
          ]
        },
        {
          "output_type": "stream",
          "name": "stdout",
          "text": [
            "\u001b[34m\u001b[1mAMP: \u001b[0mchecks passed ✅\n"
          ]
        },
        {
          "output_type": "stream",
          "name": "stderr",
          "text": [
            "\u001b[34m\u001b[1mtrain: \u001b[0mScanning /content/License-Plate-Recognition-4/train/labels... 21173 images, 28 backgrounds, 0 corrupt: 100%|██████████| 21173/21173 [00:30<00:00, 701.98it/s]\n"
          ]
        },
        {
          "output_type": "stream",
          "name": "stdout",
          "text": [
            "\u001b[34m\u001b[1mtrain: \u001b[0mNew cache created: /content/License-Plate-Recognition-4/train/labels.cache\n",
            "\u001b[34m\u001b[1malbumentations: \u001b[0mBlur(p=0.01, blur_limit=(3, 7)), MedianBlur(p=0.01, blur_limit=(3, 7)), ToGray(p=0.01), CLAHE(p=0.01, clip_limit=(1, 4.0), tile_grid_size=(8, 8))\n"
          ]
        },
        {
          "output_type": "stream",
          "name": "stderr",
          "text": [
            "\u001b[34m\u001b[1mval: \u001b[0mScanning /content/License-Plate-Recognition-4/valid/labels... 2046 images, 3 backgrounds, 0 corrupt: 100%|██████████| 2046/2046 [00:04<00:00, 474.41it/s]\n"
          ]
        },
        {
          "output_type": "stream",
          "name": "stdout",
          "text": [
            "\u001b[34m\u001b[1mval: \u001b[0mNew cache created: /content/License-Plate-Recognition-4/valid/labels.cache\n",
            "Plotting labels to runs/detect/train/labels.jpg... \n",
            "\u001b[34m\u001b[1moptimizer:\u001b[0m 'optimizer=auto' found, ignoring 'lr0=0.01' and 'momentum=0.937' and determining best 'optimizer', 'lr0' and 'momentum' automatically... \n",
            "\u001b[34m\u001b[1moptimizer:\u001b[0m AdamW(lr=0.002, momentum=0.9) with parameter groups 57 weight(decay=0.0), 64 weight(decay=0.0005), 63 bias(decay=0.0)\n",
            "\u001b[34m\u001b[1mTensorBoard: \u001b[0mmodel graph visualization added ✅\n",
            "Image sizes 640 train, 640 val\n",
            "Using 2 dataloader workers\n",
            "Logging results to \u001b[1mruns/detect/train\u001b[0m\n",
            "Starting training for 1 epochs...\n",
            "\n",
            "      Epoch    GPU_mem   box_loss   cls_loss   dfl_loss  Instances       Size\n"
          ]
        },
        {
          "output_type": "stream",
          "name": "stderr",
          "text": [
            "        1/1       2.5G       2.13      2.252      2.492         16        640: 100%|██████████| 1324/1324 [08:47<00:00,  2.51it/s]\n",
            "                 Class     Images  Instances      Box(P          R      mAP50  mAP50-95): 100%|██████████| 64/64 [00:30<00:00,  2.08it/s]\n"
          ]
        },
        {
          "output_type": "stream",
          "name": "stdout",
          "text": [
            "                   all       2046       2132      0.927      0.774      0.852      0.467\n",
            "\n",
            "1 epochs completed in 0.158 hours.\n",
            "Optimizer stripped from runs/detect/train/weights/last.pt, 6.2MB\n",
            "Optimizer stripped from runs/detect/train/weights/best.pt, 6.2MB\n",
            "\n",
            "Validating runs/detect/train/weights/best.pt...\n",
            "Ultralytics YOLOv8.1.29 🚀 Python-3.10.12 torch-2.2.1+cu121 CUDA:0 (Tesla T4, 15102MiB)\n",
            "YOLOv8n summary (fused): 168 layers, 3005843 parameters, 0 gradients, 8.1 GFLOPs\n"
          ]
        },
        {
          "output_type": "stream",
          "name": "stderr",
          "text": [
            "                 Class     Images  Instances      Box(P          R      mAP50  mAP50-95): 100%|██████████| 64/64 [00:27<00:00,  2.33it/s]\n"
          ]
        },
        {
          "output_type": "stream",
          "name": "stdout",
          "text": [
            "                   all       2046       2132      0.928      0.775      0.853      0.467\n",
            "Speed: 0.3ms preprocess, 2.4ms inference, 0.0ms loss, 2.7ms postprocess per image\n",
            "Results saved to \u001b[1mruns/detect/train\u001b[0m\n"
          ]
        },
        {
          "output_type": "execute_result",
          "data": {
            "text/plain": [
              "ultralytics.utils.metrics.DetMetrics object with attributes:\n",
              "\n",
              "ap_class_index: array([0])\n",
              "box: ultralytics.utils.metrics.Metric object\n",
              "confusion_matrix: <ultralytics.utils.metrics.ConfusionMatrix object at 0x7a603f7e4610>\n",
              "curves: ['Precision-Recall(B)', 'F1-Confidence(B)', 'Precision-Confidence(B)', 'Recall-Confidence(B)']\n",
              "curves_results: [[array([          0,    0.001001,    0.002002,    0.003003,    0.004004,    0.005005,    0.006006,    0.007007,    0.008008,    0.009009,     0.01001,    0.011011,    0.012012,    0.013013,    0.014014,    0.015015,    0.016016,    0.017017,    0.018018,    0.019019,     0.02002,    0.021021,    0.022022,    0.023023,\n",
              "          0.024024,    0.025025,    0.026026,    0.027027,    0.028028,    0.029029,     0.03003,    0.031031,    0.032032,    0.033033,    0.034034,    0.035035,    0.036036,    0.037037,    0.038038,    0.039039,     0.04004,    0.041041,    0.042042,    0.043043,    0.044044,    0.045045,    0.046046,    0.047047,\n",
              "          0.048048,    0.049049,     0.05005,    0.051051,    0.052052,    0.053053,    0.054054,    0.055055,    0.056056,    0.057057,    0.058058,    0.059059,     0.06006,    0.061061,    0.062062,    0.063063,    0.064064,    0.065065,    0.066066,    0.067067,    0.068068,    0.069069,     0.07007,    0.071071,\n",
              "          0.072072,    0.073073,    0.074074,    0.075075,    0.076076,    0.077077,    0.078078,    0.079079,     0.08008,    0.081081,    0.082082,    0.083083,    0.084084,    0.085085,    0.086086,    0.087087,    0.088088,    0.089089,     0.09009,    0.091091,    0.092092,    0.093093,    0.094094,    0.095095,\n",
              "          0.096096,    0.097097,    0.098098,    0.099099,      0.1001,      0.1011,      0.1021,      0.1031,      0.1041,     0.10511,     0.10611,     0.10711,     0.10811,     0.10911,     0.11011,     0.11111,     0.11211,     0.11311,     0.11411,     0.11512,     0.11612,     0.11712,     0.11812,     0.11912,\n",
              "           0.12012,     0.12112,     0.12212,     0.12312,     0.12412,     0.12513,     0.12613,     0.12713,     0.12813,     0.12913,     0.13013,     0.13113,     0.13213,     0.13313,     0.13413,     0.13514,     0.13614,     0.13714,     0.13814,     0.13914,     0.14014,     0.14114,     0.14214,     0.14314,\n",
              "           0.14414,     0.14515,     0.14615,     0.14715,     0.14815,     0.14915,     0.15015,     0.15115,     0.15215,     0.15315,     0.15415,     0.15516,     0.15616,     0.15716,     0.15816,     0.15916,     0.16016,     0.16116,     0.16216,     0.16316,     0.16416,     0.16517,     0.16617,     0.16717,\n",
              "           0.16817,     0.16917,     0.17017,     0.17117,     0.17217,     0.17317,     0.17417,     0.17518,     0.17618,     0.17718,     0.17818,     0.17918,     0.18018,     0.18118,     0.18218,     0.18318,     0.18418,     0.18519,     0.18619,     0.18719,     0.18819,     0.18919,     0.19019,     0.19119,\n",
              "           0.19219,     0.19319,     0.19419,      0.1952,      0.1962,      0.1972,      0.1982,      0.1992,      0.2002,      0.2012,      0.2022,      0.2032,      0.2042,     0.20521,     0.20621,     0.20721,     0.20821,     0.20921,     0.21021,     0.21121,     0.21221,     0.21321,     0.21421,     0.21522,\n",
              "           0.21622,     0.21722,     0.21822,     0.21922,     0.22022,     0.22122,     0.22222,     0.22322,     0.22422,     0.22523,     0.22623,     0.22723,     0.22823,     0.22923,     0.23023,     0.23123,     0.23223,     0.23323,     0.23423,     0.23524,     0.23624,     0.23724,     0.23824,     0.23924,\n",
              "           0.24024,     0.24124,     0.24224,     0.24324,     0.24424,     0.24525,     0.24625,     0.24725,     0.24825,     0.24925,     0.25025,     0.25125,     0.25225,     0.25325,     0.25425,     0.25526,     0.25626,     0.25726,     0.25826,     0.25926,     0.26026,     0.26126,     0.26226,     0.26326,\n",
              "           0.26426,     0.26527,     0.26627,     0.26727,     0.26827,     0.26927,     0.27027,     0.27127,     0.27227,     0.27327,     0.27427,     0.27528,     0.27628,     0.27728,     0.27828,     0.27928,     0.28028,     0.28128,     0.28228,     0.28328,     0.28428,     0.28529,     0.28629,     0.28729,\n",
              "           0.28829,     0.28929,     0.29029,     0.29129,     0.29229,     0.29329,     0.29429,      0.2953,      0.2963,      0.2973,      0.2983,      0.2993,      0.3003,      0.3013,      0.3023,      0.3033,      0.3043,     0.30531,     0.30631,     0.30731,     0.30831,     0.30931,     0.31031,     0.31131,\n",
              "           0.31231,     0.31331,     0.31431,     0.31532,     0.31632,     0.31732,     0.31832,     0.31932,     0.32032,     0.32132,     0.32232,     0.32332,     0.32432,     0.32533,     0.32633,     0.32733,     0.32833,     0.32933,     0.33033,     0.33133,     0.33233,     0.33333,     0.33433,     0.33534,\n",
              "           0.33634,     0.33734,     0.33834,     0.33934,     0.34034,     0.34134,     0.34234,     0.34334,     0.34434,     0.34535,     0.34635,     0.34735,     0.34835,     0.34935,     0.35035,     0.35135,     0.35235,     0.35335,     0.35435,     0.35536,     0.35636,     0.35736,     0.35836,     0.35936,\n",
              "           0.36036,     0.36136,     0.36236,     0.36336,     0.36436,     0.36537,     0.36637,     0.36737,     0.36837,     0.36937,     0.37037,     0.37137,     0.37237,     0.37337,     0.37437,     0.37538,     0.37638,     0.37738,     0.37838,     0.37938,     0.38038,     0.38138,     0.38238,     0.38338,\n",
              "           0.38438,     0.38539,     0.38639,     0.38739,     0.38839,     0.38939,     0.39039,     0.39139,     0.39239,     0.39339,     0.39439,      0.3954,      0.3964,      0.3974,      0.3984,      0.3994,      0.4004,      0.4014,      0.4024,      0.4034,      0.4044,     0.40541,     0.40641,     0.40741,\n",
              "           0.40841,     0.40941,     0.41041,     0.41141,     0.41241,     0.41341,     0.41441,     0.41542,     0.41642,     0.41742,     0.41842,     0.41942,     0.42042,     0.42142,     0.42242,     0.42342,     0.42442,     0.42543,     0.42643,     0.42743,     0.42843,     0.42943,     0.43043,     0.43143,\n",
              "           0.43243,     0.43343,     0.43443,     0.43544,     0.43644,     0.43744,     0.43844,     0.43944,     0.44044,     0.44144,     0.44244,     0.44344,     0.44444,     0.44545,     0.44645,     0.44745,     0.44845,     0.44945,     0.45045,     0.45145,     0.45245,     0.45345,     0.45445,     0.45546,\n",
              "           0.45646,     0.45746,     0.45846,     0.45946,     0.46046,     0.46146,     0.46246,     0.46346,     0.46446,     0.46547,     0.46647,     0.46747,     0.46847,     0.46947,     0.47047,     0.47147,     0.47247,     0.47347,     0.47447,     0.47548,     0.47648,     0.47748,     0.47848,     0.47948,\n",
              "           0.48048,     0.48148,     0.48248,     0.48348,     0.48448,     0.48549,     0.48649,     0.48749,     0.48849,     0.48949,     0.49049,     0.49149,     0.49249,     0.49349,     0.49449,      0.4955,      0.4965,      0.4975,      0.4985,      0.4995,      0.5005,      0.5015,      0.5025,      0.5035,\n",
              "            0.5045,     0.50551,     0.50651,     0.50751,     0.50851,     0.50951,     0.51051,     0.51151,     0.51251,     0.51351,     0.51451,     0.51552,     0.51652,     0.51752,     0.51852,     0.51952,     0.52052,     0.52152,     0.52252,     0.52352,     0.52452,     0.52553,     0.52653,     0.52753,\n",
              "           0.52853,     0.52953,     0.53053,     0.53153,     0.53253,     0.53353,     0.53453,     0.53554,     0.53654,     0.53754,     0.53854,     0.53954,     0.54054,     0.54154,     0.54254,     0.54354,     0.54454,     0.54555,     0.54655,     0.54755,     0.54855,     0.54955,     0.55055,     0.55155,\n",
              "           0.55255,     0.55355,     0.55455,     0.55556,     0.55656,     0.55756,     0.55856,     0.55956,     0.56056,     0.56156,     0.56256,     0.56356,     0.56456,     0.56557,     0.56657,     0.56757,     0.56857,     0.56957,     0.57057,     0.57157,     0.57257,     0.57357,     0.57457,     0.57558,\n",
              "           0.57658,     0.57758,     0.57858,     0.57958,     0.58058,     0.58158,     0.58258,     0.58358,     0.58458,     0.58559,     0.58659,     0.58759,     0.58859,     0.58959,     0.59059,     0.59159,     0.59259,     0.59359,     0.59459,      0.5956,      0.5966,      0.5976,      0.5986,      0.5996,\n",
              "            0.6006,      0.6016,      0.6026,      0.6036,      0.6046,     0.60561,     0.60661,     0.60761,     0.60861,     0.60961,     0.61061,     0.61161,     0.61261,     0.61361,     0.61461,     0.61562,     0.61662,     0.61762,     0.61862,     0.61962,     0.62062,     0.62162,     0.62262,     0.62362,\n",
              "           0.62462,     0.62563,     0.62663,     0.62763,     0.62863,     0.62963,     0.63063,     0.63163,     0.63263,     0.63363,     0.63463,     0.63564,     0.63664,     0.63764,     0.63864,     0.63964,     0.64064,     0.64164,     0.64264,     0.64364,     0.64464,     0.64565,     0.64665,     0.64765,\n",
              "           0.64865,     0.64965,     0.65065,     0.65165,     0.65265,     0.65365,     0.65465,     0.65566,     0.65666,     0.65766,     0.65866,     0.65966,     0.66066,     0.66166,     0.66266,     0.66366,     0.66466,     0.66567,     0.66667,     0.66767,     0.66867,     0.66967,     0.67067,     0.67167,\n",
              "           0.67267,     0.67367,     0.67467,     0.67568,     0.67668,     0.67768,     0.67868,     0.67968,     0.68068,     0.68168,     0.68268,     0.68368,     0.68468,     0.68569,     0.68669,     0.68769,     0.68869,     0.68969,     0.69069,     0.69169,     0.69269,     0.69369,     0.69469,      0.6957,\n",
              "            0.6967,      0.6977,      0.6987,      0.6997,      0.7007,      0.7017,      0.7027,      0.7037,      0.7047,     0.70571,     0.70671,     0.70771,     0.70871,     0.70971,     0.71071,     0.71171,     0.71271,     0.71371,     0.71471,     0.71572,     0.71672,     0.71772,     0.71872,     0.71972,\n",
              "           0.72072,     0.72172,     0.72272,     0.72372,     0.72472,     0.72573,     0.72673,     0.72773,     0.72873,     0.72973,     0.73073,     0.73173,     0.73273,     0.73373,     0.73473,     0.73574,     0.73674,     0.73774,     0.73874,     0.73974,     0.74074,     0.74174,     0.74274,     0.74374,\n",
              "           0.74474,     0.74575,     0.74675,     0.74775,     0.74875,     0.74975,     0.75075,     0.75175,     0.75275,     0.75375,     0.75475,     0.75576,     0.75676,     0.75776,     0.75876,     0.75976,     0.76076,     0.76176,     0.76276,     0.76376,     0.76476,     0.76577,     0.76677,     0.76777,\n",
              "           0.76877,     0.76977,     0.77077,     0.77177,     0.77277,     0.77377,     0.77477,     0.77578,     0.77678,     0.77778,     0.77878,     0.77978,     0.78078,     0.78178,     0.78278,     0.78378,     0.78478,     0.78579,     0.78679,     0.78779,     0.78879,     0.78979,     0.79079,     0.79179,\n",
              "           0.79279,     0.79379,     0.79479,      0.7958,      0.7968,      0.7978,      0.7988,      0.7998,      0.8008,      0.8018,      0.8028,      0.8038,      0.8048,     0.80581,     0.80681,     0.80781,     0.80881,     0.80981,     0.81081,     0.81181,     0.81281,     0.81381,     0.81481,     0.81582,\n",
              "           0.81682,     0.81782,     0.81882,     0.81982,     0.82082,     0.82182,     0.82282,     0.82382,     0.82482,     0.82583,     0.82683,     0.82783,     0.82883,     0.82983,     0.83083,     0.83183,     0.83283,     0.83383,     0.83483,     0.83584,     0.83684,     0.83784,     0.83884,     0.83984,\n",
              "           0.84084,     0.84184,     0.84284,     0.84384,     0.84484,     0.84585,     0.84685,     0.84785,     0.84885,     0.84985,     0.85085,     0.85185,     0.85285,     0.85385,     0.85485,     0.85586,     0.85686,     0.85786,     0.85886,     0.85986,     0.86086,     0.86186,     0.86286,     0.86386,\n",
              "           0.86486,     0.86587,     0.86687,     0.86787,     0.86887,     0.86987,     0.87087,     0.87187,     0.87287,     0.87387,     0.87487,     0.87588,     0.87688,     0.87788,     0.87888,     0.87988,     0.88088,     0.88188,     0.88288,     0.88388,     0.88488,     0.88589,     0.88689,     0.88789,\n",
              "           0.88889,     0.88989,     0.89089,     0.89189,     0.89289,     0.89389,     0.89489,      0.8959,      0.8969,      0.8979,      0.8989,      0.8999,      0.9009,      0.9019,      0.9029,      0.9039,      0.9049,     0.90591,     0.90691,     0.90791,     0.90891,     0.90991,     0.91091,     0.91191,\n",
              "           0.91291,     0.91391,     0.91491,     0.91592,     0.91692,     0.91792,     0.91892,     0.91992,     0.92092,     0.92192,     0.92292,     0.92392,     0.92492,     0.92593,     0.92693,     0.92793,     0.92893,     0.92993,     0.93093,     0.93193,     0.93293,     0.93393,     0.93493,     0.93594,\n",
              "           0.93694,     0.93794,     0.93894,     0.93994,     0.94094,     0.94194,     0.94294,     0.94394,     0.94494,     0.94595,     0.94695,     0.94795,     0.94895,     0.94995,     0.95095,     0.95195,     0.95295,     0.95395,     0.95495,     0.95596,     0.95696,     0.95796,     0.95896,     0.95996,\n",
              "           0.96096,     0.96196,     0.96296,     0.96396,     0.96496,     0.96597,     0.96697,     0.96797,     0.96897,     0.96997,     0.97097,     0.97197,     0.97297,     0.97397,     0.97497,     0.97598,     0.97698,     0.97798,     0.97898,     0.97998,     0.98098,     0.98198,     0.98298,     0.98398,\n",
              "           0.98498,     0.98599,     0.98699,     0.98799,     0.98899,     0.98999,     0.99099,     0.99199,     0.99299,     0.99399,     0.99499,       0.996,       0.997,       0.998,       0.999,           1]), array([[          1,           1,           1,           1,           1,           1,           1,           1,           1,           1,           1,           1,           1,           1,           1,           1,           1,           1,           1,           1,           1,           1,           1,\n",
              "                  1,           1,           1,           1,           1,           1,           1,           1,           1,           1,           1,           1,           1,           1,           1,           1,           1,           1,           1,           1,           1,           1,           1,\n",
              "                  1,           1,           1,           1,           1,           1,           1,           1,           1,           1,           1,           1,           1,           1,           1,           1,           1,           1,           1,           1,           1,           1,           1,\n",
              "                  1,           1,           1,           1,           1,           1,           1,           1,           1,           1,           1,           1,           1,           1,           1,           1,           1,           1,           1,           1,           1,           1,           1,\n",
              "                  1,           1,           1,           1,           1,           1,           1,           1,           1,           1,           1,           1,           1,           1,           1,           1,           1,           1,           1,           1,           1,           1,           1,\n",
              "                  1,           1,           1,           1,           1,           1,           1,           1,           1,           1,           1,           1,           1,           1,           1,           1,           1,           1,           1,           1,           1,           1,           1,\n",
              "                  1,           1,           1,           1,           1,           1,           1,           1,           1,           1,           1,           1,           1,           1,           1,           1,           1,           1,           1,           1,           1,           1,           1,\n",
              "                  1,           1,           1,           1,           1,           1,           1,           1,           1,           1,           1,           1,           1,           1,           1,           1,           1,           1,           1,           1,           1,           1,           1,\n",
              "                  1,           1,           1,           1,           1,           1,           1,           1,           1,           1,           1,           1,           1,           1,           1,           1,           1,           1,           1,           1,           1,           1,           1,\n",
              "                  1,           1,           1,     0.99793,     0.99793,     0.99793,     0.99793,     0.99793,     0.99793,     0.99793,     0.99793,     0.99793,     0.99793,     0.99793,     0.99793,     0.99793,     0.99793,     0.99793,     0.99793,     0.99602,     0.99602,     0.99602,     0.99602,\n",
              "            0.99602,     0.99602,     0.99602,     0.99602,     0.99602,     0.99433,     0.99433,     0.99433,     0.99433,     0.99433,     0.99433,     0.99433,     0.99433,     0.99433,     0.99433,     0.99433,     0.99433,     0.99319,     0.99319,     0.99319,     0.99319,     0.99319,     0.99319,\n",
              "            0.99319,     0.99319,     0.99319,     0.99319,     0.99319,     0.99319,     0.99319,     0.99319,     0.99319,     0.99319,     0.99319,     0.99319,     0.99319,     0.99319,     0.99319,     0.99319,     0.99319,     0.99319,     0.99319,     0.99319,     0.99319,     0.99266,     0.99266,\n",
              "            0.99266,     0.99266,     0.99266,     0.99266,     0.99266,     0.99266,     0.99266,     0.99266,     0.99266,     0.99266,     0.99266,     0.99266,     0.99266,     0.99266,     0.99266,     0.99266,     0.99266,     0.99266,     0.99266,     0.99266,     0.99266,     0.99266,     0.99266,\n",
              "            0.99266,     0.99266,     0.99266,     0.99266,     0.99266,     0.99266,     0.99266,     0.99266,     0.99266,     0.99266,     0.99266,     0.99266,     0.99266,     0.99266,     0.99266,     0.99266,     0.99266,     0.99266,      0.9914,      0.9914,      0.9914,      0.9914,      0.9914,\n",
              "             0.9914,      0.9914,      0.9914,     0.99014,     0.99014,     0.99014,     0.99014,     0.99014,     0.98887,     0.98887,     0.98887,     0.98887,     0.98822,     0.98822,     0.98822,     0.98822,     0.98822,     0.98822,     0.98822,     0.98822,     0.98822,     0.98822,     0.98822,\n",
              "            0.98822,     0.98822,     0.98822,     0.98822,     0.98822,     0.98822,     0.98822,     0.98822,     0.98822,     0.98711,     0.98711,     0.98711,     0.98711,     0.98711,     0.98597,     0.98597,     0.98597,     0.98597,     0.98552,     0.98552,     0.98552,     0.98552,     0.98552,\n",
              "            0.98552,     0.98552,     0.98552,     0.98552,     0.98552,     0.98552,     0.98552,     0.98552,     0.98552,     0.98552,     0.98552,     0.98552,     0.98552,     0.98552,     0.98552,     0.98538,     0.98538,     0.98538,     0.98538,     0.98538,     0.98538,     0.98538,     0.98538,\n",
              "            0.98538,     0.98538,     0.98538,     0.98538,     0.98538,     0.98538,     0.98538,     0.98538,     0.98538,     0.98538,     0.98538,     0.98538,     0.98538,     0.98538,     0.98538,     0.98538,     0.98538,     0.98538,     0.98538,     0.98538,     0.98438,     0.98438,     0.98438,\n",
              "            0.98438,     0.98438,     0.98438,     0.98438,     0.98438,     0.98438,     0.98438,     0.98438,     0.98438,     0.98438,     0.98438,     0.98438,     0.98438,     0.98438,     0.98438,     0.98438,     0.98438,     0.98438,     0.98438,     0.98438,     0.98438,     0.98438,     0.98438,\n",
              "            0.98438,     0.98438,     0.98438,     0.98438,     0.98438,     0.98438,      0.9837,      0.9837,      0.9837,      0.9837,      0.9837,      0.9837,      0.9837,      0.9837,      0.9837,      0.9837,      0.9837,      0.9837,      0.9837,      0.9837,      0.9837,      0.9837,      0.9837,\n",
              "             0.9837,      0.9837,      0.9837,      0.9837,      0.9837,      0.9837,      0.9837,      0.9837,      0.9837,      0.9837,      0.9837,      0.9837,      0.9837,      0.9837,      0.9837,      0.9837,      0.9837,      0.9837,      0.9837,      0.9837,      0.9837,     0.98336,     0.98336,\n",
              "            0.98336,     0.98336,     0.98336,     0.98336,     0.98336,     0.98336,     0.98336,     0.98336,     0.98336,     0.98336,     0.98336,     0.98336,     0.98336,     0.98336,     0.98336,     0.98336,     0.98277,     0.98277,     0.98277,     0.98277,     0.98277,     0.98277,     0.98277,\n",
              "            0.98277,     0.98277,     0.98253,     0.98253,     0.98253,     0.98253,     0.98253,     0.98253,     0.98253,     0.98253,     0.98253,     0.98253,     0.98253,     0.98253,     0.98253,     0.98253,     0.98253,     0.98253,     0.98253,     0.98253,     0.98253,     0.98253,     0.98241,\n",
              "            0.98241,     0.98241,     0.98241,     0.98241,     0.98241,     0.98241,     0.98241,     0.98241,     0.98241,     0.98241,     0.98241,     0.98241,     0.98241,     0.98241,     0.98241,     0.98241,     0.98241,     0.98241,     0.98241,     0.98241,     0.98241,     0.98241,     0.98241,\n",
              "            0.98241,     0.98241,     0.98241,     0.98241,     0.98241,     0.98241,     0.98241,     0.98241,     0.98241,     0.98241,     0.98241,     0.98241,     0.98241,     0.98241,     0.98241,     0.98241,     0.98241,     0.98241,     0.98241,     0.98241,     0.98241,     0.98241,     0.98241,\n",
              "            0.98241,     0.98176,     0.98176,     0.98176,     0.98176,     0.98176,     0.98113,     0.98113,     0.98113,     0.98113,     0.98086,     0.98086,     0.98086,     0.98086,     0.98086,     0.98086,     0.98086,     0.98086,     0.98086,     0.98086,     0.98086,     0.98086,     0.98086,\n",
              "            0.98086,     0.98086,     0.98086,     0.98084,     0.98084,     0.98084,     0.98084,     0.98084,     0.98084,     0.98084,     0.98084,     0.98084,     0.98084,     0.98084,     0.98084,     0.98084,     0.98084,     0.98084,     0.98084,     0.98084,     0.98084,     0.98084,     0.98084,\n",
              "            0.98084,     0.98084,     0.98084,     0.98051,     0.98051,     0.98051,     0.98051,     0.98051,     0.98051,     0.98051,     0.98051,     0.98051,     0.98051,     0.98051,     0.98051,     0.98051,     0.97986,     0.97986,     0.97923,     0.97923,     0.97881,     0.97881,     0.97881,\n",
              "            0.97881,     0.97881,     0.97881,     0.97881,     0.97881,     0.97881,     0.97778,     0.97778,     0.97778,     0.97778,     0.97778,     0.97778,     0.97778,     0.97778,     0.97778,     0.97778,     0.97718,     0.97718,     0.97718,     0.97593,     0.97593,     0.97533,     0.97533,\n",
              "            0.97473,     0.97473,     0.97439,     0.97439,     0.97439,     0.97439,     0.97439,     0.97439,     0.97439,     0.97439,     0.97439,     0.97416,     0.97416,     0.97416,     0.97416,     0.97416,     0.97416,     0.97416,     0.97416,     0.97416,     0.97416,     0.97416,     0.97356,\n",
              "            0.97356,     0.97299,     0.97299,      0.9725,      0.9725,      0.9725,     0.97201,     0.97201,     0.97201,     0.97201,     0.97163,     0.97163,     0.97163,     0.97163,     0.97163,     0.97163,     0.97163,     0.97117,     0.97117,     0.97117,     0.97117,     0.97063,     0.97063,\n",
              "            0.97031,     0.97031,     0.97031,     0.97031,     0.97031,     0.97031,     0.97031,     0.96981,     0.96981,     0.96981,     0.96928,     0.96928,     0.96873,     0.96822,     0.96822,     0.96822,     0.96776,     0.96776,     0.96776,     0.96726,     0.96726,     0.96611,     0.96575,\n",
              "            0.96575,     0.96575,     0.96575,     0.96575,      0.9652,     0.96468,     0.96468,     0.96296,     0.96242,     0.96135,     0.96082,     0.96031,     0.96031,     0.95981,      0.9594,      0.9594,      0.9594,     0.95888,     0.95836,     0.95784,     0.95732,     0.95398,     0.95347,\n",
              "              0.953,       0.953,     0.95141,      0.9498,     0.94764,     0.94496,     0.94342,     0.94074,     0.93865,     0.93822,     0.93668,     0.93197,     0.92998,     0.92958,     0.92958,     0.92809,     0.92769,     0.92522,     0.92492,     0.92492,     0.92492,     0.92397,     0.92308,\n",
              "             0.9221,     0.92172,     0.92079,     0.91685,     0.91453,     0.91453,     0.91314,     0.91229,     0.90792,      0.9067,      0.9067,     0.90342,     0.90256,     0.90122,     0.90085,     0.89952,     0.89308,      0.8904,     0.88589,     0.87918,     0.87443,     0.87315,     0.86886,\n",
              "            0.86462,     0.85452,     0.85297,     0.84934,     0.84865,     0.84424,      0.8407,     0.83478,      0.8311,     0.82999,     0.82739,     0.82677,      0.8161,     0.80871,     0.80627,     0.78616,     0.78085,     0.76504,     0.76491,     0.76323,     0.76036,     0.75861,      0.7517,\n",
              "            0.73372,     0.73353,     0.72474,     0.71648,     0.70673,     0.70166,     0.70079,     0.69894,     0.69026,     0.68024,     0.67765,     0.66506,     0.66016,     0.65775,     0.64501,     0.63158,     0.62461,     0.61277,     0.61075,     0.60937,     0.60637,     0.60199,      0.5945,\n",
              "            0.59282,     0.57418,     0.56483,     0.54654,     0.54654,     0.54294,     0.54032,     0.52948,     0.50902,     0.49421,     0.48153,      0.4773,     0.46692,     0.46332,     0.44442,     0.43712,     0.42552,     0.41566,     0.41314,     0.39961,     0.39562,     0.38586,     0.37634,\n",
              "            0.36629,     0.36527,     0.35752,     0.35752,     0.35015,     0.34902,      0.3353,     0.33375,     0.32885,     0.32014,     0.31704,     0.31146,     0.30131,     0.29802,      0.2921,     0.29137,      0.2899,     0.28503,     0.27678,     0.27236,     0.26771,     0.25579,     0.25161,\n",
              "            0.24783,     0.24257,     0.24102,     0.23684,     0.23494,     0.22528,     0.22476,     0.21593,      0.2088,     0.20687,     0.20552,     0.20447,      0.2011,     0.17624,     0.17269,     0.16658,     0.16261,     0.16116,     0.15233,     0.15064,     0.14803,     0.14391,     0.13638,\n",
              "            0.13301,     0.12888,      0.1263,     0.12406,     0.11916,     0.10833,     0.10513,    0.098048,    0.088635,    0.081074,    0.079115,    0.075348,    0.068906,    0.067537,    0.066132,    0.060268,    0.059326,    0.058384,    0.057443,    0.056501,    0.055559,    0.054617,    0.053676,\n",
              "           0.052734,    0.051792,    0.050851,    0.049909,    0.048967,    0.048026,    0.047084,    0.046142,    0.045201,    0.044259,    0.043317,    0.042376,    0.041434,    0.040492,    0.039551,    0.038609,    0.037667,    0.036726,    0.035784,    0.034842,    0.033901,    0.032959,    0.032017,\n",
              "           0.031075,    0.030134,    0.029192,     0.02825,    0.027309,    0.026367,    0.025425,    0.024484,    0.023542,      0.0226,    0.021659,    0.020717,    0.019775,    0.018834,    0.017892,     0.01695,    0.016009,    0.015067,    0.014125,    0.013184,    0.012242,      0.0113,    0.010358,\n",
              "          0.0094168,   0.0084751,   0.0075334,   0.0065918,   0.0056501,   0.0047084,   0.0037667,    0.002825,   0.0018834,  0.00094168,           0]]), 'Recall', 'Precision'], [array([          0,    0.001001,    0.002002,    0.003003,    0.004004,    0.005005,    0.006006,    0.007007,    0.008008,    0.009009,     0.01001,    0.011011,    0.012012,    0.013013,    0.014014,    0.015015,    0.016016,    0.017017,    0.018018,    0.019019,     0.02002,    0.021021,    0.022022,    0.023023,\n",
              "          0.024024,    0.025025,    0.026026,    0.027027,    0.028028,    0.029029,     0.03003,    0.031031,    0.032032,    0.033033,    0.034034,    0.035035,    0.036036,    0.037037,    0.038038,    0.039039,     0.04004,    0.041041,    0.042042,    0.043043,    0.044044,    0.045045,    0.046046,    0.047047,\n",
              "          0.048048,    0.049049,     0.05005,    0.051051,    0.052052,    0.053053,    0.054054,    0.055055,    0.056056,    0.057057,    0.058058,    0.059059,     0.06006,    0.061061,    0.062062,    0.063063,    0.064064,    0.065065,    0.066066,    0.067067,    0.068068,    0.069069,     0.07007,    0.071071,\n",
              "          0.072072,    0.073073,    0.074074,    0.075075,    0.076076,    0.077077,    0.078078,    0.079079,     0.08008,    0.081081,    0.082082,    0.083083,    0.084084,    0.085085,    0.086086,    0.087087,    0.088088,    0.089089,     0.09009,    0.091091,    0.092092,    0.093093,    0.094094,    0.095095,\n",
              "          0.096096,    0.097097,    0.098098,    0.099099,      0.1001,      0.1011,      0.1021,      0.1031,      0.1041,     0.10511,     0.10611,     0.10711,     0.10811,     0.10911,     0.11011,     0.11111,     0.11211,     0.11311,     0.11411,     0.11512,     0.11612,     0.11712,     0.11812,     0.11912,\n",
              "           0.12012,     0.12112,     0.12212,     0.12312,     0.12412,     0.12513,     0.12613,     0.12713,     0.12813,     0.12913,     0.13013,     0.13113,     0.13213,     0.13313,     0.13413,     0.13514,     0.13614,     0.13714,     0.13814,     0.13914,     0.14014,     0.14114,     0.14214,     0.14314,\n",
              "           0.14414,     0.14515,     0.14615,     0.14715,     0.14815,     0.14915,     0.15015,     0.15115,     0.15215,     0.15315,     0.15415,     0.15516,     0.15616,     0.15716,     0.15816,     0.15916,     0.16016,     0.16116,     0.16216,     0.16316,     0.16416,     0.16517,     0.16617,     0.16717,\n",
              "           0.16817,     0.16917,     0.17017,     0.17117,     0.17217,     0.17317,     0.17417,     0.17518,     0.17618,     0.17718,     0.17818,     0.17918,     0.18018,     0.18118,     0.18218,     0.18318,     0.18418,     0.18519,     0.18619,     0.18719,     0.18819,     0.18919,     0.19019,     0.19119,\n",
              "           0.19219,     0.19319,     0.19419,      0.1952,      0.1962,      0.1972,      0.1982,      0.1992,      0.2002,      0.2012,      0.2022,      0.2032,      0.2042,     0.20521,     0.20621,     0.20721,     0.20821,     0.20921,     0.21021,     0.21121,     0.21221,     0.21321,     0.21421,     0.21522,\n",
              "           0.21622,     0.21722,     0.21822,     0.21922,     0.22022,     0.22122,     0.22222,     0.22322,     0.22422,     0.22523,     0.22623,     0.22723,     0.22823,     0.22923,     0.23023,     0.23123,     0.23223,     0.23323,     0.23423,     0.23524,     0.23624,     0.23724,     0.23824,     0.23924,\n",
              "           0.24024,     0.24124,     0.24224,     0.24324,     0.24424,     0.24525,     0.24625,     0.24725,     0.24825,     0.24925,     0.25025,     0.25125,     0.25225,     0.25325,     0.25425,     0.25526,     0.25626,     0.25726,     0.25826,     0.25926,     0.26026,     0.26126,     0.26226,     0.26326,\n",
              "           0.26426,     0.26527,     0.26627,     0.26727,     0.26827,     0.26927,     0.27027,     0.27127,     0.27227,     0.27327,     0.27427,     0.27528,     0.27628,     0.27728,     0.27828,     0.27928,     0.28028,     0.28128,     0.28228,     0.28328,     0.28428,     0.28529,     0.28629,     0.28729,\n",
              "           0.28829,     0.28929,     0.29029,     0.29129,     0.29229,     0.29329,     0.29429,      0.2953,      0.2963,      0.2973,      0.2983,      0.2993,      0.3003,      0.3013,      0.3023,      0.3033,      0.3043,     0.30531,     0.30631,     0.30731,     0.30831,     0.30931,     0.31031,     0.31131,\n",
              "           0.31231,     0.31331,     0.31431,     0.31532,     0.31632,     0.31732,     0.31832,     0.31932,     0.32032,     0.32132,     0.32232,     0.32332,     0.32432,     0.32533,     0.32633,     0.32733,     0.32833,     0.32933,     0.33033,     0.33133,     0.33233,     0.33333,     0.33433,     0.33534,\n",
              "           0.33634,     0.33734,     0.33834,     0.33934,     0.34034,     0.34134,     0.34234,     0.34334,     0.34434,     0.34535,     0.34635,     0.34735,     0.34835,     0.34935,     0.35035,     0.35135,     0.35235,     0.35335,     0.35435,     0.35536,     0.35636,     0.35736,     0.35836,     0.35936,\n",
              "           0.36036,     0.36136,     0.36236,     0.36336,     0.36436,     0.36537,     0.36637,     0.36737,     0.36837,     0.36937,     0.37037,     0.37137,     0.37237,     0.37337,     0.37437,     0.37538,     0.37638,     0.37738,     0.37838,     0.37938,     0.38038,     0.38138,     0.38238,     0.38338,\n",
              "           0.38438,     0.38539,     0.38639,     0.38739,     0.38839,     0.38939,     0.39039,     0.39139,     0.39239,     0.39339,     0.39439,      0.3954,      0.3964,      0.3974,      0.3984,      0.3994,      0.4004,      0.4014,      0.4024,      0.4034,      0.4044,     0.40541,     0.40641,     0.40741,\n",
              "           0.40841,     0.40941,     0.41041,     0.41141,     0.41241,     0.41341,     0.41441,     0.41542,     0.41642,     0.41742,     0.41842,     0.41942,     0.42042,     0.42142,     0.42242,     0.42342,     0.42442,     0.42543,     0.42643,     0.42743,     0.42843,     0.42943,     0.43043,     0.43143,\n",
              "           0.43243,     0.43343,     0.43443,     0.43544,     0.43644,     0.43744,     0.43844,     0.43944,     0.44044,     0.44144,     0.44244,     0.44344,     0.44444,     0.44545,     0.44645,     0.44745,     0.44845,     0.44945,     0.45045,     0.45145,     0.45245,     0.45345,     0.45445,     0.45546,\n",
              "           0.45646,     0.45746,     0.45846,     0.45946,     0.46046,     0.46146,     0.46246,     0.46346,     0.46446,     0.46547,     0.46647,     0.46747,     0.46847,     0.46947,     0.47047,     0.47147,     0.47247,     0.47347,     0.47447,     0.47548,     0.47648,     0.47748,     0.47848,     0.47948,\n",
              "           0.48048,     0.48148,     0.48248,     0.48348,     0.48448,     0.48549,     0.48649,     0.48749,     0.48849,     0.48949,     0.49049,     0.49149,     0.49249,     0.49349,     0.49449,      0.4955,      0.4965,      0.4975,      0.4985,      0.4995,      0.5005,      0.5015,      0.5025,      0.5035,\n",
              "            0.5045,     0.50551,     0.50651,     0.50751,     0.50851,     0.50951,     0.51051,     0.51151,     0.51251,     0.51351,     0.51451,     0.51552,     0.51652,     0.51752,     0.51852,     0.51952,     0.52052,     0.52152,     0.52252,     0.52352,     0.52452,     0.52553,     0.52653,     0.52753,\n",
              "           0.52853,     0.52953,     0.53053,     0.53153,     0.53253,     0.53353,     0.53453,     0.53554,     0.53654,     0.53754,     0.53854,     0.53954,     0.54054,     0.54154,     0.54254,     0.54354,     0.54454,     0.54555,     0.54655,     0.54755,     0.54855,     0.54955,     0.55055,     0.55155,\n",
              "           0.55255,     0.55355,     0.55455,     0.55556,     0.55656,     0.55756,     0.55856,     0.55956,     0.56056,     0.56156,     0.56256,     0.56356,     0.56456,     0.56557,     0.56657,     0.56757,     0.56857,     0.56957,     0.57057,     0.57157,     0.57257,     0.57357,     0.57457,     0.57558,\n",
              "           0.57658,     0.57758,     0.57858,     0.57958,     0.58058,     0.58158,     0.58258,     0.58358,     0.58458,     0.58559,     0.58659,     0.58759,     0.58859,     0.58959,     0.59059,     0.59159,     0.59259,     0.59359,     0.59459,      0.5956,      0.5966,      0.5976,      0.5986,      0.5996,\n",
              "            0.6006,      0.6016,      0.6026,      0.6036,      0.6046,     0.60561,     0.60661,     0.60761,     0.60861,     0.60961,     0.61061,     0.61161,     0.61261,     0.61361,     0.61461,     0.61562,     0.61662,     0.61762,     0.61862,     0.61962,     0.62062,     0.62162,     0.62262,     0.62362,\n",
              "           0.62462,     0.62563,     0.62663,     0.62763,     0.62863,     0.62963,     0.63063,     0.63163,     0.63263,     0.63363,     0.63463,     0.63564,     0.63664,     0.63764,     0.63864,     0.63964,     0.64064,     0.64164,     0.64264,     0.64364,     0.64464,     0.64565,     0.64665,     0.64765,\n",
              "           0.64865,     0.64965,     0.65065,     0.65165,     0.65265,     0.65365,     0.65465,     0.65566,     0.65666,     0.65766,     0.65866,     0.65966,     0.66066,     0.66166,     0.66266,     0.66366,     0.66466,     0.66567,     0.66667,     0.66767,     0.66867,     0.66967,     0.67067,     0.67167,\n",
              "           0.67267,     0.67367,     0.67467,     0.67568,     0.67668,     0.67768,     0.67868,     0.67968,     0.68068,     0.68168,     0.68268,     0.68368,     0.68468,     0.68569,     0.68669,     0.68769,     0.68869,     0.68969,     0.69069,     0.69169,     0.69269,     0.69369,     0.69469,      0.6957,\n",
              "            0.6967,      0.6977,      0.6987,      0.6997,      0.7007,      0.7017,      0.7027,      0.7037,      0.7047,     0.70571,     0.70671,     0.70771,     0.70871,     0.70971,     0.71071,     0.71171,     0.71271,     0.71371,     0.71471,     0.71572,     0.71672,     0.71772,     0.71872,     0.71972,\n",
              "           0.72072,     0.72172,     0.72272,     0.72372,     0.72472,     0.72573,     0.72673,     0.72773,     0.72873,     0.72973,     0.73073,     0.73173,     0.73273,     0.73373,     0.73473,     0.73574,     0.73674,     0.73774,     0.73874,     0.73974,     0.74074,     0.74174,     0.74274,     0.74374,\n",
              "           0.74474,     0.74575,     0.74675,     0.74775,     0.74875,     0.74975,     0.75075,     0.75175,     0.75275,     0.75375,     0.75475,     0.75576,     0.75676,     0.75776,     0.75876,     0.75976,     0.76076,     0.76176,     0.76276,     0.76376,     0.76476,     0.76577,     0.76677,     0.76777,\n",
              "           0.76877,     0.76977,     0.77077,     0.77177,     0.77277,     0.77377,     0.77477,     0.77578,     0.77678,     0.77778,     0.77878,     0.77978,     0.78078,     0.78178,     0.78278,     0.78378,     0.78478,     0.78579,     0.78679,     0.78779,     0.78879,     0.78979,     0.79079,     0.79179,\n",
              "           0.79279,     0.79379,     0.79479,      0.7958,      0.7968,      0.7978,      0.7988,      0.7998,      0.8008,      0.8018,      0.8028,      0.8038,      0.8048,     0.80581,     0.80681,     0.80781,     0.80881,     0.80981,     0.81081,     0.81181,     0.81281,     0.81381,     0.81481,     0.81582,\n",
              "           0.81682,     0.81782,     0.81882,     0.81982,     0.82082,     0.82182,     0.82282,     0.82382,     0.82482,     0.82583,     0.82683,     0.82783,     0.82883,     0.82983,     0.83083,     0.83183,     0.83283,     0.83383,     0.83483,     0.83584,     0.83684,     0.83784,     0.83884,     0.83984,\n",
              "           0.84084,     0.84184,     0.84284,     0.84384,     0.84484,     0.84585,     0.84685,     0.84785,     0.84885,     0.84985,     0.85085,     0.85185,     0.85285,     0.85385,     0.85485,     0.85586,     0.85686,     0.85786,     0.85886,     0.85986,     0.86086,     0.86186,     0.86286,     0.86386,\n",
              "           0.86486,     0.86587,     0.86687,     0.86787,     0.86887,     0.86987,     0.87087,     0.87187,     0.87287,     0.87387,     0.87487,     0.87588,     0.87688,     0.87788,     0.87888,     0.87988,     0.88088,     0.88188,     0.88288,     0.88388,     0.88488,     0.88589,     0.88689,     0.88789,\n",
              "           0.88889,     0.88989,     0.89089,     0.89189,     0.89289,     0.89389,     0.89489,      0.8959,      0.8969,      0.8979,      0.8989,      0.8999,      0.9009,      0.9019,      0.9029,      0.9039,      0.9049,     0.90591,     0.90691,     0.90791,     0.90891,     0.90991,     0.91091,     0.91191,\n",
              "           0.91291,     0.91391,     0.91491,     0.91592,     0.91692,     0.91792,     0.91892,     0.91992,     0.92092,     0.92192,     0.92292,     0.92392,     0.92492,     0.92593,     0.92693,     0.92793,     0.92893,     0.92993,     0.93093,     0.93193,     0.93293,     0.93393,     0.93493,     0.93594,\n",
              "           0.93694,     0.93794,     0.93894,     0.93994,     0.94094,     0.94194,     0.94294,     0.94394,     0.94494,     0.94595,     0.94695,     0.94795,     0.94895,     0.94995,     0.95095,     0.95195,     0.95295,     0.95395,     0.95495,     0.95596,     0.95696,     0.95796,     0.95896,     0.95996,\n",
              "           0.96096,     0.96196,     0.96296,     0.96396,     0.96496,     0.96597,     0.96697,     0.96797,     0.96897,     0.96997,     0.97097,     0.97197,     0.97297,     0.97397,     0.97497,     0.97598,     0.97698,     0.97798,     0.97898,     0.97998,     0.98098,     0.98198,     0.98298,     0.98398,\n",
              "           0.98498,     0.98599,     0.98699,     0.98799,     0.98899,     0.98999,     0.99099,     0.99199,     0.99299,     0.99399,     0.99499,       0.996,       0.997,       0.998,       0.999,           1]), array([[    0.11357,     0.11357,     0.18455,     0.23444,      0.2719,     0.30449,     0.33154,     0.35184,     0.37285,     0.38838,     0.40411,     0.41743,     0.43022,     0.44089,     0.45238,     0.46309,     0.47223,     0.48204,     0.48931,     0.49875,     0.50766,     0.51448,     0.52174,\n",
              "            0.52896,     0.53583,     0.54354,     0.54972,     0.55663,     0.56234,     0.56883,     0.57389,     0.57937,     0.58507,      0.5898,     0.59536,     0.59959,     0.60309,     0.60647,     0.61276,     0.61613,     0.61973,     0.62286,     0.62708,     0.63082,     0.63542,     0.63994,\n",
              "            0.64509,      0.6479,     0.65128,     0.65488,     0.65792,     0.66156,     0.66522,      0.6666,     0.66992,     0.67224,     0.67536,     0.67807,     0.68071,     0.68339,     0.68613,     0.68895,      0.6913,     0.69324,     0.69581,     0.69784,     0.70008,     0.70189,     0.70466,\n",
              "             0.7057,     0.70775,     0.70906,     0.70992,      0.7121,     0.71497,     0.71653,      0.7182,     0.71941,      0.7216,     0.72296,     0.72471,     0.72683,      0.7284,     0.73106,     0.73296,     0.73501,      0.7357,     0.73656,     0.73833,      0.7392,     0.74019,     0.74133,\n",
              "            0.74263,     0.74432,     0.74566,     0.74825,     0.74992,     0.75125,      0.7527,     0.75362,     0.75521,     0.75683,      0.7589,     0.76031,     0.76113,     0.76184,     0.76218,     0.76244,     0.76347,     0.76467,     0.76557,      0.7662,      0.7684,     0.76879,     0.76973,\n",
              "            0.77068,     0.77191,     0.77293,     0.77417,     0.77505,     0.77671,     0.77728,      0.7787,     0.77872,     0.77955,     0.78038,     0.78139,     0.78266,     0.78395,     0.78505,     0.78646,     0.78791,     0.78822,     0.78916,     0.79004,     0.79107,     0.79129,      0.7921,\n",
              "            0.79304,     0.79277,     0.79327,     0.79328,     0.79445,     0.79499,     0.79609,     0.79791,     0.79937,     0.80066,     0.80094,     0.80178,      0.8025,     0.80281,     0.80296,      0.8036,     0.80418,     0.80443,     0.80544,       0.806,     0.80617,     0.80692,     0.80832,\n",
              "             0.8096,      0.8104,     0.81071,     0.81111,     0.81183,     0.81238,     0.81309,     0.81307,     0.81352,     0.81384,     0.81423,     0.81525,     0.81575,     0.81667,       0.818,     0.81881,     0.81936,     0.82028,     0.82099,     0.82174,     0.82138,     0.82144,      0.8217,\n",
              "            0.82156,     0.82201,      0.8224,     0.82221,     0.82292,     0.82302,     0.82361,     0.82395,     0.82406,     0.82587,     0.82603,     0.82652,     0.82669,     0.82701,     0.82761,     0.82794,     0.82846,     0.82863,     0.82858,     0.82923,       0.829,     0.82948,     0.83017,\n",
              "            0.83061,     0.83215,     0.83284,     0.83377,     0.83396,     0.83476,     0.83519,     0.83538,      0.8355,     0.83541,     0.83615,     0.83665,     0.83695,     0.83698,     0.83691,     0.83708,     0.83675,     0.83809,     0.83858,     0.83882,     0.83953,     0.84045,     0.84095,\n",
              "            0.84097,     0.84112,     0.84149,     0.84198,      0.8422,     0.84251,     0.84279,     0.84291,      0.8431,     0.84345,     0.84343,     0.84335,     0.84404,     0.84419,     0.84476,     0.84546,     0.84541,     0.84555,      0.8456,     0.84516,     0.84523,      0.8453,     0.84525,\n",
              "            0.84483,      0.8451,     0.84554,     0.84618,     0.84598,     0.84612,     0.84566,     0.84536,     0.84539,     0.84512,     0.84527,     0.84509,     0.84568,     0.84578,     0.84588,     0.84678,      0.8469,      0.8467,     0.84657,     0.84638,     0.84626,     0.84603,     0.84581,\n",
              "            0.84573,     0.84618,      0.8467,     0.84723,     0.84716,     0.84721,      0.8465,     0.84642,     0.84637,     0.84635,     0.84566,     0.84501,     0.84488,     0.84418,     0.84482,     0.84514,     0.84474,     0.84454,     0.84424,     0.84423,     0.84381,     0.84357,     0.84401,\n",
              "            0.84393,     0.84411,     0.84437,     0.84475,     0.84489,      0.8452,     0.84461,     0.84449,     0.84447,     0.84457,     0.84492,     0.84475,     0.84504,     0.84574,     0.84512,     0.84516,     0.84536,     0.84514,     0.84503,     0.84492,     0.84594,     0.84575,     0.84588,\n",
              "             0.8458,     0.84626,     0.84632,     0.84549,     0.84598,     0.84564,     0.84522,     0.84483,     0.84494,     0.84483,     0.84469,     0.84452,     0.84507,      0.8453,      0.8455,     0.84519,     0.84532,     0.84484,     0.84495,     0.84479,     0.84437,      0.8436,      0.8433,\n",
              "            0.84313,      0.8422,     0.84215,     0.84181,     0.84157,     0.84124,     0.84113,     0.84073,     0.84089,     0.84073,     0.84048,      0.8404,     0.84051,     0.84026,     0.83994,     0.83932,     0.83945,     0.83967,     0.83932,     0.83888,     0.83912,     0.83935,     0.83853,\n",
              "            0.83861,     0.83873,     0.83733,     0.83701,     0.83612,     0.83593,     0.83536,     0.83496,      0.8349,     0.83469,     0.83395,     0.83384,     0.83364,     0.83324,     0.83266,      0.8325,     0.83154,     0.83152,     0.83085,     0.83053,     0.83012,     0.82948,      0.8293,\n",
              "            0.82867,     0.82838,     0.82731,     0.82713,     0.82689,     0.82679,     0.82685,     0.82669,     0.82487,     0.82417,      0.8235,     0.82254,     0.82221,     0.82189,     0.82115,     0.82008,     0.81839,     0.81818,     0.81796,     0.81699,     0.81633,       0.816,     0.81503,\n",
              "            0.81466,     0.81429,     0.81364,     0.81347,     0.81319,     0.81286,     0.81188,     0.81079,     0.81057,     0.81004,     0.80912,     0.80927,     0.80894,     0.80863,     0.80846,     0.80806,     0.80749,     0.80672,     0.80573,     0.80506,     0.80412,     0.80393,     0.80232,\n",
              "            0.80165,     0.80065,     0.80031,     0.79964,     0.79973,     0.79918,     0.79864,     0.79847,     0.79764,     0.79747,     0.79614,     0.79546,     0.79478,     0.79444,     0.79427,     0.79345,      0.7933,     0.79294,      0.7924,     0.79139,     0.79134,     0.79116,     0.79091,\n",
              "            0.79056,     0.78988,     0.78951,     0.78973,     0.78955,      0.7886,     0.78825,      0.7871,     0.78675,     0.78619,     0.78602,     0.78571,     0.78468,     0.78364,     0.78295,      0.7826,     0.78225,     0.78155,     0.78108,     0.78128,     0.77956,     0.77852,     0.77816,\n",
              "            0.77677,     0.77573,     0.77502,     0.77476,     0.77384,     0.77325,     0.77299,     0.77264,     0.77215,     0.77179,     0.77038,     0.76967,     0.76896,      0.7686,     0.76754,     0.76726,     0.76708,     0.76575,     0.76504,     0.76432,     0.76276,      0.7624,     0.76168,\n",
              "            0.76096,     0.76059,     0.76023,        0.76,     0.75981,     0.75949,     0.75877,      0.7584,     0.75768,     0.75675,     0.75657,      0.7555,     0.75513,     0.75405,      0.7526,     0.75078,     0.75041,     0.74932,     0.74749,     0.74676,     0.74565,     0.74477,     0.74403,\n",
              "            0.74255,     0.74144,     0.74033,     0.73922,     0.73847,     0.73809,     0.73698,     0.73511,     0.73399,     0.73314,     0.73307,      0.7312,     0.73007,     0.72878,     0.72839,      0.7265,     0.72596,     0.72482,      0.7233,     0.72101,     0.71986,     0.71833,     0.71641,\n",
              "            0.71525,     0.71486,     0.71408,     0.71292,     0.71137,     0.70846,     0.70768,      0.7065,     0.70572,     0.70415,     0.70375,     0.70257,       0.701,     0.70059,     0.69823,     0.69743,     0.69663,     0.69583,     0.69424,     0.69273,     0.69245,     0.69085,     0.68925,\n",
              "            0.68844,     0.68659,     0.68623,     0.68421,     0.68259,     0.67894,     0.67729,     0.67505,     0.67382,     0.67176,     0.67134,     0.67065,     0.67044,     0.67011,     0.66945,      0.6678,      0.6663,     0.66608,     0.66446,      0.6632,     0.66194,     0.65985,     0.65732,\n",
              "            0.65437,      0.6531,     0.65182,     0.65012,     0.64883,     0.64797,     0.64626,      0.6456,     0.64473,     0.64108,     0.63806,     0.63588,     0.63457,     0.63326,     0.63201,     0.63179,     0.62974,     0.62535,     0.62295,     0.62202,      0.6198,     0.61732,     0.61195,\n",
              "            0.61079,     0.60898,      0.6058,     0.60438,     0.60283,     0.60146,     0.59916,     0.59778,     0.59639,     0.59362,     0.59269,     0.59152,     0.58966,     0.58919,     0.58778,     0.58405,     0.58102,      0.5776,     0.57523,     0.57142,     0.56807,     0.56614,     0.56176,\n",
              "            0.55962,      0.5567,     0.55523,      0.5515,     0.55002,     0.54583,     0.54384,     0.54284,     0.53985,     0.53718,     0.53408,     0.53206,     0.52871,     0.52635,     0.52252,     0.52116,     0.51499,     0.51085,     0.50798,     0.50484,     0.50221,     0.49905,     0.49702,\n",
              "            0.49383,     0.49222,     0.48901,     0.48676,     0.48192,     0.48045,     0.47863,     0.47473,     0.47254,     0.46869,     0.46013,     0.45789,     0.45565,     0.44863,     0.44692,     0.44068,      0.4389,     0.43293,     0.43061,     0.42497,     0.42001,     0.41882,     0.41632,\n",
              "            0.41498,     0.41202,     0.40845,     0.40398,     0.39738,     0.39532,     0.39358,     0.39054,      0.3829,     0.37996,     0.37036,     0.36847,     0.36793,     0.36515,     0.36199,     0.35471,     0.35342,     0.34691,     0.34426,     0.34296,     0.33029,     0.32831,     0.32414,\n",
              "            0.32136,     0.32002,     0.31503,      0.3114,     0.30663,     0.30527,     0.30018,     0.29813,     0.29369,     0.29294,      0.2892,     0.28644,     0.27846,       0.275,     0.27453,     0.26862,     0.26579,     0.26488,     0.26258,     0.25865,     0.25768,     0.25398,     0.25254,\n",
              "            0.24785,     0.24318,      0.2424,     0.23547,      0.2307,     0.23019,     0.22808,     0.22437,     0.22102,     0.22015,      0.2154,     0.21356,     0.21305,     0.21085,     0.20443,     0.20343,     0.19946,     0.19525,     0.19419,     0.19046,     0.18994,     0.18941,     0.18658,\n",
              "            0.18528,      0.1801,     0.17957,     0.17772,     0.17693,     0.17222,      0.1713,     0.16865,     0.16592,     0.16538,     0.16029,     0.15875,     0.15821,     0.15687,     0.15464,     0.15142,     0.15028,     0.14776,     0.13889,      0.1372,     0.13637,     0.13418,     0.13199,\n",
              "            0.12897,      0.1284,     0.12603,     0.12471,     0.12443,     0.12415,     0.12264,     0.12035,     0.11978,     0.11921,     0.11593,     0.11364,     0.11223,     0.11166,     0.10794,      0.1076,     0.10534,     0.10292,    0.098958,    0.096403,    0.095822,    0.094221,    0.093523,\n",
              "           0.090213,    0.088652,    0.088067,    0.086416,    0.085749,    0.084224,    0.082564,    0.081975,    0.080278,    0.078777,    0.077376,    0.076932,    0.075554,    0.074961,    0.072337,    0.069703,    0.069106,    0.068341,    0.067444,    0.066727,     0.06433,    0.062549,    0.061703,\n",
              "           0.061101,    0.059396,     0.05849,    0.056699,    0.055146,    0.054438,    0.051748,    0.049944,     0.04903,    0.048247,    0.047636,    0.046728,     0.04313,    0.042669,     0.04132,    0.041013,    0.040705,    0.039503,    0.039239,    0.038974,     0.03871,    0.038302,    0.037839,\n",
              "           0.036112,    0.034279,     0.03335,    0.031511,    0.030579,    0.030317,    0.030131,    0.029944,    0.029758,    0.029536,    0.028166,    0.027231,    0.025381,    0.023812,    0.023342,    0.022873,    0.022403,    0.021822,    0.021119,    0.020177,    0.019235,    0.018469,    0.018091,\n",
              "           0.017713,    0.016192,    0.015665,    0.015287,    0.014908,    0.014437,    0.013039,     0.01266,     0.01228,     0.01064,    0.010161,   0.0099879,   0.0098148,   0.0096416,   0.0094685,   0.0092953,   0.0091221,   0.0089488,   0.0087755,   0.0086022,   0.0084289,   0.0081986,   0.0079601,\n",
              "          0.0077216,    0.007483,    0.007167,   0.0068487,   0.0065405,   0.0064399,   0.0063393,   0.0062387,   0.0061381,   0.0060375,   0.0059369,   0.0058363,   0.0057357,    0.005635,   0.0054639,   0.0052726,   0.0050813,   0.0048899,   0.0046985,   0.0043922,    0.004073,   0.0037537,   0.0023443,\n",
              "          0.0013846,           0,           0,           0,           0,           0,           0,           0,           0,           0,           0,           0,           0,           0,           0,           0,           0,           0,           0,           0,           0,           0,           0,\n",
              "                  0,           0,           0,           0,           0,           0,           0,           0,           0,           0,           0,           0,           0,           0,           0,           0,           0,           0,           0,           0,           0,           0,           0,\n",
              "                  0,           0,           0,           0,           0,           0,           0,           0,           0,           0,           0,           0,           0,           0,           0,           0,           0,           0,           0,           0,           0,           0,           0,\n",
              "                  0,           0,           0,           0,           0,           0,           0,           0,           0,           0,           0]]), 'Confidence', 'F1'], [array([          0,    0.001001,    0.002002,    0.003003,    0.004004,    0.005005,    0.006006,    0.007007,    0.008008,    0.009009,     0.01001,    0.011011,    0.012012,    0.013013,    0.014014,    0.015015,    0.016016,    0.017017,    0.018018,    0.019019,     0.02002,    0.021021,    0.022022,    0.023023,\n",
              "          0.024024,    0.025025,    0.026026,    0.027027,    0.028028,    0.029029,     0.03003,    0.031031,    0.032032,    0.033033,    0.034034,    0.035035,    0.036036,    0.037037,    0.038038,    0.039039,     0.04004,    0.041041,    0.042042,    0.043043,    0.044044,    0.045045,    0.046046,    0.047047,\n",
              "          0.048048,    0.049049,     0.05005,    0.051051,    0.052052,    0.053053,    0.054054,    0.055055,    0.056056,    0.057057,    0.058058,    0.059059,     0.06006,    0.061061,    0.062062,    0.063063,    0.064064,    0.065065,    0.066066,    0.067067,    0.068068,    0.069069,     0.07007,    0.071071,\n",
              "          0.072072,    0.073073,    0.074074,    0.075075,    0.076076,    0.077077,    0.078078,    0.079079,     0.08008,    0.081081,    0.082082,    0.083083,    0.084084,    0.085085,    0.086086,    0.087087,    0.088088,    0.089089,     0.09009,    0.091091,    0.092092,    0.093093,    0.094094,    0.095095,\n",
              "          0.096096,    0.097097,    0.098098,    0.099099,      0.1001,      0.1011,      0.1021,      0.1031,      0.1041,     0.10511,     0.10611,     0.10711,     0.10811,     0.10911,     0.11011,     0.11111,     0.11211,     0.11311,     0.11411,     0.11512,     0.11612,     0.11712,     0.11812,     0.11912,\n",
              "           0.12012,     0.12112,     0.12212,     0.12312,     0.12412,     0.12513,     0.12613,     0.12713,     0.12813,     0.12913,     0.13013,     0.13113,     0.13213,     0.13313,     0.13413,     0.13514,     0.13614,     0.13714,     0.13814,     0.13914,     0.14014,     0.14114,     0.14214,     0.14314,\n",
              "           0.14414,     0.14515,     0.14615,     0.14715,     0.14815,     0.14915,     0.15015,     0.15115,     0.15215,     0.15315,     0.15415,     0.15516,     0.15616,     0.15716,     0.15816,     0.15916,     0.16016,     0.16116,     0.16216,     0.16316,     0.16416,     0.16517,     0.16617,     0.16717,\n",
              "           0.16817,     0.16917,     0.17017,     0.17117,     0.17217,     0.17317,     0.17417,     0.17518,     0.17618,     0.17718,     0.17818,     0.17918,     0.18018,     0.18118,     0.18218,     0.18318,     0.18418,     0.18519,     0.18619,     0.18719,     0.18819,     0.18919,     0.19019,     0.19119,\n",
              "           0.19219,     0.19319,     0.19419,      0.1952,      0.1962,      0.1972,      0.1982,      0.1992,      0.2002,      0.2012,      0.2022,      0.2032,      0.2042,     0.20521,     0.20621,     0.20721,     0.20821,     0.20921,     0.21021,     0.21121,     0.21221,     0.21321,     0.21421,     0.21522,\n",
              "           0.21622,     0.21722,     0.21822,     0.21922,     0.22022,     0.22122,     0.22222,     0.22322,     0.22422,     0.22523,     0.22623,     0.22723,     0.22823,     0.22923,     0.23023,     0.23123,     0.23223,     0.23323,     0.23423,     0.23524,     0.23624,     0.23724,     0.23824,     0.23924,\n",
              "           0.24024,     0.24124,     0.24224,     0.24324,     0.24424,     0.24525,     0.24625,     0.24725,     0.24825,     0.24925,     0.25025,     0.25125,     0.25225,     0.25325,     0.25425,     0.25526,     0.25626,     0.25726,     0.25826,     0.25926,     0.26026,     0.26126,     0.26226,     0.26326,\n",
              "           0.26426,     0.26527,     0.26627,     0.26727,     0.26827,     0.26927,     0.27027,     0.27127,     0.27227,     0.27327,     0.27427,     0.27528,     0.27628,     0.27728,     0.27828,     0.27928,     0.28028,     0.28128,     0.28228,     0.28328,     0.28428,     0.28529,     0.28629,     0.28729,\n",
              "           0.28829,     0.28929,     0.29029,     0.29129,     0.29229,     0.29329,     0.29429,      0.2953,      0.2963,      0.2973,      0.2983,      0.2993,      0.3003,      0.3013,      0.3023,      0.3033,      0.3043,     0.30531,     0.30631,     0.30731,     0.30831,     0.30931,     0.31031,     0.31131,\n",
              "           0.31231,     0.31331,     0.31431,     0.31532,     0.31632,     0.31732,     0.31832,     0.31932,     0.32032,     0.32132,     0.32232,     0.32332,     0.32432,     0.32533,     0.32633,     0.32733,     0.32833,     0.32933,     0.33033,     0.33133,     0.33233,     0.33333,     0.33433,     0.33534,\n",
              "           0.33634,     0.33734,     0.33834,     0.33934,     0.34034,     0.34134,     0.34234,     0.34334,     0.34434,     0.34535,     0.34635,     0.34735,     0.34835,     0.34935,     0.35035,     0.35135,     0.35235,     0.35335,     0.35435,     0.35536,     0.35636,     0.35736,     0.35836,     0.35936,\n",
              "           0.36036,     0.36136,     0.36236,     0.36336,     0.36436,     0.36537,     0.36637,     0.36737,     0.36837,     0.36937,     0.37037,     0.37137,     0.37237,     0.37337,     0.37437,     0.37538,     0.37638,     0.37738,     0.37838,     0.37938,     0.38038,     0.38138,     0.38238,     0.38338,\n",
              "           0.38438,     0.38539,     0.38639,     0.38739,     0.38839,     0.38939,     0.39039,     0.39139,     0.39239,     0.39339,     0.39439,      0.3954,      0.3964,      0.3974,      0.3984,      0.3994,      0.4004,      0.4014,      0.4024,      0.4034,      0.4044,     0.40541,     0.40641,     0.40741,\n",
              "           0.40841,     0.40941,     0.41041,     0.41141,     0.41241,     0.41341,     0.41441,     0.41542,     0.41642,     0.41742,     0.41842,     0.41942,     0.42042,     0.42142,     0.42242,     0.42342,     0.42442,     0.42543,     0.42643,     0.42743,     0.42843,     0.42943,     0.43043,     0.43143,\n",
              "           0.43243,     0.43343,     0.43443,     0.43544,     0.43644,     0.43744,     0.43844,     0.43944,     0.44044,     0.44144,     0.44244,     0.44344,     0.44444,     0.44545,     0.44645,     0.44745,     0.44845,     0.44945,     0.45045,     0.45145,     0.45245,     0.45345,     0.45445,     0.45546,\n",
              "           0.45646,     0.45746,     0.45846,     0.45946,     0.46046,     0.46146,     0.46246,     0.46346,     0.46446,     0.46547,     0.46647,     0.46747,     0.46847,     0.46947,     0.47047,     0.47147,     0.47247,     0.47347,     0.47447,     0.47548,     0.47648,     0.47748,     0.47848,     0.47948,\n",
              "           0.48048,     0.48148,     0.48248,     0.48348,     0.48448,     0.48549,     0.48649,     0.48749,     0.48849,     0.48949,     0.49049,     0.49149,     0.49249,     0.49349,     0.49449,      0.4955,      0.4965,      0.4975,      0.4985,      0.4995,      0.5005,      0.5015,      0.5025,      0.5035,\n",
              "            0.5045,     0.50551,     0.50651,     0.50751,     0.50851,     0.50951,     0.51051,     0.51151,     0.51251,     0.51351,     0.51451,     0.51552,     0.51652,     0.51752,     0.51852,     0.51952,     0.52052,     0.52152,     0.52252,     0.52352,     0.52452,     0.52553,     0.52653,     0.52753,\n",
              "           0.52853,     0.52953,     0.53053,     0.53153,     0.53253,     0.53353,     0.53453,     0.53554,     0.53654,     0.53754,     0.53854,     0.53954,     0.54054,     0.54154,     0.54254,     0.54354,     0.54454,     0.54555,     0.54655,     0.54755,     0.54855,     0.54955,     0.55055,     0.55155,\n",
              "           0.55255,     0.55355,     0.55455,     0.55556,     0.55656,     0.55756,     0.55856,     0.55956,     0.56056,     0.56156,     0.56256,     0.56356,     0.56456,     0.56557,     0.56657,     0.56757,     0.56857,     0.56957,     0.57057,     0.57157,     0.57257,     0.57357,     0.57457,     0.57558,\n",
              "           0.57658,     0.57758,     0.57858,     0.57958,     0.58058,     0.58158,     0.58258,     0.58358,     0.58458,     0.58559,     0.58659,     0.58759,     0.58859,     0.58959,     0.59059,     0.59159,     0.59259,     0.59359,     0.59459,      0.5956,      0.5966,      0.5976,      0.5986,      0.5996,\n",
              "            0.6006,      0.6016,      0.6026,      0.6036,      0.6046,     0.60561,     0.60661,     0.60761,     0.60861,     0.60961,     0.61061,     0.61161,     0.61261,     0.61361,     0.61461,     0.61562,     0.61662,     0.61762,     0.61862,     0.61962,     0.62062,     0.62162,     0.62262,     0.62362,\n",
              "           0.62462,     0.62563,     0.62663,     0.62763,     0.62863,     0.62963,     0.63063,     0.63163,     0.63263,     0.63363,     0.63463,     0.63564,     0.63664,     0.63764,     0.63864,     0.63964,     0.64064,     0.64164,     0.64264,     0.64364,     0.64464,     0.64565,     0.64665,     0.64765,\n",
              "           0.64865,     0.64965,     0.65065,     0.65165,     0.65265,     0.65365,     0.65465,     0.65566,     0.65666,     0.65766,     0.65866,     0.65966,     0.66066,     0.66166,     0.66266,     0.66366,     0.66466,     0.66567,     0.66667,     0.66767,     0.66867,     0.66967,     0.67067,     0.67167,\n",
              "           0.67267,     0.67367,     0.67467,     0.67568,     0.67668,     0.67768,     0.67868,     0.67968,     0.68068,     0.68168,     0.68268,     0.68368,     0.68468,     0.68569,     0.68669,     0.68769,     0.68869,     0.68969,     0.69069,     0.69169,     0.69269,     0.69369,     0.69469,      0.6957,\n",
              "            0.6967,      0.6977,      0.6987,      0.6997,      0.7007,      0.7017,      0.7027,      0.7037,      0.7047,     0.70571,     0.70671,     0.70771,     0.70871,     0.70971,     0.71071,     0.71171,     0.71271,     0.71371,     0.71471,     0.71572,     0.71672,     0.71772,     0.71872,     0.71972,\n",
              "           0.72072,     0.72172,     0.72272,     0.72372,     0.72472,     0.72573,     0.72673,     0.72773,     0.72873,     0.72973,     0.73073,     0.73173,     0.73273,     0.73373,     0.73473,     0.73574,     0.73674,     0.73774,     0.73874,     0.73974,     0.74074,     0.74174,     0.74274,     0.74374,\n",
              "           0.74474,     0.74575,     0.74675,     0.74775,     0.74875,     0.74975,     0.75075,     0.75175,     0.75275,     0.75375,     0.75475,     0.75576,     0.75676,     0.75776,     0.75876,     0.75976,     0.76076,     0.76176,     0.76276,     0.76376,     0.76476,     0.76577,     0.76677,     0.76777,\n",
              "           0.76877,     0.76977,     0.77077,     0.77177,     0.77277,     0.77377,     0.77477,     0.77578,     0.77678,     0.77778,     0.77878,     0.77978,     0.78078,     0.78178,     0.78278,     0.78378,     0.78478,     0.78579,     0.78679,     0.78779,     0.78879,     0.78979,     0.79079,     0.79179,\n",
              "           0.79279,     0.79379,     0.79479,      0.7958,      0.7968,      0.7978,      0.7988,      0.7998,      0.8008,      0.8018,      0.8028,      0.8038,      0.8048,     0.80581,     0.80681,     0.80781,     0.80881,     0.80981,     0.81081,     0.81181,     0.81281,     0.81381,     0.81481,     0.81582,\n",
              "           0.81682,     0.81782,     0.81882,     0.81982,     0.82082,     0.82182,     0.82282,     0.82382,     0.82482,     0.82583,     0.82683,     0.82783,     0.82883,     0.82983,     0.83083,     0.83183,     0.83283,     0.83383,     0.83483,     0.83584,     0.83684,     0.83784,     0.83884,     0.83984,\n",
              "           0.84084,     0.84184,     0.84284,     0.84384,     0.84484,     0.84585,     0.84685,     0.84785,     0.84885,     0.84985,     0.85085,     0.85185,     0.85285,     0.85385,     0.85485,     0.85586,     0.85686,     0.85786,     0.85886,     0.85986,     0.86086,     0.86186,     0.86286,     0.86386,\n",
              "           0.86486,     0.86587,     0.86687,     0.86787,     0.86887,     0.86987,     0.87087,     0.87187,     0.87287,     0.87387,     0.87487,     0.87588,     0.87688,     0.87788,     0.87888,     0.87988,     0.88088,     0.88188,     0.88288,     0.88388,     0.88488,     0.88589,     0.88689,     0.88789,\n",
              "           0.88889,     0.88989,     0.89089,     0.89189,     0.89289,     0.89389,     0.89489,      0.8959,      0.8969,      0.8979,      0.8989,      0.8999,      0.9009,      0.9019,      0.9029,      0.9039,      0.9049,     0.90591,     0.90691,     0.90791,     0.90891,     0.90991,     0.91091,     0.91191,\n",
              "           0.91291,     0.91391,     0.91491,     0.91592,     0.91692,     0.91792,     0.91892,     0.91992,     0.92092,     0.92192,     0.92292,     0.92392,     0.92492,     0.92593,     0.92693,     0.92793,     0.92893,     0.92993,     0.93093,     0.93193,     0.93293,     0.93393,     0.93493,     0.93594,\n",
              "           0.93694,     0.93794,     0.93894,     0.93994,     0.94094,     0.94194,     0.94294,     0.94394,     0.94494,     0.94595,     0.94695,     0.94795,     0.94895,     0.94995,     0.95095,     0.95195,     0.95295,     0.95395,     0.95495,     0.95596,     0.95696,     0.95796,     0.95896,     0.95996,\n",
              "           0.96096,     0.96196,     0.96296,     0.96396,     0.96496,     0.96597,     0.96697,     0.96797,     0.96897,     0.96997,     0.97097,     0.97197,     0.97297,     0.97397,     0.97497,     0.97598,     0.97698,     0.97798,     0.97898,     0.97998,     0.98098,     0.98198,     0.98298,     0.98398,\n",
              "           0.98498,     0.98599,     0.98699,     0.98799,     0.98899,     0.98999,     0.99099,     0.99199,     0.99299,     0.99399,     0.99499,       0.996,       0.997,       0.998,       0.999,           1]), array([[   0.060451,    0.060451,     0.10247,     0.13432,     0.15966,      0.1828,     0.20272,     0.21838,     0.23503,     0.24779,     0.26094,     0.27231,     0.28346,     0.29315,     0.30367,     0.31352,     0.32221,     0.33155,     0.33874,       0.348,     0.35705,     0.36416,     0.37181,\n",
              "            0.37927,     0.38665,     0.39483,     0.40168,     0.40911,     0.41574,     0.42298,     0.42871,     0.43497,     0.44156,     0.44721,     0.45378,      0.4587,     0.46321,     0.46736,     0.47487,     0.47936,     0.48388,     0.48786,     0.49306,     0.49785,     0.50376,     0.50964,\n",
              "            0.51637,     0.51998,     0.52435,     0.52903,      0.5332,     0.53836,     0.54379,      0.5466,     0.55108,     0.55422,     0.55847,     0.56219,     0.56603,     0.56996,     0.57377,     0.57795,     0.58126,     0.58402,     0.58767,      0.5908,      0.5947,     0.59754,     0.60182,\n",
              "             0.6038,     0.60705,     0.60946,     0.61123,     0.61496,     0.61925,     0.62185,     0.62437,     0.62672,     0.63005,     0.63238,     0.63534,      0.6386,     0.64131,     0.64572,     0.64868,     0.65191,     0.65327,     0.65463,     0.65772,     0.65939,     0.66126,     0.66337,\n",
              "            0.66574,     0.66847,     0.67093,     0.67515,     0.67817,     0.68097,     0.68367,     0.68519,     0.68782,     0.69082,     0.69429,     0.69666,     0.69836,     0.69988,     0.70145,     0.70255,     0.70464,     0.70669,      0.7089,     0.70999,     0.71377,     0.71444,     0.71642,\n",
              "            0.71806,     0.72056,     0.72233,     0.72485,     0.72676,     0.72968,     0.73069,     0.73322,     0.73436,     0.73592,     0.73768,     0.73986,     0.74213,     0.74446,     0.74644,       0.749,     0.75164,     0.75259,      0.7543,     0.75592,      0.7582,      0.7594,     0.76128,\n",
              "            0.76303,     0.76373,     0.76486,      0.7662,     0.76847,      0.7695,     0.77155,     0.77498,     0.77775,     0.78019,     0.78115,     0.78317,     0.78454,     0.78557,     0.78628,     0.78751,     0.78862,      0.7891,     0.79107,     0.79214,     0.79246,     0.79391,     0.79663,\n",
              "            0.79913,     0.80068,     0.80129,     0.80206,     0.80348,     0.80455,     0.80595,     0.80683,     0.80817,     0.80925,     0.81003,     0.81204,     0.81304,     0.81487,     0.81847,     0.82056,     0.82165,     0.82351,     0.82495,     0.82646,     0.82662,     0.82681,     0.82783,\n",
              "            0.82802,     0.82894,     0.82995,     0.83129,     0.83274,     0.83345,     0.83476,     0.83635,     0.83657,     0.84032,     0.84065,     0.84268,     0.84302,      0.8437,     0.84545,     0.84613,     0.84723,     0.84861,     0.84955,     0.85093,     0.85087,       0.853,     0.85446,\n",
              "            0.85593,     0.85919,     0.86067,     0.86266,     0.86341,      0.8664,     0.86733,     0.86774,     0.86843,      0.8689,     0.87051,     0.87159,     0.87224,     0.87286,     0.87326,     0.87434,     0.87458,     0.87751,     0.87858,     0.87966,     0.88124,     0.88325,     0.88438,\n",
              "            0.88498,     0.88532,     0.88671,      0.8878,      0.8883,     0.88955,     0.89018,     0.89104,     0.89171,     0.89306,     0.89348,     0.89377,     0.89534,     0.89566,     0.89753,     0.89913,      0.8996,     0.89993,     0.90083,     0.90084,     0.90099,     0.90115,     0.90209,\n",
              "             0.9025,     0.90339,     0.90474,     0.90626,     0.90623,     0.90667,     0.90662,     0.90657,     0.90748,     0.90745,     0.90778,     0.90788,     0.90936,     0.90959,     0.90981,      0.9119,     0.91228,     0.91225,     0.91269,     0.91312,     0.91356,     0.91445,     0.91441,\n",
              "            0.91512,     0.91619,     0.91805,     0.91994,     0.92105,     0.92169,      0.9221,     0.92322,     0.92348,     0.92436,     0.92482,     0.92473,      0.9252,      0.9251,     0.92666,     0.92768,     0.92762,       0.928,     0.92861,     0.92952,     0.92996,     0.93038,     0.93146,\n",
              "            0.93263,     0.93375,     0.93439,     0.93533,     0.93567,     0.93667,     0.93813,     0.93862,     0.93913,     0.93977,     0.94073,     0.94071,     0.94163,     0.94342,     0.94335,     0.94406,     0.94494,     0.94492,     0.94491,      0.9449,     0.94764,     0.94769,     0.94802,\n",
              "            0.94855,      0.9497,      0.9514,     0.95142,     0.95267,     0.95295,     0.95346,     0.95342,     0.95397,     0.95396,     0.95395,     0.95393,     0.95551,     0.95612,      0.9573,     0.95733,     0.95766,     0.95793,     0.95822,     0.95834,     0.95886,     0.95935,     0.95933,\n",
              "            0.95931,     0.95947,     0.95979,     0.95977,     0.96016,     0.96028,     0.96027,     0.96029,     0.96082,      0.9608,     0.96078,     0.96096,     0.96126,     0.96133,     0.96131,     0.96126,      0.9616,     0.96242,     0.96239,     0.96293,     0.96388,     0.96448,     0.96461,\n",
              "             0.9649,      0.9652,     0.96568,     0.96566,      0.9656,     0.96559,     0.96555,      0.9661,     0.96706,     0.96725,      0.9672,     0.96719,     0.96776,     0.96774,      0.9677,     0.96769,     0.96784,     0.96821,     0.96817,     0.96815,     0.96872,     0.96868,     0.96926,\n",
              "            0.96922,     0.96924,     0.96973,     0.96972,     0.96971,     0.96995,     0.97031,      0.9703,     0.97019,     0.97015,     0.97011,     0.97005,     0.97003,     0.97001,     0.97057,     0.97112,     0.97102,     0.97114,     0.97161,     0.97155,     0.97152,      0.9715,     0.97144,\n",
              "            0.97142,      0.9714,     0.97198,     0.97197,     0.97196,     0.97194,     0.97188,     0.97244,     0.97243,      0.9724,     0.97242,     0.97299,     0.97297,     0.97295,     0.97294,     0.97307,     0.97352,     0.97412,     0.97406,     0.97403,     0.97398,     0.97397,     0.97388,\n",
              "            0.97385,      0.9738,     0.97378,     0.97374,     0.97425,     0.97436,     0.97433,     0.97433,     0.97428,     0.97427,      0.9742,     0.97417,     0.97413,     0.97411,     0.97411,      0.9741,     0.97471,     0.97469,     0.97492,     0.97527,     0.97592,     0.97592,      0.9759,\n",
              "            0.97589,     0.97585,     0.97621,     0.97717,     0.97717,     0.97712,      0.9771,     0.97772,      0.9777,     0.97768,     0.97767,     0.97766,     0.97761,     0.97756,     0.97753,     0.97751,      0.9775,     0.97747,     0.97812,      0.9788,     0.97874,     0.97869,     0.97868,\n",
              "            0.97862,     0.97857,     0.97854,     0.97864,     0.97918,      0.9793,     0.97984,     0.97982,      0.9805,     0.98049,     0.98043,      0.9804,     0.98037,     0.98036,     0.98031,      0.9803,      0.9803,     0.98024,     0.98021,     0.98018,     0.98083,     0.98082,     0.98079,\n",
              "            0.98076,     0.98075,     0.98073,     0.98072,     0.98071,      0.9807,     0.98067,     0.98066,     0.98063,     0.98059,     0.98058,     0.98054,     0.98052,     0.98048,     0.98042,     0.98035,     0.98033,     0.98029,     0.98021,     0.98018,     0.98014,     0.98084,     0.98081,\n",
              "            0.98075,     0.98071,     0.98066,     0.98062,     0.98058,     0.98057,     0.98052,     0.98045,      0.9804,     0.98072,     0.98112,     0.98105,       0.981,     0.98172,     0.98171,     0.98164,     0.98239,     0.98235,     0.98229,      0.9822,     0.98216,      0.9821,     0.98203,\n",
              "            0.98198,     0.98197,     0.98194,     0.98189,     0.98183,     0.98172,     0.98169,     0.98164,     0.98161,     0.98155,     0.98153,     0.98149,     0.98142,     0.98141,     0.98131,     0.98128,     0.98125,     0.98122,     0.98115,     0.98175,     0.98192,     0.98185,     0.98179,\n",
              "            0.98176,     0.98246,     0.98252,     0.98244,     0.98238,     0.98224,     0.98217,     0.98209,     0.98204,     0.98196,     0.98194,     0.98191,      0.9819,     0.98252,     0.98275,     0.98268,     0.98263,     0.98262,     0.98256,     0.98251,     0.98246,     0.98328,     0.98319,\n",
              "            0.98308,     0.98303,     0.98298,     0.98291,     0.98286,     0.98283,     0.98276,     0.98368,     0.98364,     0.98351,     0.98339,     0.98331,     0.98326,     0.98321,     0.98317,     0.98316,     0.98308,     0.98291,     0.98281,     0.98278,     0.98269,     0.98359,     0.98338,\n",
              "            0.98436,     0.98429,     0.98418,     0.98412,     0.98407,     0.98401,     0.98393,     0.98388,     0.98382,     0.98372,     0.98368,     0.98364,     0.98356,     0.98355,     0.98349,     0.98334,     0.98322,     0.98529,     0.98521,     0.98507,     0.98495,     0.98488,     0.98472,\n",
              "            0.98464,     0.98453,     0.98447,     0.98551,     0.98546,     0.98531,     0.98524,      0.9852,     0.98509,     0.98499,     0.98487,     0.98479,     0.98592,      0.9871,     0.98697,     0.98821,     0.98802,     0.98789,      0.9878,      0.9877,     0.98762,     0.98751,     0.98882,\n",
              "            0.99012,     0.99007,     0.98999,     0.99135,     0.99124,     0.99265,     0.99262,     0.99254,     0.99249,     0.99241,     0.99223,     0.99218,     0.99213,     0.99197,     0.99193,     0.99179,     0.99175,      0.9916,     0.99154,     0.99311,       0.993,     0.99298,     0.99293,\n",
              "             0.9929,     0.99283,     0.99276,     0.99266,      0.9925,     0.99246,      0.9943,     0.99424,      0.9941,     0.99602,     0.99589,     0.99587,     0.99792,     0.99791,     0.99788,     0.99783,     0.99782,     0.99777,           1,           1,           1,           1,           1,\n",
              "                  1,           1,           1,           1,           1,           1,           1,           1,           1,           1,           1,           1,           1,           1,           1,           1,           1,           1,           1,           1,           1,           1,           1,\n",
              "                  1,           1,           1,           1,           1,           1,           1,           1,           1,           1,           1,           1,           1,           1,           1,           1,           1,           1,           1,           1,           1,           1,           1,\n",
              "                  1,           1,           1,           1,           1,           1,           1,           1,           1,           1,           1,           1,           1,           1,           1,           1,           1,           1,           1,           1,           1,           1,           1,\n",
              "                  1,           1,           1,           1,           1,           1,           1,           1,           1,           1,           1,           1,           1,           1,           1,           1,           1,           1,           1,           1,           1,           1,           1,\n",
              "                  1,           1,           1,           1,           1,           1,           1,           1,           1,           1,           1,           1,           1,           1,           1,           1,           1,           1,           1,           1,           1,           1,           1,\n",
              "                  1,           1,           1,           1,           1,           1,           1,           1,           1,           1,           1,           1,           1,           1,           1,           1,           1,           1,           1,           1,           1,           1,           1,\n",
              "                  1,           1,           1,           1,           1,           1,           1,           1,           1,           1,           1,           1,           1,           1,           1,           1,           1,           1,           1,           1,           1,           1,           1,\n",
              "                  1,           1,           1,           1,           1,           1,           1,           1,           1,           1,           1,           1,           1,           1,           1,           1,           1,           1,           1,           1,           1,           1,           1,\n",
              "                  1,           1,           1,           1,           1,           1,           1,           1,           1,           1,           1,           1,           1,           1,           1,           1,           1,           1,           1,           1,           1,           1,           1,\n",
              "                  1,           1,           1,           1,           1,           1,           1,           1,           1,           1,           1,           1,           1,           1,           1,           1,           1,           1,           1,           1,           1,           1,           1,\n",
              "                  1,           1,           1,           1,           1,           1,           1,           1,           1,           1,           1,           1,           1,           1,           1,           1,           1,           1,           1,           1,           1,           1,           1,\n",
              "                  1,           1,           1,           1,           1,           1,           1,           1,           1,           1,           1,           1,           1,           1,           1,           1,           1,           1,           1,           1,           1,           1,           1,\n",
              "                  1,           1,           1,           1,           1,           1,           1,           1,           1,           1,           1]]), 'Confidence', 'Precision'], [array([          0,    0.001001,    0.002002,    0.003003,    0.004004,    0.005005,    0.006006,    0.007007,    0.008008,    0.009009,     0.01001,    0.011011,    0.012012,    0.013013,    0.014014,    0.015015,    0.016016,    0.017017,    0.018018,    0.019019,     0.02002,    0.021021,    0.022022,    0.023023,\n",
              "          0.024024,    0.025025,    0.026026,    0.027027,    0.028028,    0.029029,     0.03003,    0.031031,    0.032032,    0.033033,    0.034034,    0.035035,    0.036036,    0.037037,    0.038038,    0.039039,     0.04004,    0.041041,    0.042042,    0.043043,    0.044044,    0.045045,    0.046046,    0.047047,\n",
              "          0.048048,    0.049049,     0.05005,    0.051051,    0.052052,    0.053053,    0.054054,    0.055055,    0.056056,    0.057057,    0.058058,    0.059059,     0.06006,    0.061061,    0.062062,    0.063063,    0.064064,    0.065065,    0.066066,    0.067067,    0.068068,    0.069069,     0.07007,    0.071071,\n",
              "          0.072072,    0.073073,    0.074074,    0.075075,    0.076076,    0.077077,    0.078078,    0.079079,     0.08008,    0.081081,    0.082082,    0.083083,    0.084084,    0.085085,    0.086086,    0.087087,    0.088088,    0.089089,     0.09009,    0.091091,    0.092092,    0.093093,    0.094094,    0.095095,\n",
              "          0.096096,    0.097097,    0.098098,    0.099099,      0.1001,      0.1011,      0.1021,      0.1031,      0.1041,     0.10511,     0.10611,     0.10711,     0.10811,     0.10911,     0.11011,     0.11111,     0.11211,     0.11311,     0.11411,     0.11512,     0.11612,     0.11712,     0.11812,     0.11912,\n",
              "           0.12012,     0.12112,     0.12212,     0.12312,     0.12412,     0.12513,     0.12613,     0.12713,     0.12813,     0.12913,     0.13013,     0.13113,     0.13213,     0.13313,     0.13413,     0.13514,     0.13614,     0.13714,     0.13814,     0.13914,     0.14014,     0.14114,     0.14214,     0.14314,\n",
              "           0.14414,     0.14515,     0.14615,     0.14715,     0.14815,     0.14915,     0.15015,     0.15115,     0.15215,     0.15315,     0.15415,     0.15516,     0.15616,     0.15716,     0.15816,     0.15916,     0.16016,     0.16116,     0.16216,     0.16316,     0.16416,     0.16517,     0.16617,     0.16717,\n",
              "           0.16817,     0.16917,     0.17017,     0.17117,     0.17217,     0.17317,     0.17417,     0.17518,     0.17618,     0.17718,     0.17818,     0.17918,     0.18018,     0.18118,     0.18218,     0.18318,     0.18418,     0.18519,     0.18619,     0.18719,     0.18819,     0.18919,     0.19019,     0.19119,\n",
              "           0.19219,     0.19319,     0.19419,      0.1952,      0.1962,      0.1972,      0.1982,      0.1992,      0.2002,      0.2012,      0.2022,      0.2032,      0.2042,     0.20521,     0.20621,     0.20721,     0.20821,     0.20921,     0.21021,     0.21121,     0.21221,     0.21321,     0.21421,     0.21522,\n",
              "           0.21622,     0.21722,     0.21822,     0.21922,     0.22022,     0.22122,     0.22222,     0.22322,     0.22422,     0.22523,     0.22623,     0.22723,     0.22823,     0.22923,     0.23023,     0.23123,     0.23223,     0.23323,     0.23423,     0.23524,     0.23624,     0.23724,     0.23824,     0.23924,\n",
              "           0.24024,     0.24124,     0.24224,     0.24324,     0.24424,     0.24525,     0.24625,     0.24725,     0.24825,     0.24925,     0.25025,     0.25125,     0.25225,     0.25325,     0.25425,     0.25526,     0.25626,     0.25726,     0.25826,     0.25926,     0.26026,     0.26126,     0.26226,     0.26326,\n",
              "           0.26426,     0.26527,     0.26627,     0.26727,     0.26827,     0.26927,     0.27027,     0.27127,     0.27227,     0.27327,     0.27427,     0.27528,     0.27628,     0.27728,     0.27828,     0.27928,     0.28028,     0.28128,     0.28228,     0.28328,     0.28428,     0.28529,     0.28629,     0.28729,\n",
              "           0.28829,     0.28929,     0.29029,     0.29129,     0.29229,     0.29329,     0.29429,      0.2953,      0.2963,      0.2973,      0.2983,      0.2993,      0.3003,      0.3013,      0.3023,      0.3033,      0.3043,     0.30531,     0.30631,     0.30731,     0.30831,     0.30931,     0.31031,     0.31131,\n",
              "           0.31231,     0.31331,     0.31431,     0.31532,     0.31632,     0.31732,     0.31832,     0.31932,     0.32032,     0.32132,     0.32232,     0.32332,     0.32432,     0.32533,     0.32633,     0.32733,     0.32833,     0.32933,     0.33033,     0.33133,     0.33233,     0.33333,     0.33433,     0.33534,\n",
              "           0.33634,     0.33734,     0.33834,     0.33934,     0.34034,     0.34134,     0.34234,     0.34334,     0.34434,     0.34535,     0.34635,     0.34735,     0.34835,     0.34935,     0.35035,     0.35135,     0.35235,     0.35335,     0.35435,     0.35536,     0.35636,     0.35736,     0.35836,     0.35936,\n",
              "           0.36036,     0.36136,     0.36236,     0.36336,     0.36436,     0.36537,     0.36637,     0.36737,     0.36837,     0.36937,     0.37037,     0.37137,     0.37237,     0.37337,     0.37437,     0.37538,     0.37638,     0.37738,     0.37838,     0.37938,     0.38038,     0.38138,     0.38238,     0.38338,\n",
              "           0.38438,     0.38539,     0.38639,     0.38739,     0.38839,     0.38939,     0.39039,     0.39139,     0.39239,     0.39339,     0.39439,      0.3954,      0.3964,      0.3974,      0.3984,      0.3994,      0.4004,      0.4014,      0.4024,      0.4034,      0.4044,     0.40541,     0.40641,     0.40741,\n",
              "           0.40841,     0.40941,     0.41041,     0.41141,     0.41241,     0.41341,     0.41441,     0.41542,     0.41642,     0.41742,     0.41842,     0.41942,     0.42042,     0.42142,     0.42242,     0.42342,     0.42442,     0.42543,     0.42643,     0.42743,     0.42843,     0.42943,     0.43043,     0.43143,\n",
              "           0.43243,     0.43343,     0.43443,     0.43544,     0.43644,     0.43744,     0.43844,     0.43944,     0.44044,     0.44144,     0.44244,     0.44344,     0.44444,     0.44545,     0.44645,     0.44745,     0.44845,     0.44945,     0.45045,     0.45145,     0.45245,     0.45345,     0.45445,     0.45546,\n",
              "           0.45646,     0.45746,     0.45846,     0.45946,     0.46046,     0.46146,     0.46246,     0.46346,     0.46446,     0.46547,     0.46647,     0.46747,     0.46847,     0.46947,     0.47047,     0.47147,     0.47247,     0.47347,     0.47447,     0.47548,     0.47648,     0.47748,     0.47848,     0.47948,\n",
              "           0.48048,     0.48148,     0.48248,     0.48348,     0.48448,     0.48549,     0.48649,     0.48749,     0.48849,     0.48949,     0.49049,     0.49149,     0.49249,     0.49349,     0.49449,      0.4955,      0.4965,      0.4975,      0.4985,      0.4995,      0.5005,      0.5015,      0.5025,      0.5035,\n",
              "            0.5045,     0.50551,     0.50651,     0.50751,     0.50851,     0.50951,     0.51051,     0.51151,     0.51251,     0.51351,     0.51451,     0.51552,     0.51652,     0.51752,     0.51852,     0.51952,     0.52052,     0.52152,     0.52252,     0.52352,     0.52452,     0.52553,     0.52653,     0.52753,\n",
              "           0.52853,     0.52953,     0.53053,     0.53153,     0.53253,     0.53353,     0.53453,     0.53554,     0.53654,     0.53754,     0.53854,     0.53954,     0.54054,     0.54154,     0.54254,     0.54354,     0.54454,     0.54555,     0.54655,     0.54755,     0.54855,     0.54955,     0.55055,     0.55155,\n",
              "           0.55255,     0.55355,     0.55455,     0.55556,     0.55656,     0.55756,     0.55856,     0.55956,     0.56056,     0.56156,     0.56256,     0.56356,     0.56456,     0.56557,     0.56657,     0.56757,     0.56857,     0.56957,     0.57057,     0.57157,     0.57257,     0.57357,     0.57457,     0.57558,\n",
              "           0.57658,     0.57758,     0.57858,     0.57958,     0.58058,     0.58158,     0.58258,     0.58358,     0.58458,     0.58559,     0.58659,     0.58759,     0.58859,     0.58959,     0.59059,     0.59159,     0.59259,     0.59359,     0.59459,      0.5956,      0.5966,      0.5976,      0.5986,      0.5996,\n",
              "            0.6006,      0.6016,      0.6026,      0.6036,      0.6046,     0.60561,     0.60661,     0.60761,     0.60861,     0.60961,     0.61061,     0.61161,     0.61261,     0.61361,     0.61461,     0.61562,     0.61662,     0.61762,     0.61862,     0.61962,     0.62062,     0.62162,     0.62262,     0.62362,\n",
              "           0.62462,     0.62563,     0.62663,     0.62763,     0.62863,     0.62963,     0.63063,     0.63163,     0.63263,     0.63363,     0.63463,     0.63564,     0.63664,     0.63764,     0.63864,     0.63964,     0.64064,     0.64164,     0.64264,     0.64364,     0.64464,     0.64565,     0.64665,     0.64765,\n",
              "           0.64865,     0.64965,     0.65065,     0.65165,     0.65265,     0.65365,     0.65465,     0.65566,     0.65666,     0.65766,     0.65866,     0.65966,     0.66066,     0.66166,     0.66266,     0.66366,     0.66466,     0.66567,     0.66667,     0.66767,     0.66867,     0.66967,     0.67067,     0.67167,\n",
              "           0.67267,     0.67367,     0.67467,     0.67568,     0.67668,     0.67768,     0.67868,     0.67968,     0.68068,     0.68168,     0.68268,     0.68368,     0.68468,     0.68569,     0.68669,     0.68769,     0.68869,     0.68969,     0.69069,     0.69169,     0.69269,     0.69369,     0.69469,      0.6957,\n",
              "            0.6967,      0.6977,      0.6987,      0.6997,      0.7007,      0.7017,      0.7027,      0.7037,      0.7047,     0.70571,     0.70671,     0.70771,     0.70871,     0.70971,     0.71071,     0.71171,     0.71271,     0.71371,     0.71471,     0.71572,     0.71672,     0.71772,     0.71872,     0.71972,\n",
              "           0.72072,     0.72172,     0.72272,     0.72372,     0.72472,     0.72573,     0.72673,     0.72773,     0.72873,     0.72973,     0.73073,     0.73173,     0.73273,     0.73373,     0.73473,     0.73574,     0.73674,     0.73774,     0.73874,     0.73974,     0.74074,     0.74174,     0.74274,     0.74374,\n",
              "           0.74474,     0.74575,     0.74675,     0.74775,     0.74875,     0.74975,     0.75075,     0.75175,     0.75275,     0.75375,     0.75475,     0.75576,     0.75676,     0.75776,     0.75876,     0.75976,     0.76076,     0.76176,     0.76276,     0.76376,     0.76476,     0.76577,     0.76677,     0.76777,\n",
              "           0.76877,     0.76977,     0.77077,     0.77177,     0.77277,     0.77377,     0.77477,     0.77578,     0.77678,     0.77778,     0.77878,     0.77978,     0.78078,     0.78178,     0.78278,     0.78378,     0.78478,     0.78579,     0.78679,     0.78779,     0.78879,     0.78979,     0.79079,     0.79179,\n",
              "           0.79279,     0.79379,     0.79479,      0.7958,      0.7968,      0.7978,      0.7988,      0.7998,      0.8008,      0.8018,      0.8028,      0.8038,      0.8048,     0.80581,     0.80681,     0.80781,     0.80881,     0.80981,     0.81081,     0.81181,     0.81281,     0.81381,     0.81481,     0.81582,\n",
              "           0.81682,     0.81782,     0.81882,     0.81982,     0.82082,     0.82182,     0.82282,     0.82382,     0.82482,     0.82583,     0.82683,     0.82783,     0.82883,     0.82983,     0.83083,     0.83183,     0.83283,     0.83383,     0.83483,     0.83584,     0.83684,     0.83784,     0.83884,     0.83984,\n",
              "           0.84084,     0.84184,     0.84284,     0.84384,     0.84484,     0.84585,     0.84685,     0.84785,     0.84885,     0.84985,     0.85085,     0.85185,     0.85285,     0.85385,     0.85485,     0.85586,     0.85686,     0.85786,     0.85886,     0.85986,     0.86086,     0.86186,     0.86286,     0.86386,\n",
              "           0.86486,     0.86587,     0.86687,     0.86787,     0.86887,     0.86987,     0.87087,     0.87187,     0.87287,     0.87387,     0.87487,     0.87588,     0.87688,     0.87788,     0.87888,     0.87988,     0.88088,     0.88188,     0.88288,     0.88388,     0.88488,     0.88589,     0.88689,     0.88789,\n",
              "           0.88889,     0.88989,     0.89089,     0.89189,     0.89289,     0.89389,     0.89489,      0.8959,      0.8969,      0.8979,      0.8989,      0.8999,      0.9009,      0.9019,      0.9029,      0.9039,      0.9049,     0.90591,     0.90691,     0.90791,     0.90891,     0.90991,     0.91091,     0.91191,\n",
              "           0.91291,     0.91391,     0.91491,     0.91592,     0.91692,     0.91792,     0.91892,     0.91992,     0.92092,     0.92192,     0.92292,     0.92392,     0.92492,     0.92593,     0.92693,     0.92793,     0.92893,     0.92993,     0.93093,     0.93193,     0.93293,     0.93393,     0.93493,     0.93594,\n",
              "           0.93694,     0.93794,     0.93894,     0.93994,     0.94094,     0.94194,     0.94294,     0.94394,     0.94494,     0.94595,     0.94695,     0.94795,     0.94895,     0.94995,     0.95095,     0.95195,     0.95295,     0.95395,     0.95495,     0.95596,     0.95696,     0.95796,     0.95896,     0.95996,\n",
              "           0.96096,     0.96196,     0.96296,     0.96396,     0.96496,     0.96597,     0.96697,     0.96797,     0.96897,     0.96997,     0.97097,     0.97197,     0.97297,     0.97397,     0.97497,     0.97598,     0.97698,     0.97798,     0.97898,     0.97998,     0.98098,     0.98198,     0.98298,     0.98398,\n",
              "           0.98498,     0.98599,     0.98699,     0.98799,     0.98899,     0.98999,     0.99099,     0.99199,     0.99299,     0.99399,     0.99499,       0.996,       0.997,       0.998,       0.999,           1]), array([[    0.93574,     0.93574,      0.9273,     0.92073,     0.91557,     0.91088,     0.90947,     0.90478,      0.9015,     0.89775,      0.8954,     0.89374,     0.89212,     0.88884,     0.88649,     0.88555,     0.88368,     0.88274,     0.88086,     0.87992,     0.87805,     0.87617,      0.8743,\n",
              "            0.87383,     0.87242,     0.87195,     0.87054,     0.87054,     0.86867,      0.8682,     0.86773,     0.86726,     0.86679,     0.86585,     0.86538,     0.86538,     0.86398,     0.86351,     0.86351,      0.8621,     0.86163,     0.86116,     0.86116,     0.86069,     0.86023,     0.85976,\n",
              "            0.85929,     0.85929,     0.85929,     0.85929,     0.85882,     0.85788,     0.85647,     0.85413,     0.85413,     0.85413,     0.85413,     0.85413,     0.85366,     0.85319,     0.85319,     0.85272,     0.85272,     0.85272,     0.85272,     0.85225,     0.85084,     0.85038,     0.84991,\n",
              "            0.84897,      0.8485,     0.84756,     0.84662,     0.84568,     0.84568,     0.84522,     0.84522,     0.84428,     0.84428,     0.84381,     0.84334,     0.84334,     0.84287,      0.8424,      0.8424,      0.8424,     0.84193,     0.84193,     0.84146,     0.84099,     0.84053,     0.84006,\n",
              "            0.83959,     0.83959,     0.83912,     0.83912,     0.83865,     0.83771,     0.83724,     0.83724,     0.83724,     0.83677,     0.83677,     0.83677,      0.8363,     0.83583,     0.83443,     0.83349,     0.83302,     0.83302,     0.83208,     0.83208,     0.83208,     0.83208,     0.83161,\n",
              "            0.83161,     0.83114,     0.83114,     0.83068,     0.83021,     0.83021,     0.83021,     0.83021,      0.8288,     0.82869,     0.82833,     0.82786,     0.82786,     0.82786,     0.82786,     0.82786,     0.82786,     0.82739,     0.82739,     0.82739,     0.82692,     0.82598,     0.82552,\n",
              "            0.82552,     0.82411,     0.82387,     0.82235,     0.82223,     0.82223,     0.82223,     0.82223,     0.82223,     0.82223,     0.82176,     0.82129,     0.82129,     0.82083,     0.82036,     0.82036,     0.82036,     0.82036,     0.82036,     0.82036,     0.82036,     0.82036,     0.82036,\n",
              "            0.82036,     0.82036,     0.82036,     0.82036,     0.82036,     0.82036,     0.82036,     0.81942,     0.81895,     0.81848,     0.81848,     0.81848,     0.81848,     0.81848,     0.81754,     0.81707,     0.81707,     0.81707,     0.81707,     0.81707,     0.81621,     0.81614,     0.81567,\n",
              "            0.81521,      0.8152,     0.81499,     0.81332,     0.81332,     0.81285,     0.81275,     0.81191,     0.81191,     0.81191,     0.81191,     0.81098,     0.81098,     0.81098,     0.81051,     0.81051,     0.81051,     0.80957,     0.80863,      0.8086,     0.80822,     0.80722,     0.80722,\n",
              "            0.80675,     0.80675,     0.80675,     0.80675,     0.80645,     0.80535,     0.80535,     0.80535,     0.80497,     0.80441,     0.80441,     0.80441,     0.80441,     0.80394,     0.80347,     0.80287,     0.80206,     0.80206,     0.80206,     0.80159,     0.80159,     0.80159,     0.80159,\n",
              "            0.80113,     0.80113,     0.80066,     0.80066,     0.80066,     0.80019,     0.80019,     0.79972,     0.79951,     0.79906,     0.79868,     0.79831,     0.79831,     0.79831,     0.79784,     0.79784,     0.79737,     0.79737,     0.79675,     0.79597,     0.79597,     0.79597,     0.79515,\n",
              "            0.79409,     0.79387,     0.79362,     0.79357,     0.79325,     0.79315,     0.79238,      0.7919,     0.79126,     0.79081,     0.79081,     0.79043,     0.79034,     0.79034,     0.79034,     0.79034,     0.79027,     0.78994,     0.78938,     0.78874,     0.78819,     0.78714,     0.78678,\n",
              "            0.78612,     0.78612,     0.78565,     0.78518,     0.78424,     0.78387,     0.78236,     0.78143,     0.78114,     0.78049,     0.77898,     0.77794,     0.77739,     0.77628,     0.77627,     0.77609,     0.77545,     0.77486,     0.77392,     0.77327,     0.77226,     0.77158,     0.77158,\n",
              "            0.77064,     0.77017,     0.77017,     0.77017,     0.77017,        0.77,     0.76805,     0.76752,     0.76714,     0.76689,     0.76682,     0.76655,     0.76642,     0.76639,     0.76543,     0.76501,     0.76477,     0.76443,     0.76425,     0.76408,     0.76396,      0.7636,      0.7636,\n",
              "            0.76313,     0.76313,     0.76214,     0.76079,     0.76079,     0.76005,     0.75905,     0.75845,     0.75827,      0.7581,     0.75789,     0.75762,      0.7575,      0.7575,     0.75708,     0.75657,     0.75657,     0.75563,     0.75563,     0.75529,     0.75431,     0.75278,     0.75232,\n",
              "            0.75204,     0.75047,      0.7502,     0.74967,     0.74906,     0.74846,     0.74829,     0.74765,     0.74758,     0.74734,     0.74695,     0.74672,     0.74672,     0.74627,     0.74579,     0.74484,     0.74484,      0.7447,     0.74416,     0.74315,     0.74296,     0.74296,      0.7416,\n",
              "            0.74156,     0.74156,     0.73909,     0.73861,     0.73725,     0.73698,     0.73611,     0.73516,     0.73452,     0.73409,     0.73296,      0.7328,     0.73217,     0.73157,      0.7307,     0.73046,     0.72889,     0.72865,     0.72765,     0.72716,     0.72621,     0.72527,     0.72467,\n",
              "            0.72372,     0.72326,     0.72137,     0.72109,     0.72074,     0.72045,     0.72035,     0.72011,     0.71741,     0.71638,     0.71539,     0.71397,     0.71349,     0.71301,     0.71159,      0.7097,     0.70723,     0.70685,     0.70627,     0.70485,      0.7039,     0.70342,       0.702,\n",
              "            0.70146,     0.70092,     0.69966,     0.69942,     0.69901,     0.69853,     0.69711,     0.69522,      0.6949,     0.69414,     0.69278,     0.69271,     0.69223,      0.6918,     0.69155,      0.6909,     0.68984,     0.68842,       0.687,     0.68605,     0.68471,     0.68443,     0.68215,\n",
              "             0.6812,     0.67978,      0.6793,     0.67835,     0.67824,     0.67739,     0.67663,     0.67639,     0.67521,     0.67497,     0.67311,     0.67216,     0.67121,     0.67073,     0.67049,     0.66932,     0.66882,     0.66832,     0.66745,     0.66585,     0.66547,     0.66523,     0.66488,\n",
              "            0.66439,     0.66344,     0.66276,     0.66262,     0.66238,     0.66105,     0.66057,     0.65868,      0.6582,     0.65743,     0.65719,     0.65676,     0.65534,     0.65392,     0.65297,     0.65249,     0.65201,     0.65106,     0.65011,     0.65009,     0.64774,     0.64632,     0.64584,\n",
              "            0.64396,     0.64254,     0.64159,     0.64118,     0.63969,     0.63884,     0.63826,     0.63778,     0.63683,     0.63635,     0.63446,     0.63351,     0.63256,     0.63208,     0.63066,     0.63029,     0.63005,     0.62828,     0.62733,     0.62638,     0.62402,     0.62354,     0.62259,\n",
              "            0.62164,     0.62116,     0.62068,     0.62037,     0.62013,     0.61971,     0.61876,     0.61827,     0.61733,     0.61611,     0.61587,     0.61448,     0.61399,     0.61258,     0.61069,     0.60833,     0.60785,     0.60643,     0.60407,     0.60312,     0.60171,     0.60029,     0.59934,\n",
              "            0.59745,     0.59603,     0.59461,     0.59319,     0.59224,     0.59176,     0.59034,     0.58799,     0.58657,     0.58537,     0.58514,     0.58278,     0.58136,     0.57947,     0.57899,     0.57664,     0.57569,     0.57427,     0.57238,     0.56955,     0.56813,     0.56625,     0.56389,\n",
              "            0.56247,     0.56199,     0.56104,     0.55962,     0.55773,      0.5542,     0.55325,     0.55183,     0.55088,       0.549,     0.54852,      0.5471,     0.54521,     0.54473,      0.5419,     0.54095,        0.54,     0.53905,     0.53716,     0.53518,      0.5348,     0.53291,     0.53102,\n",
              "            0.53007,     0.52767,     0.52723,     0.52488,     0.52299,     0.51875,     0.51685,     0.51428,     0.51286,      0.5105,     0.51002,     0.50922,     0.50898,     0.50844,     0.50763,     0.50574,     0.50404,      0.5038,     0.50195,     0.50053,     0.49911,     0.49652,      0.4937,\n",
              "             0.4904,     0.48898,     0.48756,     0.48568,     0.48426,     0.48331,     0.48142,     0.48047,     0.47952,     0.47552,     0.47223,     0.46987,     0.46845,     0.46703,     0.46569,     0.46545,     0.46324,     0.45854,     0.45599,       0.455,     0.45264,     0.44982,     0.44418,\n",
              "            0.44276,     0.44087,     0.43757,      0.4361,      0.4345,     0.43308,     0.43073,     0.42931,     0.42789,     0.42506,     0.42411,     0.42293,     0.42104,     0.42056,     0.41914,     0.41538,     0.41234,     0.40855,      0.4062,     0.40243,     0.39914,     0.39725,     0.39297,\n",
              "            0.39089,     0.38807,     0.38665,     0.38288,     0.38147,     0.37747,     0.37558,     0.37463,      0.3718,     0.36929,     0.36639,      0.3645,      0.3612,     0.35885,     0.35532,      0.3539,     0.34826,     0.34449,      0.3419,     0.33908,     0.33672,     0.33389,     0.33193,\n",
              "            0.32894,     0.32752,      0.3247,     0.32258,     0.31834,     0.31692,     0.31535,     0.31198,     0.31009,     0.30679,     0.29951,     0.29762,     0.29574,     0.28986,     0.28844,     0.28327,     0.28181,     0.27692,     0.27503,     0.27032,     0.26633,     0.26538,     0.26338,\n",
              "             0.2623,     0.25995,     0.25712,     0.25359,     0.24842,     0.24682,     0.24535,     0.24299,     0.23712,     0.23476,     0.22748,     0.22606,     0.22555,     0.22346,      0.2211,     0.21569,     0.21474,     0.20995,     0.20792,     0.20697,     0.19781,     0.19639,     0.19342,\n",
              "            0.19144,     0.19049,     0.18696,     0.18441,     0.18108,     0.18013,      0.1766,     0.17518,     0.17212,     0.17161,     0.16905,     0.16716,     0.16175,     0.15942,      0.1591,     0.15515,     0.15326,     0.15266,     0.15113,     0.14854,      0.1479,     0.14547,     0.14452,\n",
              "            0.14145,     0.13842,     0.13791,     0.13345,     0.13039,     0.13007,     0.12872,     0.12636,     0.12424,     0.12369,      0.1207,     0.11955,     0.11922,     0.11785,     0.11385,     0.11323,     0.11078,     0.10819,     0.10753,     0.10526,     0.10493,     0.10461,     0.10289,\n",
              "             0.1021,    0.098962,    0.098642,    0.097529,    0.097048,    0.094222,    0.093673,    0.092088,    0.090465,    0.090144,    0.087127,     0.08622,    0.085899,     0.08511,    0.083797,    0.081909,    0.081244,    0.079775,     0.07463,    0.073654,    0.073173,    0.071914,    0.070655,\n",
              "           0.068928,    0.068607,    0.067252,    0.066503,    0.066343,    0.066183,    0.065328,    0.064026,    0.063706,    0.063385,    0.061529,    0.060242,    0.059453,    0.059132,    0.057051,    0.056858,    0.055596,    0.054254,    0.052054,    0.050643,    0.050322,    0.049439,    0.049056,\n",
              "           0.047237,    0.046382,    0.046062,    0.045159,    0.044795,    0.043963,     0.04306,    0.042739,    0.041817,    0.041004,    0.040245,    0.040005,     0.03926,     0.03894,    0.037526,     0.03611,    0.035789,     0.03538,    0.034899,    0.034515,    0.033234,    0.032284,    0.031834,\n",
              "           0.031513,    0.030607,    0.030126,    0.029176,    0.028355,     0.02798,    0.026562,    0.025612,    0.025131,     0.02472,    0.024399,    0.023923,     0.02204,      0.0218,    0.021096,    0.020936,    0.020775,    0.020149,    0.020012,    0.019875,    0.019737,    0.019525,    0.019284,\n",
              "           0.018388,    0.017438,    0.016958,    0.016008,    0.015527,    0.015392,    0.015296,      0.0152,    0.015104,    0.014989,    0.014284,    0.013803,    0.012853,    0.012049,    0.011809,    0.011569,    0.011328,    0.011031,    0.010672,    0.010191,   0.0097107,   0.0093205,   0.0091282,\n",
              "          0.0089359,   0.0081623,   0.0078946,   0.0077023,   0.0075099,   0.0072709,   0.0065625,   0.0063702,   0.0061778,   0.0053485,   0.0051064,    0.005019,   0.0049316,   0.0048442,   0.0047568,   0.0046693,   0.0045819,   0.0044945,   0.0044071,   0.0043197,   0.0042323,   0.0041162,    0.003996,\n",
              "          0.0038758,   0.0037556,   0.0035964,   0.0034361,    0.003281,   0.0032303,   0.0031797,   0.0031291,   0.0030785,   0.0030279,   0.0029773,   0.0029267,   0.0028761,   0.0028255,   0.0027394,   0.0026433,   0.0025471,    0.002451,   0.0023548,   0.0022009,   0.0020407,   0.0018804,   0.0011735,\n",
              "         0.00069277,           0,           0,           0,           0,           0,           0,           0,           0,           0,           0,           0,           0,           0,           0,           0,           0,           0,           0,           0,           0,           0,           0,\n",
              "                  0,           0,           0,           0,           0,           0,           0,           0,           0,           0,           0,           0,           0,           0,           0,           0,           0,           0,           0,           0,           0,           0,           0,\n",
              "                  0,           0,           0,           0,           0,           0,           0,           0,           0,           0,           0,           0,           0,           0,           0,           0,           0,           0,           0,           0,           0,           0,           0,\n",
              "                  0,           0,           0,           0,           0,           0,           0,           0,           0,           0,           0]]), 'Confidence', 'Recall']]\n",
              "fitness: 0.5056611923243901\n",
              "keys: ['metrics/precision(B)', 'metrics/recall(B)', 'metrics/mAP50(B)', 'metrics/mAP50-95(B)']\n",
              "maps: array([    0.46711])\n",
              "names: {0: 'License_Plate'}\n",
              "plot: True\n",
              "results_dict: {'metrics/precision(B)': 0.9276198588184906, 'metrics/recall(B)': 0.7754488384569685, 'metrics/mAP50(B)': 0.8525931340593101, 'metrics/mAP50-95(B)': 0.46711319879828794, 'fitness': 0.5056611923243901}\n",
              "save_dir: PosixPath('runs/detect/train')\n",
              "speed: {'preprocess': 0.3116330093652272, 'inference': 2.3968513410461965, 'loss': 0.005325380774653669, 'postprocess': 2.6675123623039716}\n",
              "task: 'detect'"
            ]
          },
          "metadata": {},
          "execution_count": 11
        }
      ]
    },
    {
      "cell_type": "code",
      "source": [
        "import locale\n",
        "print(locale.getpreferredencoding())\n",
        "import locale\n",
        "def getpreferredencoding(do_setlocale = True):\n",
        "    return \"UTF-8\"\n",
        "locale.getpreferredencoding = getpreferredencoding\n",
        "!scp -r /content/runs '/content/gdrive/MyDrive/CompVis'"
      ],
      "metadata": {
        "colab": {
          "base_uri": "https://localhost:8080/"
        },
        "id": "PygmaY87KRI5",
        "outputId": "84aed6a1-539a-4227-969e-8e692ebcfbc4"
      },
      "execution_count": 15,
      "outputs": [
        {
          "output_type": "stream",
          "name": "stdout",
          "text": [
            "UTF-8\n"
          ]
        }
      ]
    },
    {
      "cell_type": "code",
      "source": [
        "model.train(data=\"/content/License-Plate-Recognition-4/data.yaml\", epochs=10)"
      ],
      "metadata": {
        "colab": {
          "base_uri": "https://localhost:8080/"
        },
        "id": "t-u66GxlUik1",
        "outputId": "ed12b69a-2995-48f3-e374-80aae75b47d6"
      },
      "execution_count": 16,
      "outputs": [
        {
          "output_type": "stream",
          "name": "stdout",
          "text": [
            "Ultralytics YOLOv8.1.29 🚀 Python-3.10.12 torch-2.2.1+cu121 CUDA:0 (Tesla T4, 15102MiB)\n",
            "\u001b[34m\u001b[1mengine/trainer: \u001b[0mtask=detect, mode=train, model=yolov8n.yaml, data=/content/License-Plate-Recognition-4/data.yaml, epochs=10, time=None, patience=100, batch=16, imgsz=640, save=True, save_period=-1, cache=False, device=None, workers=8, project=None, name=train2, exist_ok=False, pretrained=True, optimizer=auto, verbose=True, seed=0, deterministic=True, single_cls=False, rect=False, cos_lr=False, close_mosaic=10, resume=False, amp=True, fraction=1.0, profile=False, freeze=None, multi_scale=False, overlap_mask=True, mask_ratio=4, dropout=0.0, val=True, split=val, save_json=False, save_hybrid=False, conf=None, iou=0.7, max_det=300, half=False, dnn=False, plots=True, source=None, vid_stride=1, stream_buffer=False, visualize=False, augment=False, agnostic_nms=False, classes=None, retina_masks=False, embed=None, show=False, save_frames=False, save_txt=False, save_conf=False, save_crop=False, show_labels=True, show_conf=True, show_boxes=True, line_width=None, format=torchscript, keras=False, optimize=False, int8=False, dynamic=False, simplify=False, opset=None, workspace=4, nms=False, lr0=0.01, lrf=0.01, momentum=0.937, weight_decay=0.0005, warmup_epochs=3.0, warmup_momentum=0.8, warmup_bias_lr=0.0, box=7.5, cls=0.5, dfl=1.5, pose=12.0, kobj=1.0, label_smoothing=0.0, nbs=64, hsv_h=0.015, hsv_s=0.7, hsv_v=0.4, degrees=0.0, translate=0.1, scale=0.5, shear=0.0, perspective=0.0, flipud=0.0, fliplr=0.5, mosaic=1.0, mixup=0.0, copy_paste=0.0, auto_augment=randaugment, erasing=0.4, crop_fraction=1.0, cfg=None, tracker=botsort.yaml, save_dir=runs/detect/train2\n",
            "\n",
            "                   from  n    params  module                                       arguments                     \n",
            "  0                  -1  1       464  ultralytics.nn.modules.conv.Conv             [3, 16, 3, 2]                 \n",
            "  1                  -1  1      4672  ultralytics.nn.modules.conv.Conv             [16, 32, 3, 2]                \n",
            "  2                  -1  1      7360  ultralytics.nn.modules.block.C2f             [32, 32, 1, True]             \n",
            "  3                  -1  1     18560  ultralytics.nn.modules.conv.Conv             [32, 64, 3, 2]                \n",
            "  4                  -1  2     49664  ultralytics.nn.modules.block.C2f             [64, 64, 2, True]             \n",
            "  5                  -1  1     73984  ultralytics.nn.modules.conv.Conv             [64, 128, 3, 2]               \n",
            "  6                  -1  2    197632  ultralytics.nn.modules.block.C2f             [128, 128, 2, True]           \n",
            "  7                  -1  1    295424  ultralytics.nn.modules.conv.Conv             [128, 256, 3, 2]              \n",
            "  8                  -1  1    460288  ultralytics.nn.modules.block.C2f             [256, 256, 1, True]           \n",
            "  9                  -1  1    164608  ultralytics.nn.modules.block.SPPF            [256, 256, 5]                 \n",
            " 10                  -1  1         0  torch.nn.modules.upsampling.Upsample         [None, 2, 'nearest']          \n",
            " 11             [-1, 6]  1         0  ultralytics.nn.modules.conv.Concat           [1]                           \n",
            " 12                  -1  1    148224  ultralytics.nn.modules.block.C2f             [384, 128, 1]                 \n",
            " 13                  -1  1         0  torch.nn.modules.upsampling.Upsample         [None, 2, 'nearest']          \n",
            " 14             [-1, 4]  1         0  ultralytics.nn.modules.conv.Concat           [1]                           \n",
            " 15                  -1  1     37248  ultralytics.nn.modules.block.C2f             [192, 64, 1]                  \n",
            " 16                  -1  1     36992  ultralytics.nn.modules.conv.Conv             [64, 64, 3, 2]                \n",
            " 17            [-1, 12]  1         0  ultralytics.nn.modules.conv.Concat           [1]                           \n",
            " 18                  -1  1    123648  ultralytics.nn.modules.block.C2f             [192, 128, 1]                 \n",
            " 19                  -1  1    147712  ultralytics.nn.modules.conv.Conv             [128, 128, 3, 2]              \n",
            " 20             [-1, 9]  1         0  ultralytics.nn.modules.conv.Concat           [1]                           \n",
            " 21                  -1  1    493056  ultralytics.nn.modules.block.C2f             [384, 256, 1]                 \n",
            " 22        [15, 18, 21]  1    751507  ultralytics.nn.modules.head.Detect           [1, [64, 128, 256]]           \n",
            "YOLOv8n summary: 225 layers, 3011043 parameters, 3011027 gradients, 8.2 GFLOPs\n",
            "\n",
            "\u001b[34m\u001b[1mTensorBoard: \u001b[0mStart with 'tensorboard --logdir runs/detect/train2', view at http://localhost:6006/\n",
            "Freezing layer 'model.22.dfl.conv.weight'\n",
            "\u001b[34m\u001b[1mAMP: \u001b[0mrunning Automatic Mixed Precision (AMP) checks with YOLOv8n...\n",
            "\u001b[34m\u001b[1mAMP: \u001b[0mchecks passed ✅\n"
          ]
        },
        {
          "output_type": "stream",
          "name": "stderr",
          "text": [
            "\u001b[34m\u001b[1mtrain: \u001b[0mScanning /content/License-Plate-Recognition-4/train/labels.cache... 21173 images, 28 backgrounds, 0 corrupt: 100%|██████████| 21173/21173 [00:00<?, ?it/s]\n"
          ]
        },
        {
          "output_type": "stream",
          "name": "stdout",
          "text": [
            "\u001b[34m\u001b[1malbumentations: \u001b[0mBlur(p=0.01, blur_limit=(3, 7)), MedianBlur(p=0.01, blur_limit=(3, 7)), ToGray(p=0.01), CLAHE(p=0.01, clip_limit=(1, 4.0), tile_grid_size=(8, 8))\n"
          ]
        },
        {
          "output_type": "stream",
          "name": "stderr",
          "text": [
            "\u001b[34m\u001b[1mval: \u001b[0mScanning /content/License-Plate-Recognition-4/valid/labels.cache... 2046 images, 3 backgrounds, 0 corrupt: 100%|██████████| 2046/2046 [00:00<?, ?it/s]\n"
          ]
        },
        {
          "output_type": "stream",
          "name": "stdout",
          "text": [
            "Plotting labels to runs/detect/train2/labels.jpg... \n",
            "\u001b[34m\u001b[1moptimizer:\u001b[0m 'optimizer=auto' found, ignoring 'lr0=0.01' and 'momentum=0.937' and determining best 'optimizer', 'lr0' and 'momentum' automatically... \n",
            "\u001b[34m\u001b[1moptimizer:\u001b[0m AdamW(lr=0.002, momentum=0.9) with parameter groups 57 weight(decay=0.0), 64 weight(decay=0.0005), 63 bias(decay=0.0)\n",
            "\u001b[34m\u001b[1mTensorBoard: \u001b[0mmodel graph visualization added ✅\n",
            "Image sizes 640 train, 640 val\n",
            "Using 2 dataloader workers\n",
            "Logging results to \u001b[1mruns/detect/train2\u001b[0m\n",
            "Starting training for 10 epochs...\n",
            "Closing dataloader mosaic\n",
            "\u001b[34m\u001b[1malbumentations: \u001b[0mBlur(p=0.01, blur_limit=(3, 7)), MedianBlur(p=0.01, blur_limit=(3, 7)), ToGray(p=0.01), CLAHE(p=0.01, clip_limit=(1, 4.0), tile_grid_size=(8, 8))\n",
            "\n",
            "      Epoch    GPU_mem   box_loss   cls_loss   dfl_loss  Instances       Size\n"
          ]
        },
        {
          "output_type": "stream",
          "name": "stderr",
          "text": [
            "       1/10      2.44G      1.893      2.243      2.379          5        640: 100%|██████████| 1324/1324 [08:24<00:00,  2.62it/s]\n",
            "                 Class     Images  Instances      Box(P          R      mAP50  mAP50-95): 100%|██████████| 64/64 [00:24<00:00,  2.60it/s]"
          ]
        },
        {
          "output_type": "stream",
          "name": "stdout",
          "text": [
            "                   all       2046       2132      0.879       0.79      0.858      0.465\n"
          ]
        },
        {
          "output_type": "stream",
          "name": "stderr",
          "text": [
            "\n"
          ]
        },
        {
          "output_type": "stream",
          "name": "stdout",
          "text": [
            "\n",
            "      Epoch    GPU_mem   box_loss   cls_loss   dfl_loss  Instances       Size\n"
          ]
        },
        {
          "output_type": "stream",
          "name": "stderr",
          "text": [
            "       2/10       2.3G      1.366     0.9428      1.613          5        640: 100%|██████████| 1324/1324 [07:54<00:00,  2.79it/s]\n",
            "                 Class     Images  Instances      Box(P          R      mAP50  mAP50-95): 100%|██████████| 64/64 [00:23<00:00,  2.67it/s]"
          ]
        },
        {
          "output_type": "stream",
          "name": "stdout",
          "text": [
            "                   all       2046       2132      0.936      0.843      0.902      0.474\n"
          ]
        },
        {
          "output_type": "stream",
          "name": "stderr",
          "text": [
            "\n"
          ]
        },
        {
          "output_type": "stream",
          "name": "stdout",
          "text": [
            "\n",
            "      Epoch    GPU_mem   box_loss   cls_loss   dfl_loss  Instances       Size\n"
          ]
        },
        {
          "output_type": "stream",
          "name": "stderr",
          "text": [
            "       3/10      2.32G      1.304     0.8313       1.55          5        640: 100%|██████████| 1324/1324 [07:50<00:00,  2.81it/s]\n",
            "                 Class     Images  Instances      Box(P          R      mAP50  mAP50-95): 100%|██████████| 64/64 [00:24<00:00,  2.65it/s]"
          ]
        },
        {
          "output_type": "stream",
          "name": "stdout",
          "text": [
            "                   all       2046       2132      0.928      0.873      0.916      0.489\n"
          ]
        },
        {
          "output_type": "stream",
          "name": "stderr",
          "text": [
            "\n"
          ]
        },
        {
          "output_type": "stream",
          "name": "stdout",
          "text": [
            "\n",
            "      Epoch    GPU_mem   box_loss   cls_loss   dfl_loss  Instances       Size\n"
          ]
        },
        {
          "output_type": "stream",
          "name": "stderr",
          "text": [
            "       4/10      2.32G      1.257     0.7437      1.504          5        640: 100%|██████████| 1324/1324 [07:46<00:00,  2.84it/s]\n",
            "                 Class     Images  Instances      Box(P          R      mAP50  mAP50-95): 100%|██████████| 64/64 [00:23<00:00,  2.70it/s]"
          ]
        },
        {
          "output_type": "stream",
          "name": "stdout",
          "text": [
            "                   all       2046       2132      0.956      0.897      0.939      0.526\n"
          ]
        },
        {
          "output_type": "stream",
          "name": "stderr",
          "text": [
            "\n"
          ]
        },
        {
          "output_type": "stream",
          "name": "stdout",
          "text": [
            "\n",
            "      Epoch    GPU_mem   box_loss   cls_loss   dfl_loss  Instances       Size\n"
          ]
        },
        {
          "output_type": "stream",
          "name": "stderr",
          "text": [
            "       5/10      2.32G       1.23      0.712      1.474          6        640: 100%|██████████| 1324/1324 [07:48<00:00,  2.83it/s]\n",
            "                 Class     Images  Instances      Box(P          R      mAP50  mAP50-95): 100%|██████████| 64/64 [00:24<00:00,  2.58it/s]"
          ]
        },
        {
          "output_type": "stream",
          "name": "stdout",
          "text": [
            "                   all       2046       2132       0.96      0.907      0.949      0.577\n"
          ]
        },
        {
          "output_type": "stream",
          "name": "stderr",
          "text": [
            "\n"
          ]
        },
        {
          "output_type": "stream",
          "name": "stdout",
          "text": [
            "\n",
            "      Epoch    GPU_mem   box_loss   cls_loss   dfl_loss  Instances       Size\n"
          ]
        },
        {
          "output_type": "stream",
          "name": "stderr",
          "text": [
            "       6/10      2.32G      1.194     0.6712      1.441          4        640: 100%|██████████| 1324/1324 [07:45<00:00,  2.85it/s]\n",
            "                 Class     Images  Instances      Box(P          R      mAP50  mAP50-95): 100%|██████████| 64/64 [00:23<00:00,  2.72it/s]"
          ]
        },
        {
          "output_type": "stream",
          "name": "stdout",
          "text": [
            "                   all       2046       2132      0.967      0.905      0.951      0.592\n"
          ]
        },
        {
          "output_type": "stream",
          "name": "stderr",
          "text": [
            "\n"
          ]
        },
        {
          "output_type": "stream",
          "name": "stdout",
          "text": [
            "\n",
            "      Epoch    GPU_mem   box_loss   cls_loss   dfl_loss  Instances       Size\n"
          ]
        },
        {
          "output_type": "stream",
          "name": "stderr",
          "text": [
            "       7/10      2.32G      1.173     0.6336       1.42          5        640: 100%|██████████| 1324/1324 [07:42<00:00,  2.86it/s]\n",
            "                 Class     Images  Instances      Box(P          R      mAP50  mAP50-95): 100%|██████████| 64/64 [00:22<00:00,  2.87it/s]"
          ]
        },
        {
          "output_type": "stream",
          "name": "stdout",
          "text": [
            "                   all       2046       2132      0.961      0.917       0.95      0.604\n"
          ]
        },
        {
          "output_type": "stream",
          "name": "stderr",
          "text": [
            "\n"
          ]
        },
        {
          "output_type": "stream",
          "name": "stdout",
          "text": [
            "\n",
            "      Epoch    GPU_mem   box_loss   cls_loss   dfl_loss  Instances       Size\n"
          ]
        },
        {
          "output_type": "stream",
          "name": "stderr",
          "text": [
            "       8/10      2.32G      1.152     0.6077        1.4          5        640: 100%|██████████| 1324/1324 [07:47<00:00,  2.83it/s]\n",
            "                 Class     Images  Instances      Box(P          R      mAP50  mAP50-95): 100%|██████████| 64/64 [00:24<00:00,  2.59it/s]"
          ]
        },
        {
          "output_type": "stream",
          "name": "stdout",
          "text": [
            "                   all       2046       2132      0.969      0.923      0.958      0.589\n"
          ]
        },
        {
          "output_type": "stream",
          "name": "stderr",
          "text": [
            "\n"
          ]
        },
        {
          "output_type": "stream",
          "name": "stdout",
          "text": [
            "\n",
            "      Epoch    GPU_mem   box_loss   cls_loss   dfl_loss  Instances       Size\n"
          ]
        },
        {
          "output_type": "stream",
          "name": "stderr",
          "text": [
            "       9/10      2.32G      1.134     0.5811      1.388          5        640: 100%|██████████| 1324/1324 [07:41<00:00,  2.87it/s]\n",
            "                 Class     Images  Instances      Box(P          R      mAP50  mAP50-95): 100%|██████████| 64/64 [00:22<00:00,  2.79it/s]"
          ]
        },
        {
          "output_type": "stream",
          "name": "stdout",
          "text": [
            "                   all       2046       2132      0.973      0.923      0.956      0.612\n"
          ]
        },
        {
          "output_type": "stream",
          "name": "stderr",
          "text": [
            "\n"
          ]
        },
        {
          "output_type": "stream",
          "name": "stdout",
          "text": [
            "\n",
            "      Epoch    GPU_mem   box_loss   cls_loss   dfl_loss  Instances       Size\n"
          ]
        },
        {
          "output_type": "stream",
          "name": "stderr",
          "text": [
            "      10/10      2.32G      1.109      0.552      1.366          5        640: 100%|██████████| 1324/1324 [07:42<00:00,  2.86it/s]\n",
            "                 Class     Images  Instances      Box(P          R      mAP50  mAP50-95): 100%|██████████| 64/64 [00:23<00:00,  2.72it/s]"
          ]
        },
        {
          "output_type": "stream",
          "name": "stdout",
          "text": [
            "                   all       2046       2132      0.972      0.929      0.963      0.634\n"
          ]
        },
        {
          "output_type": "stream",
          "name": "stderr",
          "text": [
            "\n"
          ]
        },
        {
          "output_type": "stream",
          "name": "stdout",
          "text": [
            "\n",
            "10 epochs completed in 1.377 hours.\n",
            "Optimizer stripped from runs/detect/train2/weights/last.pt, 6.2MB\n",
            "Optimizer stripped from runs/detect/train2/weights/best.pt, 6.2MB\n",
            "\n",
            "Validating runs/detect/train2/weights/best.pt...\n",
            "Ultralytics YOLOv8.1.29 🚀 Python-3.10.12 torch-2.2.1+cu121 CUDA:0 (Tesla T4, 15102MiB)\n",
            "YOLOv8n summary (fused): 168 layers, 3005843 parameters, 0 gradients, 8.1 GFLOPs\n"
          ]
        },
        {
          "output_type": "stream",
          "name": "stderr",
          "text": [
            "                 Class     Images  Instances      Box(P          R      mAP50  mAP50-95): 100%|██████████| 64/64 [00:27<00:00,  2.31it/s]\n"
          ]
        },
        {
          "output_type": "stream",
          "name": "stdout",
          "text": [
            "                   all       2046       2132      0.973      0.928      0.963      0.634\n",
            "Speed: 0.3ms preprocess, 2.2ms inference, 0.0ms loss, 2.3ms postprocess per image\n",
            "Results saved to \u001b[1mruns/detect/train2\u001b[0m\n"
          ]
        },
        {
          "output_type": "execute_result",
          "data": {
            "text/plain": [
              "ultralytics.utils.metrics.DetMetrics object with attributes:\n",
              "\n",
              "ap_class_index: array([0])\n",
              "box: ultralytics.utils.metrics.Metric object\n",
              "confusion_matrix: <ultralytics.utils.metrics.ConfusionMatrix object at 0x7a6044cd4af0>\n",
              "curves: ['Precision-Recall(B)', 'F1-Confidence(B)', 'Precision-Confidence(B)', 'Recall-Confidence(B)']\n",
              "curves_results: [[array([          0,    0.001001,    0.002002,    0.003003,    0.004004,    0.005005,    0.006006,    0.007007,    0.008008,    0.009009,     0.01001,    0.011011,    0.012012,    0.013013,    0.014014,    0.015015,    0.016016,    0.017017,    0.018018,    0.019019,     0.02002,    0.021021,    0.022022,    0.023023,\n",
              "          0.024024,    0.025025,    0.026026,    0.027027,    0.028028,    0.029029,     0.03003,    0.031031,    0.032032,    0.033033,    0.034034,    0.035035,    0.036036,    0.037037,    0.038038,    0.039039,     0.04004,    0.041041,    0.042042,    0.043043,    0.044044,    0.045045,    0.046046,    0.047047,\n",
              "          0.048048,    0.049049,     0.05005,    0.051051,    0.052052,    0.053053,    0.054054,    0.055055,    0.056056,    0.057057,    0.058058,    0.059059,     0.06006,    0.061061,    0.062062,    0.063063,    0.064064,    0.065065,    0.066066,    0.067067,    0.068068,    0.069069,     0.07007,    0.071071,\n",
              "          0.072072,    0.073073,    0.074074,    0.075075,    0.076076,    0.077077,    0.078078,    0.079079,     0.08008,    0.081081,    0.082082,    0.083083,    0.084084,    0.085085,    0.086086,    0.087087,    0.088088,    0.089089,     0.09009,    0.091091,    0.092092,    0.093093,    0.094094,    0.095095,\n",
              "          0.096096,    0.097097,    0.098098,    0.099099,      0.1001,      0.1011,      0.1021,      0.1031,      0.1041,     0.10511,     0.10611,     0.10711,     0.10811,     0.10911,     0.11011,     0.11111,     0.11211,     0.11311,     0.11411,     0.11512,     0.11612,     0.11712,     0.11812,     0.11912,\n",
              "           0.12012,     0.12112,     0.12212,     0.12312,     0.12412,     0.12513,     0.12613,     0.12713,     0.12813,     0.12913,     0.13013,     0.13113,     0.13213,     0.13313,     0.13413,     0.13514,     0.13614,     0.13714,     0.13814,     0.13914,     0.14014,     0.14114,     0.14214,     0.14314,\n",
              "           0.14414,     0.14515,     0.14615,     0.14715,     0.14815,     0.14915,     0.15015,     0.15115,     0.15215,     0.15315,     0.15415,     0.15516,     0.15616,     0.15716,     0.15816,     0.15916,     0.16016,     0.16116,     0.16216,     0.16316,     0.16416,     0.16517,     0.16617,     0.16717,\n",
              "           0.16817,     0.16917,     0.17017,     0.17117,     0.17217,     0.17317,     0.17417,     0.17518,     0.17618,     0.17718,     0.17818,     0.17918,     0.18018,     0.18118,     0.18218,     0.18318,     0.18418,     0.18519,     0.18619,     0.18719,     0.18819,     0.18919,     0.19019,     0.19119,\n",
              "           0.19219,     0.19319,     0.19419,      0.1952,      0.1962,      0.1972,      0.1982,      0.1992,      0.2002,      0.2012,      0.2022,      0.2032,      0.2042,     0.20521,     0.20621,     0.20721,     0.20821,     0.20921,     0.21021,     0.21121,     0.21221,     0.21321,     0.21421,     0.21522,\n",
              "           0.21622,     0.21722,     0.21822,     0.21922,     0.22022,     0.22122,     0.22222,     0.22322,     0.22422,     0.22523,     0.22623,     0.22723,     0.22823,     0.22923,     0.23023,     0.23123,     0.23223,     0.23323,     0.23423,     0.23524,     0.23624,     0.23724,     0.23824,     0.23924,\n",
              "           0.24024,     0.24124,     0.24224,     0.24324,     0.24424,     0.24525,     0.24625,     0.24725,     0.24825,     0.24925,     0.25025,     0.25125,     0.25225,     0.25325,     0.25425,     0.25526,     0.25626,     0.25726,     0.25826,     0.25926,     0.26026,     0.26126,     0.26226,     0.26326,\n",
              "           0.26426,     0.26527,     0.26627,     0.26727,     0.26827,     0.26927,     0.27027,     0.27127,     0.27227,     0.27327,     0.27427,     0.27528,     0.27628,     0.27728,     0.27828,     0.27928,     0.28028,     0.28128,     0.28228,     0.28328,     0.28428,     0.28529,     0.28629,     0.28729,\n",
              "           0.28829,     0.28929,     0.29029,     0.29129,     0.29229,     0.29329,     0.29429,      0.2953,      0.2963,      0.2973,      0.2983,      0.2993,      0.3003,      0.3013,      0.3023,      0.3033,      0.3043,     0.30531,     0.30631,     0.30731,     0.30831,     0.30931,     0.31031,     0.31131,\n",
              "           0.31231,     0.31331,     0.31431,     0.31532,     0.31632,     0.31732,     0.31832,     0.31932,     0.32032,     0.32132,     0.32232,     0.32332,     0.32432,     0.32533,     0.32633,     0.32733,     0.32833,     0.32933,     0.33033,     0.33133,     0.33233,     0.33333,     0.33433,     0.33534,\n",
              "           0.33634,     0.33734,     0.33834,     0.33934,     0.34034,     0.34134,     0.34234,     0.34334,     0.34434,     0.34535,     0.34635,     0.34735,     0.34835,     0.34935,     0.35035,     0.35135,     0.35235,     0.35335,     0.35435,     0.35536,     0.35636,     0.35736,     0.35836,     0.35936,\n",
              "           0.36036,     0.36136,     0.36236,     0.36336,     0.36436,     0.36537,     0.36637,     0.36737,     0.36837,     0.36937,     0.37037,     0.37137,     0.37237,     0.37337,     0.37437,     0.37538,     0.37638,     0.37738,     0.37838,     0.37938,     0.38038,     0.38138,     0.38238,     0.38338,\n",
              "           0.38438,     0.38539,     0.38639,     0.38739,     0.38839,     0.38939,     0.39039,     0.39139,     0.39239,     0.39339,     0.39439,      0.3954,      0.3964,      0.3974,      0.3984,      0.3994,      0.4004,      0.4014,      0.4024,      0.4034,      0.4044,     0.40541,     0.40641,     0.40741,\n",
              "           0.40841,     0.40941,     0.41041,     0.41141,     0.41241,     0.41341,     0.41441,     0.41542,     0.41642,     0.41742,     0.41842,     0.41942,     0.42042,     0.42142,     0.42242,     0.42342,     0.42442,     0.42543,     0.42643,     0.42743,     0.42843,     0.42943,     0.43043,     0.43143,\n",
              "           0.43243,     0.43343,     0.43443,     0.43544,     0.43644,     0.43744,     0.43844,     0.43944,     0.44044,     0.44144,     0.44244,     0.44344,     0.44444,     0.44545,     0.44645,     0.44745,     0.44845,     0.44945,     0.45045,     0.45145,     0.45245,     0.45345,     0.45445,     0.45546,\n",
              "           0.45646,     0.45746,     0.45846,     0.45946,     0.46046,     0.46146,     0.46246,     0.46346,     0.46446,     0.46547,     0.46647,     0.46747,     0.46847,     0.46947,     0.47047,     0.47147,     0.47247,     0.47347,     0.47447,     0.47548,     0.47648,     0.47748,     0.47848,     0.47948,\n",
              "           0.48048,     0.48148,     0.48248,     0.48348,     0.48448,     0.48549,     0.48649,     0.48749,     0.48849,     0.48949,     0.49049,     0.49149,     0.49249,     0.49349,     0.49449,      0.4955,      0.4965,      0.4975,      0.4985,      0.4995,      0.5005,      0.5015,      0.5025,      0.5035,\n",
              "            0.5045,     0.50551,     0.50651,     0.50751,     0.50851,     0.50951,     0.51051,     0.51151,     0.51251,     0.51351,     0.51451,     0.51552,     0.51652,     0.51752,     0.51852,     0.51952,     0.52052,     0.52152,     0.52252,     0.52352,     0.52452,     0.52553,     0.52653,     0.52753,\n",
              "           0.52853,     0.52953,     0.53053,     0.53153,     0.53253,     0.53353,     0.53453,     0.53554,     0.53654,     0.53754,     0.53854,     0.53954,     0.54054,     0.54154,     0.54254,     0.54354,     0.54454,     0.54555,     0.54655,     0.54755,     0.54855,     0.54955,     0.55055,     0.55155,\n",
              "           0.55255,     0.55355,     0.55455,     0.55556,     0.55656,     0.55756,     0.55856,     0.55956,     0.56056,     0.56156,     0.56256,     0.56356,     0.56456,     0.56557,     0.56657,     0.56757,     0.56857,     0.56957,     0.57057,     0.57157,     0.57257,     0.57357,     0.57457,     0.57558,\n",
              "           0.57658,     0.57758,     0.57858,     0.57958,     0.58058,     0.58158,     0.58258,     0.58358,     0.58458,     0.58559,     0.58659,     0.58759,     0.58859,     0.58959,     0.59059,     0.59159,     0.59259,     0.59359,     0.59459,      0.5956,      0.5966,      0.5976,      0.5986,      0.5996,\n",
              "            0.6006,      0.6016,      0.6026,      0.6036,      0.6046,     0.60561,     0.60661,     0.60761,     0.60861,     0.60961,     0.61061,     0.61161,     0.61261,     0.61361,     0.61461,     0.61562,     0.61662,     0.61762,     0.61862,     0.61962,     0.62062,     0.62162,     0.62262,     0.62362,\n",
              "           0.62462,     0.62563,     0.62663,     0.62763,     0.62863,     0.62963,     0.63063,     0.63163,     0.63263,     0.63363,     0.63463,     0.63564,     0.63664,     0.63764,     0.63864,     0.63964,     0.64064,     0.64164,     0.64264,     0.64364,     0.64464,     0.64565,     0.64665,     0.64765,\n",
              "           0.64865,     0.64965,     0.65065,     0.65165,     0.65265,     0.65365,     0.65465,     0.65566,     0.65666,     0.65766,     0.65866,     0.65966,     0.66066,     0.66166,     0.66266,     0.66366,     0.66466,     0.66567,     0.66667,     0.66767,     0.66867,     0.66967,     0.67067,     0.67167,\n",
              "           0.67267,     0.67367,     0.67467,     0.67568,     0.67668,     0.67768,     0.67868,     0.67968,     0.68068,     0.68168,     0.68268,     0.68368,     0.68468,     0.68569,     0.68669,     0.68769,     0.68869,     0.68969,     0.69069,     0.69169,     0.69269,     0.69369,     0.69469,      0.6957,\n",
              "            0.6967,      0.6977,      0.6987,      0.6997,      0.7007,      0.7017,      0.7027,      0.7037,      0.7047,     0.70571,     0.70671,     0.70771,     0.70871,     0.70971,     0.71071,     0.71171,     0.71271,     0.71371,     0.71471,     0.71572,     0.71672,     0.71772,     0.71872,     0.71972,\n",
              "           0.72072,     0.72172,     0.72272,     0.72372,     0.72472,     0.72573,     0.72673,     0.72773,     0.72873,     0.72973,     0.73073,     0.73173,     0.73273,     0.73373,     0.73473,     0.73574,     0.73674,     0.73774,     0.73874,     0.73974,     0.74074,     0.74174,     0.74274,     0.74374,\n",
              "           0.74474,     0.74575,     0.74675,     0.74775,     0.74875,     0.74975,     0.75075,     0.75175,     0.75275,     0.75375,     0.75475,     0.75576,     0.75676,     0.75776,     0.75876,     0.75976,     0.76076,     0.76176,     0.76276,     0.76376,     0.76476,     0.76577,     0.76677,     0.76777,\n",
              "           0.76877,     0.76977,     0.77077,     0.77177,     0.77277,     0.77377,     0.77477,     0.77578,     0.77678,     0.77778,     0.77878,     0.77978,     0.78078,     0.78178,     0.78278,     0.78378,     0.78478,     0.78579,     0.78679,     0.78779,     0.78879,     0.78979,     0.79079,     0.79179,\n",
              "           0.79279,     0.79379,     0.79479,      0.7958,      0.7968,      0.7978,      0.7988,      0.7998,      0.8008,      0.8018,      0.8028,      0.8038,      0.8048,     0.80581,     0.80681,     0.80781,     0.80881,     0.80981,     0.81081,     0.81181,     0.81281,     0.81381,     0.81481,     0.81582,\n",
              "           0.81682,     0.81782,     0.81882,     0.81982,     0.82082,     0.82182,     0.82282,     0.82382,     0.82482,     0.82583,     0.82683,     0.82783,     0.82883,     0.82983,     0.83083,     0.83183,     0.83283,     0.83383,     0.83483,     0.83584,     0.83684,     0.83784,     0.83884,     0.83984,\n",
              "           0.84084,     0.84184,     0.84284,     0.84384,     0.84484,     0.84585,     0.84685,     0.84785,     0.84885,     0.84985,     0.85085,     0.85185,     0.85285,     0.85385,     0.85485,     0.85586,     0.85686,     0.85786,     0.85886,     0.85986,     0.86086,     0.86186,     0.86286,     0.86386,\n",
              "           0.86486,     0.86587,     0.86687,     0.86787,     0.86887,     0.86987,     0.87087,     0.87187,     0.87287,     0.87387,     0.87487,     0.87588,     0.87688,     0.87788,     0.87888,     0.87988,     0.88088,     0.88188,     0.88288,     0.88388,     0.88488,     0.88589,     0.88689,     0.88789,\n",
              "           0.88889,     0.88989,     0.89089,     0.89189,     0.89289,     0.89389,     0.89489,      0.8959,      0.8969,      0.8979,      0.8989,      0.8999,      0.9009,      0.9019,      0.9029,      0.9039,      0.9049,     0.90591,     0.90691,     0.90791,     0.90891,     0.90991,     0.91091,     0.91191,\n",
              "           0.91291,     0.91391,     0.91491,     0.91592,     0.91692,     0.91792,     0.91892,     0.91992,     0.92092,     0.92192,     0.92292,     0.92392,     0.92492,     0.92593,     0.92693,     0.92793,     0.92893,     0.92993,     0.93093,     0.93193,     0.93293,     0.93393,     0.93493,     0.93594,\n",
              "           0.93694,     0.93794,     0.93894,     0.93994,     0.94094,     0.94194,     0.94294,     0.94394,     0.94494,     0.94595,     0.94695,     0.94795,     0.94895,     0.94995,     0.95095,     0.95195,     0.95295,     0.95395,     0.95495,     0.95596,     0.95696,     0.95796,     0.95896,     0.95996,\n",
              "           0.96096,     0.96196,     0.96296,     0.96396,     0.96496,     0.96597,     0.96697,     0.96797,     0.96897,     0.96997,     0.97097,     0.97197,     0.97297,     0.97397,     0.97497,     0.97598,     0.97698,     0.97798,     0.97898,     0.97998,     0.98098,     0.98198,     0.98298,     0.98398,\n",
              "           0.98498,     0.98599,     0.98699,     0.98799,     0.98899,     0.98999,     0.99099,     0.99199,     0.99299,     0.99399,     0.99499,       0.996,       0.997,       0.998,       0.999,           1]), array([[          1,           1,           1,           1,           1,           1,           1,           1,           1,           1,           1,           1,           1,           1,           1,           1,           1,           1,           1,           1,           1,           1,           1,\n",
              "                  1,           1,           1,           1,           1,           1,           1,           1,           1,           1,           1,           1,           1,           1,           1,           1,           1,           1,           1,           1,           1,           1,           1,\n",
              "                  1,           1,           1,           1,           1,           1,           1,           1,           1,           1,           1,           1,           1,           1,           1,           1,           1,           1,           1,           1,           1,           1,           1,\n",
              "                  1,           1,           1,           1,           1,           1,           1,           1,           1,           1,           1,           1,           1,           1,           1,           1,           1,           1,           1,           1,           1,           1,           1,\n",
              "                  1,           1,           1,           1,           1,           1,           1,           1,           1,           1,           1,           1,           1,           1,           1,           1,           1,           1,           1,           1,           1,           1,           1,\n",
              "                  1,           1,           1,           1,           1,           1,           1,           1,           1,           1,           1,           1,           1,           1,           1,           1,           1,           1,           1,           1,           1,           1,           1,\n",
              "                  1,           1,           1,           1,           1,           1,           1,           1,           1,           1,           1,           1,           1,           1,           1,           1,           1,           1,           1,           1,           1,           1,           1,\n",
              "                  1,           1,           1,           1,           1,           1,           1,           1,           1,           1,           1,           1,           1,           1,           1,           1,           1,           1,           1,           1,           1,           1,           1,\n",
              "                  1,           1,           1,           1,           1,           1,           1,           1,           1,           1,           1,           1,           1,           1,           1,           1,           1,           1,           1,           1,           1,           1,           1,\n",
              "                  1,           1,           1,           1,           1,           1,           1,           1,           1,           1,           1,           1,           1,           1,           1,           1,           1,           1,           1,           1,           1,           1,           1,\n",
              "                  1,           1,           1,           1,           1,           1,           1,           1,           1,           1,           1,           1,           1,           1,           1,           1,           1,           1,           1,           1,           1,           1,           1,\n",
              "                  1,           1,           1,           1,           1,           1,           1,           1,           1,           1,           1,           1,           1,           1,           1,           1,           1,           1,           1,           1,           1,           1,           1,\n",
              "                  1,           1,           1,           1,           1,           1,           1,           1,           1,           1,           1,           1,           1,           1,           1,           1,           1,           1,           1,           1,           1,           1,           1,\n",
              "                  1,     0.99917,     0.99917,     0.99917,     0.99917,     0.99917,     0.99917,     0.99917,     0.99917,     0.99917,     0.99917,     0.99917,     0.99917,     0.99917,     0.99917,     0.99917,     0.99917,     0.99917,     0.99917,     0.99917,     0.99917,     0.99917,     0.99917,\n",
              "            0.99917,     0.99917,     0.99917,     0.99917,     0.99917,     0.99917,     0.99917,     0.99917,     0.99917,     0.99917,     0.99917,     0.99917,     0.99917,     0.99917,     0.99917,     0.99917,     0.99917,     0.99917,     0.99917,     0.99917,     0.99917,     0.99917,     0.99917,\n",
              "            0.99917,     0.99917,     0.99917,     0.99917,     0.99917,     0.99917,     0.99917,     0.99917,     0.99917,     0.99917,     0.99917,     0.99917,     0.99917,     0.99917,     0.99917,     0.99917,     0.99917,     0.99917,     0.99917,     0.99917,     0.99917,     0.99917,     0.99917,\n",
              "            0.99917,     0.99917,     0.99917,     0.99917,     0.99917,     0.99917,     0.99917,     0.99917,     0.99917,     0.99917,     0.99917,     0.99917,     0.99917,     0.99917,     0.99917,     0.99917,     0.99917,     0.99917,     0.99917,     0.99917,     0.99917,     0.99917,     0.99917,\n",
              "            0.99917,     0.99917,     0.99917,     0.99917,     0.99917,     0.99917,     0.99917,     0.99917,     0.99917,     0.99917,     0.99917,     0.99917,     0.99917,     0.99917,     0.99917,     0.99917,     0.99917,     0.99917,     0.99917,     0.99917,     0.99917,     0.99917,     0.99917,\n",
              "            0.99917,     0.99917,     0.99917,     0.99917,     0.99917,     0.99917,     0.99917,     0.99917,     0.99917,     0.99917,     0.99917,     0.99917,     0.99917,     0.99917,     0.99917,     0.99917,     0.99917,     0.99917,     0.99917,     0.99917,     0.99917,     0.99917,     0.99917,\n",
              "            0.99917,     0.99917,     0.99917,     0.99917,     0.99917,     0.99917,     0.99917,     0.99917,     0.99917,     0.99917,     0.99917,     0.99917,     0.99917,     0.99917,     0.99917,     0.99917,     0.99917,     0.99917,     0.99917,     0.99917,     0.99917,     0.99917,     0.99917,\n",
              "            0.99917,     0.99917,     0.99917,     0.99917,     0.99917,     0.99917,     0.99917,     0.99917,     0.99917,     0.99917,     0.99917,     0.99917,     0.99917,     0.99917,     0.99917,     0.99917,     0.99917,     0.99917,     0.99917,     0.99917,     0.99917,     0.99917,     0.99917,\n",
              "            0.99917,     0.99917,     0.99917,     0.99917,     0.99917,     0.99917,     0.99917,     0.99917,     0.99917,     0.99917,     0.99917,     0.99917,     0.99917,     0.99917,     0.99917,     0.99917,     0.99917,     0.99917,     0.99917,     0.99917,     0.99917,     0.99917,     0.99917,\n",
              "            0.99917,     0.99917,     0.99917,     0.99917,     0.99917,     0.99917,     0.99917,     0.99917,     0.99917,     0.99917,     0.99917,     0.99917,     0.99917,     0.99917,     0.99917,     0.99917,     0.99917,     0.99917,     0.99917,     0.99917,     0.99917,     0.99917,     0.99917,\n",
              "            0.99917,     0.99917,     0.99917,     0.99917,     0.99917,     0.99917,     0.99917,     0.99917,     0.99917,     0.99917,     0.99917,     0.99917,     0.99917,     0.99917,     0.99917,     0.99917,     0.99917,     0.99917,     0.99917,     0.99917,     0.99917,     0.99917,     0.99917,\n",
              "            0.99917,     0.99917,     0.99917,     0.99917,     0.99917,     0.99917,     0.99917,     0.99917,     0.99917,     0.99917,     0.99917,     0.99917,     0.99917,     0.99917,     0.99917,     0.99862,     0.99862,     0.99862,     0.99862,     0.99862,     0.99862,     0.99862,     0.99862,\n",
              "            0.99862,     0.99862,     0.99862,     0.99862,     0.99862,     0.99862,     0.99862,     0.99862,     0.99862,     0.99862,     0.99862,     0.99862,     0.99862,     0.99862,     0.99862,     0.99862,     0.99862,     0.99862,     0.99862,     0.99862,     0.99862,     0.99862,     0.99862,\n",
              "            0.99862,     0.99862,     0.99862,     0.99862,     0.99862,     0.99862,     0.99862,     0.99862,     0.99862,     0.99862,     0.99862,     0.99862,     0.99862,     0.99862,     0.99862,     0.99862,     0.99862,     0.99862,     0.99862,     0.99862,     0.99862,     0.99862,     0.99862,\n",
              "            0.99862,     0.99862,     0.99862,     0.99862,     0.99862,     0.99862,     0.99862,     0.99862,     0.99862,     0.99862,     0.99862,     0.99862,     0.99862,     0.99862,     0.99862,     0.99862,     0.99862,     0.99862,     0.99862,     0.99862,     0.99862,     0.99862,     0.99862,\n",
              "            0.99862,     0.99862,     0.99862,     0.99862,     0.99862,     0.99862,     0.99862,     0.99862,     0.99862,     0.99862,     0.99862,     0.99862,     0.99862,     0.99862,     0.99862,     0.99862,     0.99862,     0.99862,     0.99862,     0.99862,     0.99862,     0.99862,     0.99862,\n",
              "            0.99862,     0.99862,     0.99862,     0.99862,     0.99862,     0.99862,     0.99862,     0.99862,     0.99862,     0.99862,     0.99862,     0.99862,     0.99862,     0.99804,     0.99804,     0.99804,     0.99804,     0.99804,     0.99804,     0.99804,     0.99804,     0.99804,     0.99804,\n",
              "            0.99804,     0.99804,     0.99804,     0.99804,     0.99804,     0.99804,     0.99804,     0.99804,     0.99804,     0.99804,     0.99804,     0.99804,     0.99804,     0.99804,     0.99804,     0.99804,     0.99804,     0.99804,     0.99804,     0.99804,     0.99804,     0.99804,     0.99804,\n",
              "            0.99804,     0.99804,     0.99804,     0.99804,     0.99745,     0.99745,     0.99745,     0.99745,     0.99745,     0.99745,     0.99745,     0.99745,     0.99745,     0.99745,     0.99745,     0.99745,     0.99745,     0.99745,     0.99745,     0.99745,     0.99745,     0.99716,     0.99716,\n",
              "            0.99716,     0.99716,     0.99716,     0.99716,     0.99716,     0.99716,     0.99716,     0.99716,     0.99716,     0.99716,     0.99716,     0.99716,     0.99716,     0.99716,     0.99716,     0.99716,     0.99716,     0.99716,     0.99716,     0.99716,     0.99716,     0.99716,     0.99716,\n",
              "            0.99716,     0.99716,     0.99716,     0.99716,     0.99716,     0.99716,     0.99716,     0.99716,     0.99716,     0.99716,     0.99716,     0.99716,     0.99716,     0.99716,     0.99716,     0.99716,     0.99716,     0.99716,     0.99716,     0.99716,     0.99716,     0.99716,     0.99716,\n",
              "            0.99716,     0.99716,     0.99716,     0.99716,     0.99716,     0.99716,     0.99716,     0.99716,     0.99716,     0.99716,     0.99716,     0.99716,     0.99716,     0.99716,     0.99716,     0.99716,     0.99716,     0.99716,     0.99716,     0.99716,     0.99716,     0.99716,     0.99716,\n",
              "            0.99716,     0.99716,     0.99716,     0.99716,     0.99716,     0.99716,     0.99716,     0.99716,     0.99716,     0.99716,     0.99716,     0.99716,     0.99716,     0.99716,     0.99716,     0.99716,     0.99716,     0.99716,     0.99716,      0.9966,      0.9966,     0.99606,     0.99606,\n",
              "            0.99606,     0.99551,     0.99551,     0.99551,     0.99498,     0.99498,     0.99498,     0.99498,     0.99448,     0.99448,     0.99448,     0.99448,     0.99448,     0.99448,     0.99448,     0.99448,     0.99398,     0.99398,     0.99398,     0.99398,     0.99398,     0.99398,     0.99398,\n",
              "            0.99345,     0.99345,       0.993,       0.993,       0.993,       0.993,       0.993,       0.993,       0.993,       0.993,       0.993,       0.993,       0.993,     0.99248,     0.99248,       0.992,       0.992,       0.992,       0.992,       0.992,       0.992,       0.992,     0.99149,\n",
              "            0.99046,     0.99046,     0.98944,     0.98944,     0.98944,     0.98895,     0.98895,     0.98845,     0.98845,     0.98802,     0.98802,     0.98802,     0.98802,     0.98802,     0.98802,     0.98756,     0.98756,     0.98756,     0.98756,     0.98756,     0.98658,     0.98658,     0.98613,\n",
              "            0.98613,     0.98613,     0.98613,     0.98567,     0.98567,     0.98567,     0.98418,     0.98371,     0.98371,     0.98322,     0.98275,     0.98228,     0.98228,     0.98181,     0.98134,     0.98089,     0.98089,     0.98089,     0.98046,     0.98046,      0.9795,     0.97809,     0.97809,\n",
              "            0.97809,     0.97665,      0.9762,     0.97478,     0.97432,     0.97387,     0.97341,     0.97296,      0.9706,     0.97016,     0.96641,      0.9655,     0.96368,     0.96325,      0.9605,     0.95642,     0.95418,     0.95329,     0.95062,     0.94129,     0.92874,     0.92794,     0.92587,\n",
              "            0.92382,     0.90979,     0.90979,     0.89733,     0.88957,     0.88655,     0.88317,     0.87376,     0.86938,     0.85021,      0.8065,     0.78762,     0.74881,     0.74137,     0.72601,     0.69962,     0.68946,     0.66699,     0.64234,     0.59605,     0.54174,     0.53482,      0.4885,\n",
              "            0.42533,     0.39954,     0.37252,     0.36615,     0.33073,     0.28154,     0.25665,     0.24076,     0.17628,     0.16031,     0.15145,     0.14486,     0.13828,     0.13169,     0.12511,     0.11852,     0.11194,     0.10535,    0.098769,    0.092184,      0.0856,    0.079015,     0.07243,\n",
              "           0.065846,    0.059261,    0.052677,    0.046092,    0.039507,    0.032923,    0.026338,    0.019754,    0.013169,   0.0065846,           0]]), 'Recall', 'Precision'], [array([          0,    0.001001,    0.002002,    0.003003,    0.004004,    0.005005,    0.006006,    0.007007,    0.008008,    0.009009,     0.01001,    0.011011,    0.012012,    0.013013,    0.014014,    0.015015,    0.016016,    0.017017,    0.018018,    0.019019,     0.02002,    0.021021,    0.022022,    0.023023,\n",
              "          0.024024,    0.025025,    0.026026,    0.027027,    0.028028,    0.029029,     0.03003,    0.031031,    0.032032,    0.033033,    0.034034,    0.035035,    0.036036,    0.037037,    0.038038,    0.039039,     0.04004,    0.041041,    0.042042,    0.043043,    0.044044,    0.045045,    0.046046,    0.047047,\n",
              "          0.048048,    0.049049,     0.05005,    0.051051,    0.052052,    0.053053,    0.054054,    0.055055,    0.056056,    0.057057,    0.058058,    0.059059,     0.06006,    0.061061,    0.062062,    0.063063,    0.064064,    0.065065,    0.066066,    0.067067,    0.068068,    0.069069,     0.07007,    0.071071,\n",
              "          0.072072,    0.073073,    0.074074,    0.075075,    0.076076,    0.077077,    0.078078,    0.079079,     0.08008,    0.081081,    0.082082,    0.083083,    0.084084,    0.085085,    0.086086,    0.087087,    0.088088,    0.089089,     0.09009,    0.091091,    0.092092,    0.093093,    0.094094,    0.095095,\n",
              "          0.096096,    0.097097,    0.098098,    0.099099,      0.1001,      0.1011,      0.1021,      0.1031,      0.1041,     0.10511,     0.10611,     0.10711,     0.10811,     0.10911,     0.11011,     0.11111,     0.11211,     0.11311,     0.11411,     0.11512,     0.11612,     0.11712,     0.11812,     0.11912,\n",
              "           0.12012,     0.12112,     0.12212,     0.12312,     0.12412,     0.12513,     0.12613,     0.12713,     0.12813,     0.12913,     0.13013,     0.13113,     0.13213,     0.13313,     0.13413,     0.13514,     0.13614,     0.13714,     0.13814,     0.13914,     0.14014,     0.14114,     0.14214,     0.14314,\n",
              "           0.14414,     0.14515,     0.14615,     0.14715,     0.14815,     0.14915,     0.15015,     0.15115,     0.15215,     0.15315,     0.15415,     0.15516,     0.15616,     0.15716,     0.15816,     0.15916,     0.16016,     0.16116,     0.16216,     0.16316,     0.16416,     0.16517,     0.16617,     0.16717,\n",
              "           0.16817,     0.16917,     0.17017,     0.17117,     0.17217,     0.17317,     0.17417,     0.17518,     0.17618,     0.17718,     0.17818,     0.17918,     0.18018,     0.18118,     0.18218,     0.18318,     0.18418,     0.18519,     0.18619,     0.18719,     0.18819,     0.18919,     0.19019,     0.19119,\n",
              "           0.19219,     0.19319,     0.19419,      0.1952,      0.1962,      0.1972,      0.1982,      0.1992,      0.2002,      0.2012,      0.2022,      0.2032,      0.2042,     0.20521,     0.20621,     0.20721,     0.20821,     0.20921,     0.21021,     0.21121,     0.21221,     0.21321,     0.21421,     0.21522,\n",
              "           0.21622,     0.21722,     0.21822,     0.21922,     0.22022,     0.22122,     0.22222,     0.22322,     0.22422,     0.22523,     0.22623,     0.22723,     0.22823,     0.22923,     0.23023,     0.23123,     0.23223,     0.23323,     0.23423,     0.23524,     0.23624,     0.23724,     0.23824,     0.23924,\n",
              "           0.24024,     0.24124,     0.24224,     0.24324,     0.24424,     0.24525,     0.24625,     0.24725,     0.24825,     0.24925,     0.25025,     0.25125,     0.25225,     0.25325,     0.25425,     0.25526,     0.25626,     0.25726,     0.25826,     0.25926,     0.26026,     0.26126,     0.26226,     0.26326,\n",
              "           0.26426,     0.26527,     0.26627,     0.26727,     0.26827,     0.26927,     0.27027,     0.27127,     0.27227,     0.27327,     0.27427,     0.27528,     0.27628,     0.27728,     0.27828,     0.27928,     0.28028,     0.28128,     0.28228,     0.28328,     0.28428,     0.28529,     0.28629,     0.28729,\n",
              "           0.28829,     0.28929,     0.29029,     0.29129,     0.29229,     0.29329,     0.29429,      0.2953,      0.2963,      0.2973,      0.2983,      0.2993,      0.3003,      0.3013,      0.3023,      0.3033,      0.3043,     0.30531,     0.30631,     0.30731,     0.30831,     0.30931,     0.31031,     0.31131,\n",
              "           0.31231,     0.31331,     0.31431,     0.31532,     0.31632,     0.31732,     0.31832,     0.31932,     0.32032,     0.32132,     0.32232,     0.32332,     0.32432,     0.32533,     0.32633,     0.32733,     0.32833,     0.32933,     0.33033,     0.33133,     0.33233,     0.33333,     0.33433,     0.33534,\n",
              "           0.33634,     0.33734,     0.33834,     0.33934,     0.34034,     0.34134,     0.34234,     0.34334,     0.34434,     0.34535,     0.34635,     0.34735,     0.34835,     0.34935,     0.35035,     0.35135,     0.35235,     0.35335,     0.35435,     0.35536,     0.35636,     0.35736,     0.35836,     0.35936,\n",
              "           0.36036,     0.36136,     0.36236,     0.36336,     0.36436,     0.36537,     0.36637,     0.36737,     0.36837,     0.36937,     0.37037,     0.37137,     0.37237,     0.37337,     0.37437,     0.37538,     0.37638,     0.37738,     0.37838,     0.37938,     0.38038,     0.38138,     0.38238,     0.38338,\n",
              "           0.38438,     0.38539,     0.38639,     0.38739,     0.38839,     0.38939,     0.39039,     0.39139,     0.39239,     0.39339,     0.39439,      0.3954,      0.3964,      0.3974,      0.3984,      0.3994,      0.4004,      0.4014,      0.4024,      0.4034,      0.4044,     0.40541,     0.40641,     0.40741,\n",
              "           0.40841,     0.40941,     0.41041,     0.41141,     0.41241,     0.41341,     0.41441,     0.41542,     0.41642,     0.41742,     0.41842,     0.41942,     0.42042,     0.42142,     0.42242,     0.42342,     0.42442,     0.42543,     0.42643,     0.42743,     0.42843,     0.42943,     0.43043,     0.43143,\n",
              "           0.43243,     0.43343,     0.43443,     0.43544,     0.43644,     0.43744,     0.43844,     0.43944,     0.44044,     0.44144,     0.44244,     0.44344,     0.44444,     0.44545,     0.44645,     0.44745,     0.44845,     0.44945,     0.45045,     0.45145,     0.45245,     0.45345,     0.45445,     0.45546,\n",
              "           0.45646,     0.45746,     0.45846,     0.45946,     0.46046,     0.46146,     0.46246,     0.46346,     0.46446,     0.46547,     0.46647,     0.46747,     0.46847,     0.46947,     0.47047,     0.47147,     0.47247,     0.47347,     0.47447,     0.47548,     0.47648,     0.47748,     0.47848,     0.47948,\n",
              "           0.48048,     0.48148,     0.48248,     0.48348,     0.48448,     0.48549,     0.48649,     0.48749,     0.48849,     0.48949,     0.49049,     0.49149,     0.49249,     0.49349,     0.49449,      0.4955,      0.4965,      0.4975,      0.4985,      0.4995,      0.5005,      0.5015,      0.5025,      0.5035,\n",
              "            0.5045,     0.50551,     0.50651,     0.50751,     0.50851,     0.50951,     0.51051,     0.51151,     0.51251,     0.51351,     0.51451,     0.51552,     0.51652,     0.51752,     0.51852,     0.51952,     0.52052,     0.52152,     0.52252,     0.52352,     0.52452,     0.52553,     0.52653,     0.52753,\n",
              "           0.52853,     0.52953,     0.53053,     0.53153,     0.53253,     0.53353,     0.53453,     0.53554,     0.53654,     0.53754,     0.53854,     0.53954,     0.54054,     0.54154,     0.54254,     0.54354,     0.54454,     0.54555,     0.54655,     0.54755,     0.54855,     0.54955,     0.55055,     0.55155,\n",
              "           0.55255,     0.55355,     0.55455,     0.55556,     0.55656,     0.55756,     0.55856,     0.55956,     0.56056,     0.56156,     0.56256,     0.56356,     0.56456,     0.56557,     0.56657,     0.56757,     0.56857,     0.56957,     0.57057,     0.57157,     0.57257,     0.57357,     0.57457,     0.57558,\n",
              "           0.57658,     0.57758,     0.57858,     0.57958,     0.58058,     0.58158,     0.58258,     0.58358,     0.58458,     0.58559,     0.58659,     0.58759,     0.58859,     0.58959,     0.59059,     0.59159,     0.59259,     0.59359,     0.59459,      0.5956,      0.5966,      0.5976,      0.5986,      0.5996,\n",
              "            0.6006,      0.6016,      0.6026,      0.6036,      0.6046,     0.60561,     0.60661,     0.60761,     0.60861,     0.60961,     0.61061,     0.61161,     0.61261,     0.61361,     0.61461,     0.61562,     0.61662,     0.61762,     0.61862,     0.61962,     0.62062,     0.62162,     0.62262,     0.62362,\n",
              "           0.62462,     0.62563,     0.62663,     0.62763,     0.62863,     0.62963,     0.63063,     0.63163,     0.63263,     0.63363,     0.63463,     0.63564,     0.63664,     0.63764,     0.63864,     0.63964,     0.64064,     0.64164,     0.64264,     0.64364,     0.64464,     0.64565,     0.64665,     0.64765,\n",
              "           0.64865,     0.64965,     0.65065,     0.65165,     0.65265,     0.65365,     0.65465,     0.65566,     0.65666,     0.65766,     0.65866,     0.65966,     0.66066,     0.66166,     0.66266,     0.66366,     0.66466,     0.66567,     0.66667,     0.66767,     0.66867,     0.66967,     0.67067,     0.67167,\n",
              "           0.67267,     0.67367,     0.67467,     0.67568,     0.67668,     0.67768,     0.67868,     0.67968,     0.68068,     0.68168,     0.68268,     0.68368,     0.68468,     0.68569,     0.68669,     0.68769,     0.68869,     0.68969,     0.69069,     0.69169,     0.69269,     0.69369,     0.69469,      0.6957,\n",
              "            0.6967,      0.6977,      0.6987,      0.6997,      0.7007,      0.7017,      0.7027,      0.7037,      0.7047,     0.70571,     0.70671,     0.70771,     0.70871,     0.70971,     0.71071,     0.71171,     0.71271,     0.71371,     0.71471,     0.71572,     0.71672,     0.71772,     0.71872,     0.71972,\n",
              "           0.72072,     0.72172,     0.72272,     0.72372,     0.72472,     0.72573,     0.72673,     0.72773,     0.72873,     0.72973,     0.73073,     0.73173,     0.73273,     0.73373,     0.73473,     0.73574,     0.73674,     0.73774,     0.73874,     0.73974,     0.74074,     0.74174,     0.74274,     0.74374,\n",
              "           0.74474,     0.74575,     0.74675,     0.74775,     0.74875,     0.74975,     0.75075,     0.75175,     0.75275,     0.75375,     0.75475,     0.75576,     0.75676,     0.75776,     0.75876,     0.75976,     0.76076,     0.76176,     0.76276,     0.76376,     0.76476,     0.76577,     0.76677,     0.76777,\n",
              "           0.76877,     0.76977,     0.77077,     0.77177,     0.77277,     0.77377,     0.77477,     0.77578,     0.77678,     0.77778,     0.77878,     0.77978,     0.78078,     0.78178,     0.78278,     0.78378,     0.78478,     0.78579,     0.78679,     0.78779,     0.78879,     0.78979,     0.79079,     0.79179,\n",
              "           0.79279,     0.79379,     0.79479,      0.7958,      0.7968,      0.7978,      0.7988,      0.7998,      0.8008,      0.8018,      0.8028,      0.8038,      0.8048,     0.80581,     0.80681,     0.80781,     0.80881,     0.80981,     0.81081,     0.81181,     0.81281,     0.81381,     0.81481,     0.81582,\n",
              "           0.81682,     0.81782,     0.81882,     0.81982,     0.82082,     0.82182,     0.82282,     0.82382,     0.82482,     0.82583,     0.82683,     0.82783,     0.82883,     0.82983,     0.83083,     0.83183,     0.83283,     0.83383,     0.83483,     0.83584,     0.83684,     0.83784,     0.83884,     0.83984,\n",
              "           0.84084,     0.84184,     0.84284,     0.84384,     0.84484,     0.84585,     0.84685,     0.84785,     0.84885,     0.84985,     0.85085,     0.85185,     0.85285,     0.85385,     0.85485,     0.85586,     0.85686,     0.85786,     0.85886,     0.85986,     0.86086,     0.86186,     0.86286,     0.86386,\n",
              "           0.86486,     0.86587,     0.86687,     0.86787,     0.86887,     0.86987,     0.87087,     0.87187,     0.87287,     0.87387,     0.87487,     0.87588,     0.87688,     0.87788,     0.87888,     0.87988,     0.88088,     0.88188,     0.88288,     0.88388,     0.88488,     0.88589,     0.88689,     0.88789,\n",
              "           0.88889,     0.88989,     0.89089,     0.89189,     0.89289,     0.89389,     0.89489,      0.8959,      0.8969,      0.8979,      0.8989,      0.8999,      0.9009,      0.9019,      0.9029,      0.9039,      0.9049,     0.90591,     0.90691,     0.90791,     0.90891,     0.90991,     0.91091,     0.91191,\n",
              "           0.91291,     0.91391,     0.91491,     0.91592,     0.91692,     0.91792,     0.91892,     0.91992,     0.92092,     0.92192,     0.92292,     0.92392,     0.92492,     0.92593,     0.92693,     0.92793,     0.92893,     0.92993,     0.93093,     0.93193,     0.93293,     0.93393,     0.93493,     0.93594,\n",
              "           0.93694,     0.93794,     0.93894,     0.93994,     0.94094,     0.94194,     0.94294,     0.94394,     0.94494,     0.94595,     0.94695,     0.94795,     0.94895,     0.94995,     0.95095,     0.95195,     0.95295,     0.95395,     0.95495,     0.95596,     0.95696,     0.95796,     0.95896,     0.95996,\n",
              "           0.96096,     0.96196,     0.96296,     0.96396,     0.96496,     0.96597,     0.96697,     0.96797,     0.96897,     0.96997,     0.97097,     0.97197,     0.97297,     0.97397,     0.97497,     0.97598,     0.97698,     0.97798,     0.97898,     0.97998,     0.98098,     0.98198,     0.98298,     0.98398,\n",
              "           0.98498,     0.98599,     0.98699,     0.98799,     0.98899,     0.98999,     0.99099,     0.99199,     0.99299,     0.99399,     0.99499,       0.996,       0.997,       0.998,       0.999,           1]), array([[    0.27102,     0.27102,     0.37582,     0.44382,     0.49192,     0.52993,     0.55985,     0.58611,     0.60834,     0.63034,     0.64892,     0.66318,      0.6762,     0.68863,     0.70102,     0.71206,     0.72056,     0.72961,     0.73848,     0.74711,     0.75381,     0.75822,     0.76526,\n",
              "            0.77038,     0.77591,     0.78261,     0.78678,     0.79262,     0.79732,     0.80054,     0.80486,     0.80937,     0.81318,     0.81729,     0.81991,     0.82275,     0.82569,     0.82866,     0.83131,     0.83542,     0.83679,     0.83987,     0.84141,     0.84408,     0.84695,     0.85042,\n",
              "            0.85202,     0.85321,     0.85521,     0.85727,     0.86007,     0.86195,     0.86395,     0.86508,     0.86712,     0.86934,     0.87098,     0.87183,     0.87303,     0.87391,     0.87476,     0.87729,     0.87853,     0.87972,     0.88093,     0.88214,     0.88358,     0.88409,     0.88489,\n",
              "            0.88559,       0.887,      0.8879,     0.88854,     0.88926,     0.89018,     0.89093,     0.89164,     0.89293,     0.89356,     0.89386,     0.89481,     0.89648,     0.89732,     0.89892,      0.8996,     0.90047,     0.90132,     0.90172,      0.9024,     0.90286,     0.90407,     0.90479,\n",
              "             0.9055,     0.90601,     0.90695,     0.90775,     0.90812,     0.90874,     0.90956,     0.90989,     0.91061,     0.91092,     0.91178,     0.91276,     0.91341,     0.91419,     0.91457,      0.9147,     0.91537,     0.91573,     0.91657,      0.9168,     0.91706,     0.91724,     0.91703,\n",
              "            0.91716,     0.91737,     0.91781,     0.91786,     0.91848,     0.91862,     0.91876,     0.91926,     0.91995,     0.92021,     0.92003,     0.92053,     0.92092,     0.92128,     0.92198,     0.92216,     0.92226,     0.92239,      0.9226,     0.92302,     0.92313,     0.92336,     0.92359,\n",
              "            0.92389,     0.92405,     0.92512,     0.92542,     0.92557,     0.92569,     0.92576,     0.92583,      0.9259,     0.92596,     0.92602,     0.92634,     0.92717,     0.92742,     0.92705,     0.92689,      0.9273,     0.92794,     0.92834,     0.92861,     0.92875,     0.92927,     0.92948,\n",
              "            0.92995,     0.93014,     0.93033,     0.93046,     0.93059,     0.93115,     0.93129,      0.9317,     0.93223,     0.93242,     0.93262,     0.93283,     0.93311,     0.93327,     0.93334,     0.93342,     0.93371,     0.93377,     0.93383,     0.93384,     0.93383,     0.93394,     0.93386,\n",
              "            0.93404,     0.93443,     0.93428,      0.9343,     0.93441,     0.93475,     0.93508,     0.93487,     0.93498,     0.93481,     0.93465,     0.93484,     0.93477,     0.93495,     0.93533,     0.93558,     0.93612,      0.9363,     0.93666,     0.93678,     0.93685,     0.93692,     0.93714,\n",
              "            0.93733,     0.93747,     0.93785,     0.93803,     0.93814,      0.9385,     0.93877,     0.93897,     0.93907,     0.93893,     0.93906,     0.93932,      0.9394,     0.93948,     0.93958,     0.93969,     0.94028,     0.94047,     0.94043,     0.94053,     0.94075,      0.9408,     0.94097,\n",
              "            0.94168,     0.94244,     0.94282,     0.94289,     0.94295,     0.94302,     0.94313,     0.94323,     0.94333,     0.94344,     0.94376,     0.94387,     0.94413,     0.94428,     0.94474,     0.94469,     0.94457,     0.94474,     0.94506,     0.94533,     0.94518,     0.94522,     0.94527,\n",
              "            0.94531,     0.94535,      0.9454,     0.94549,     0.94559,     0.94559,     0.94575,     0.94549,     0.94533,     0.94538,     0.94544,      0.9455,     0.94557,     0.94572,     0.94583,     0.94593,     0.94623,     0.94627,      0.9463,     0.94634,     0.94638,     0.94641,     0.94642,\n",
              "            0.94621,     0.94615,      0.9461,     0.94605,     0.94601,     0.94596,     0.94629,     0.94639,     0.94646,     0.94653,     0.94683,      0.9469,     0.94697,     0.94704,     0.94727,     0.94734,     0.94741,     0.94748,      0.9475,     0.94774,     0.94788,     0.94798,     0.94807,\n",
              "            0.94817,     0.94831,     0.94839,     0.94842,     0.94846,     0.94849,     0.94853,     0.94856,     0.94859,     0.94843,     0.94829,     0.94814,     0.94811,     0.94818,     0.94825,     0.94827,      0.9482,     0.94812,     0.94805,     0.94781,     0.94792,      0.9481,     0.94826,\n",
              "            0.94827,     0.94829,     0.94831,     0.94832,     0.94834,     0.94836,     0.94837,     0.94839,      0.9484,     0.94842,     0.94844,     0.94845,     0.94847,     0.94841,     0.94835,     0.94828,     0.94829,     0.94808,     0.94806,     0.94824,     0.94837,     0.94826,      0.9484,\n",
              "            0.94861,     0.94868,     0.94874,     0.94881,     0.94892,     0.94906,     0.94914,     0.94923,     0.94959,     0.94969,     0.94954,     0.94964,     0.94964,     0.94952,     0.94922,     0.94934,      0.9492,     0.94925,      0.9493,     0.94935,      0.9494,     0.94956,      0.9497,\n",
              "            0.94978,     0.94987,     0.94964,     0.94971,     0.94979,     0.94995,     0.95003,     0.94996,     0.94989,     0.94982,     0.94958,     0.94955,     0.94929,     0.94938,     0.94946,     0.94948,     0.94935,     0.94914,     0.94916,     0.94907,     0.94875,     0.94877,     0.94879,\n",
              "            0.94881,     0.94883,     0.94885,     0.94887,     0.94889,     0.94891,     0.94893,     0.94895,     0.94884,     0.94854,     0.94864,     0.94887,     0.94896,     0.94902,     0.94908,     0.94914,     0.94901,     0.94858,      0.9486,     0.94853,     0.94847,      0.9484,     0.94827,\n",
              "            0.94812,     0.94815,     0.94818,     0.94821,     0.94824,     0.94827,      0.9483,     0.94833,     0.94852,     0.94879,     0.94872,     0.94866,     0.94859,     0.94824,       0.948,     0.94787,     0.94758,     0.94782,       0.948,     0.94808,     0.94816,     0.94808,     0.94779,\n",
              "            0.94798,     0.94781,     0.94768,     0.94745,     0.94719,     0.94704,      0.9469,     0.94673,     0.94684,     0.94637,     0.94611,     0.94584,     0.94577,     0.94571,     0.94564,     0.94558,     0.94567,     0.94575,     0.94571,     0.94519,     0.94507,     0.94515,     0.94523,\n",
              "             0.9452,     0.94507,     0.94487,     0.94468,     0.94455,     0.94469,     0.94462,     0.94456,     0.94449,     0.94428,     0.94402,     0.94415,     0.94409,     0.94404,     0.94399,     0.94394,     0.94369,     0.94355,     0.94342,     0.94349,     0.94357,     0.94364,     0.94338,\n",
              "            0.94325,     0.94313,     0.94315,     0.94317,      0.9432,     0.94322,     0.94324,     0.94326,     0.94328,      0.9433,     0.94332,     0.94335,     0.94326,     0.94305,     0.94292,     0.94272,     0.94256,     0.94252,     0.94248,     0.94243,     0.94239,     0.94234,     0.94247,\n",
              "            0.94236,     0.94266,     0.94267,     0.94258,     0.94249,     0.94237,     0.94224,       0.942,     0.94173,     0.94136,     0.94127,     0.94118,     0.94093,     0.94089,     0.94082,     0.94076,     0.94069,     0.94009,     0.93958,     0.93954,     0.93949,     0.93945,      0.9394,\n",
              "            0.93936,     0.93939,     0.93953,     0.93944,     0.93935,     0.93927,     0.93921,     0.93914,     0.93907,     0.93892,     0.93871,     0.93858,     0.93847,     0.93838,     0.93829,      0.9384,      0.9384,     0.93827,     0.93775,     0.93731,     0.93718,     0.93652,     0.93639,\n",
              "            0.93628,     0.93611,     0.93599,      0.9359,     0.93581,     0.93522,     0.93508,     0.93495,     0.93481,     0.93461,     0.93434,     0.93407,      0.9338,     0.93361,     0.93348,     0.93325,     0.93298,     0.93271,     0.93282,     0.93266,     0.93223,      0.9321,     0.93228,\n",
              "            0.93207,     0.93192,     0.93179,     0.93143,     0.93134,     0.93098,     0.93072,     0.93088,     0.93063,     0.93054,     0.93045,     0.93024,     0.92951,     0.92936,     0.92882,     0.92916,     0.92873,      0.9286,     0.92815,     0.92761,      0.9275,     0.92743,     0.92735,\n",
              "            0.92718,     0.92691,     0.92609,     0.92582,     0.92554,     0.92527,     0.92499,     0.92495,     0.92451,      0.9244,     0.92425,     0.92421,     0.92393,     0.92315,     0.92301,     0.92229,     0.92201,     0.92119,     0.92068,     0.92049,     0.91981,     0.91967,     0.91926,\n",
              "            0.91912,     0.91898,     0.91857,     0.91846,     0.91834,     0.91781,     0.91706,     0.91666,     0.91638,     0.91555,     0.91499,     0.91403,     0.91351,     0.91337,     0.91346,     0.91332,       0.913,     0.91215,     0.91131,     0.91038,     0.91029,     0.90992,      0.9098,\n",
              "            0.90969,     0.90919,     0.90897,     0.90857,     0.90801,     0.90731,     0.90645,     0.90631,     0.90584,     0.90518,      0.9048,     0.90423,     0.90366,      0.9022,     0.90059,     0.89945,     0.89831,     0.89802,     0.89644,     0.89415,     0.89388,     0.89373,       0.893,\n",
              "            0.89281,     0.89254,      0.8911,     0.88979,     0.88896,     0.88881,     0.88823,      0.8876,     0.88701,     0.88613,     0.88424,     0.88394,     0.88106,     0.87939,     0.87879,      0.8779,     0.87728,     0.87576,     0.87561,     0.87335,     0.87224,     0.87104,     0.86977,\n",
              "            0.86908,     0.86638,     0.86607,      0.8635,     0.86076,     0.86033,     0.85847,     0.85754,     0.85432,     0.85123,     0.84828,     0.84765,     0.84607,     0.84562,     0.84396,     0.84098,     0.84002,     0.83869,     0.83827,     0.83446,     0.83229,     0.83164,     0.82961,\n",
              "            0.82794,       0.826,     0.82296,     0.82274,     0.81948,     0.81817,     0.81274,     0.80942,      0.8048,     0.80209,     0.79822,     0.79754,     0.79294,     0.78807,     0.78692,      0.7791,     0.77453,     0.77267,     0.76797,     0.76171,     0.75797,     0.75464,     0.75172,\n",
              "            0.74455,     0.73508,     0.73166,     0.72379,     0.71544,     0.71192,     0.70744,     0.70153,     0.69136,     0.68808,     0.68225,     0.67301,     0.67085,      0.6649,     0.65372,     0.64975,      0.6445,     0.63517,     0.63017,      0.6208,     0.61095,     0.60818,     0.60018,\n",
              "            0.59348,      0.5874,     0.58576,     0.57797,     0.57268,     0.56406,     0.56204,     0.55308,     0.54244,     0.54082,     0.52884,     0.52155,     0.51988,     0.51291,     0.50803,     0.50139,     0.49958,      0.4974,     0.49561,     0.49525,     0.48831,     0.48345,     0.47939,\n",
              "            0.47526,     0.47447,     0.46864,     0.46345,     0.45935,     0.45804,     0.45371,     0.45185,     0.44632,     0.44448,     0.43887,     0.43532,     0.42904,     0.42721,     0.42434,     0.41637,     0.41254,     0.40747,     0.40178,     0.39817,     0.39751,     0.39446,     0.38887,\n",
              "            0.38345,     0.37802,      0.3776,     0.37517,     0.37407,     0.37111,     0.36985,     0.36838,     0.36585,     0.36292,      0.3595,     0.35531,     0.35466,     0.35371,     0.35303,      0.3492,     0.34876,     0.34656,     0.34395,     0.34188,     0.34002,     0.33881,     0.33749,\n",
              "            0.33604,      0.3334,     0.33076,     0.32811,     0.32665,     0.32565,     0.32473,     0.32338,     0.32202,     0.32095,     0.32061,     0.31862,     0.31726,     0.31323,     0.31052,     0.30781,     0.30576,     0.30316,      0.3027,     0.30093,     0.29954,     0.29866,     0.29539,\n",
              "            0.28989,     0.28366,     0.27739,     0.27316,     0.26399,     0.25757,       0.241,     0.22854,      0.2174,     0.19853,     0.18623,     0.16827,     0.15476,     0.14589,     0.12876,     0.11882,     0.10708,    0.090937,     0.08317,    0.077076,    0.069196,    0.061251,    0.057674,\n",
              "           0.053196,    0.045118,    0.036974,    0.032399,    0.029626,    0.025931,     0.02314,    0.018501,    0.016678,    0.015642,    0.014514,    0.013905,    0.013431,    0.011938,    0.011112,    0.010731,    0.010351,   0.0081307,   0.0074099,   0.0071978,   0.0069857,   0.0067734,   0.0065612,\n",
              "          0.0059563,   0.0046353,   0.0045396,   0.0044439,   0.0043482,   0.0042524,   0.0041567,   0.0040609,   0.0039651,   0.0038694,   0.0037736,   0.0032949,   0.0027846,    0.002678,   0.0025714,   0.0024649,   0.0023583,   0.0022517,   0.0021451,   0.0020385,   0.0019318,  0.00098831,           0,\n",
              "                  0,           0,           0,           0,           0,           0,           0,           0,           0,           0,           0,           0,           0,           0,           0,           0,           0,           0,           0,           0,           0,           0,           0,\n",
              "                  0,           0,           0,           0,           0,           0,           0,           0,           0,           0,           0,           0,           0,           0,           0,           0,           0,           0,           0,           0,           0,           0,           0,\n",
              "                  0,           0,           0,           0,           0,           0,           0,           0,           0,           0,           0,           0,           0,           0,           0,           0,           0,           0,           0,           0,           0,           0,           0,\n",
              "                  0,           0,           0,           0,           0,           0,           0,           0,           0,           0,           0]]), 'Confidence', 'F1'], [array([          0,    0.001001,    0.002002,    0.003003,    0.004004,    0.005005,    0.006006,    0.007007,    0.008008,    0.009009,     0.01001,    0.011011,    0.012012,    0.013013,    0.014014,    0.015015,    0.016016,    0.017017,    0.018018,    0.019019,     0.02002,    0.021021,    0.022022,    0.023023,\n",
              "          0.024024,    0.025025,    0.026026,    0.027027,    0.028028,    0.029029,     0.03003,    0.031031,    0.032032,    0.033033,    0.034034,    0.035035,    0.036036,    0.037037,    0.038038,    0.039039,     0.04004,    0.041041,    0.042042,    0.043043,    0.044044,    0.045045,    0.046046,    0.047047,\n",
              "          0.048048,    0.049049,     0.05005,    0.051051,    0.052052,    0.053053,    0.054054,    0.055055,    0.056056,    0.057057,    0.058058,    0.059059,     0.06006,    0.061061,    0.062062,    0.063063,    0.064064,    0.065065,    0.066066,    0.067067,    0.068068,    0.069069,     0.07007,    0.071071,\n",
              "          0.072072,    0.073073,    0.074074,    0.075075,    0.076076,    0.077077,    0.078078,    0.079079,     0.08008,    0.081081,    0.082082,    0.083083,    0.084084,    0.085085,    0.086086,    0.087087,    0.088088,    0.089089,     0.09009,    0.091091,    0.092092,    0.093093,    0.094094,    0.095095,\n",
              "          0.096096,    0.097097,    0.098098,    0.099099,      0.1001,      0.1011,      0.1021,      0.1031,      0.1041,     0.10511,     0.10611,     0.10711,     0.10811,     0.10911,     0.11011,     0.11111,     0.11211,     0.11311,     0.11411,     0.11512,     0.11612,     0.11712,     0.11812,     0.11912,\n",
              "           0.12012,     0.12112,     0.12212,     0.12312,     0.12412,     0.12513,     0.12613,     0.12713,     0.12813,     0.12913,     0.13013,     0.13113,     0.13213,     0.13313,     0.13413,     0.13514,     0.13614,     0.13714,     0.13814,     0.13914,     0.14014,     0.14114,     0.14214,     0.14314,\n",
              "           0.14414,     0.14515,     0.14615,     0.14715,     0.14815,     0.14915,     0.15015,     0.15115,     0.15215,     0.15315,     0.15415,     0.15516,     0.15616,     0.15716,     0.15816,     0.15916,     0.16016,     0.16116,     0.16216,     0.16316,     0.16416,     0.16517,     0.16617,     0.16717,\n",
              "           0.16817,     0.16917,     0.17017,     0.17117,     0.17217,     0.17317,     0.17417,     0.17518,     0.17618,     0.17718,     0.17818,     0.17918,     0.18018,     0.18118,     0.18218,     0.18318,     0.18418,     0.18519,     0.18619,     0.18719,     0.18819,     0.18919,     0.19019,     0.19119,\n",
              "           0.19219,     0.19319,     0.19419,      0.1952,      0.1962,      0.1972,      0.1982,      0.1992,      0.2002,      0.2012,      0.2022,      0.2032,      0.2042,     0.20521,     0.20621,     0.20721,     0.20821,     0.20921,     0.21021,     0.21121,     0.21221,     0.21321,     0.21421,     0.21522,\n",
              "           0.21622,     0.21722,     0.21822,     0.21922,     0.22022,     0.22122,     0.22222,     0.22322,     0.22422,     0.22523,     0.22623,     0.22723,     0.22823,     0.22923,     0.23023,     0.23123,     0.23223,     0.23323,     0.23423,     0.23524,     0.23624,     0.23724,     0.23824,     0.23924,\n",
              "           0.24024,     0.24124,     0.24224,     0.24324,     0.24424,     0.24525,     0.24625,     0.24725,     0.24825,     0.24925,     0.25025,     0.25125,     0.25225,     0.25325,     0.25425,     0.25526,     0.25626,     0.25726,     0.25826,     0.25926,     0.26026,     0.26126,     0.26226,     0.26326,\n",
              "           0.26426,     0.26527,     0.26627,     0.26727,     0.26827,     0.26927,     0.27027,     0.27127,     0.27227,     0.27327,     0.27427,     0.27528,     0.27628,     0.27728,     0.27828,     0.27928,     0.28028,     0.28128,     0.28228,     0.28328,     0.28428,     0.28529,     0.28629,     0.28729,\n",
              "           0.28829,     0.28929,     0.29029,     0.29129,     0.29229,     0.29329,     0.29429,      0.2953,      0.2963,      0.2973,      0.2983,      0.2993,      0.3003,      0.3013,      0.3023,      0.3033,      0.3043,     0.30531,     0.30631,     0.30731,     0.30831,     0.30931,     0.31031,     0.31131,\n",
              "           0.31231,     0.31331,     0.31431,     0.31532,     0.31632,     0.31732,     0.31832,     0.31932,     0.32032,     0.32132,     0.32232,     0.32332,     0.32432,     0.32533,     0.32633,     0.32733,     0.32833,     0.32933,     0.33033,     0.33133,     0.33233,     0.33333,     0.33433,     0.33534,\n",
              "           0.33634,     0.33734,     0.33834,     0.33934,     0.34034,     0.34134,     0.34234,     0.34334,     0.34434,     0.34535,     0.34635,     0.34735,     0.34835,     0.34935,     0.35035,     0.35135,     0.35235,     0.35335,     0.35435,     0.35536,     0.35636,     0.35736,     0.35836,     0.35936,\n",
              "           0.36036,     0.36136,     0.36236,     0.36336,     0.36436,     0.36537,     0.36637,     0.36737,     0.36837,     0.36937,     0.37037,     0.37137,     0.37237,     0.37337,     0.37437,     0.37538,     0.37638,     0.37738,     0.37838,     0.37938,     0.38038,     0.38138,     0.38238,     0.38338,\n",
              "           0.38438,     0.38539,     0.38639,     0.38739,     0.38839,     0.38939,     0.39039,     0.39139,     0.39239,     0.39339,     0.39439,      0.3954,      0.3964,      0.3974,      0.3984,      0.3994,      0.4004,      0.4014,      0.4024,      0.4034,      0.4044,     0.40541,     0.40641,     0.40741,\n",
              "           0.40841,     0.40941,     0.41041,     0.41141,     0.41241,     0.41341,     0.41441,     0.41542,     0.41642,     0.41742,     0.41842,     0.41942,     0.42042,     0.42142,     0.42242,     0.42342,     0.42442,     0.42543,     0.42643,     0.42743,     0.42843,     0.42943,     0.43043,     0.43143,\n",
              "           0.43243,     0.43343,     0.43443,     0.43544,     0.43644,     0.43744,     0.43844,     0.43944,     0.44044,     0.44144,     0.44244,     0.44344,     0.44444,     0.44545,     0.44645,     0.44745,     0.44845,     0.44945,     0.45045,     0.45145,     0.45245,     0.45345,     0.45445,     0.45546,\n",
              "           0.45646,     0.45746,     0.45846,     0.45946,     0.46046,     0.46146,     0.46246,     0.46346,     0.46446,     0.46547,     0.46647,     0.46747,     0.46847,     0.46947,     0.47047,     0.47147,     0.47247,     0.47347,     0.47447,     0.47548,     0.47648,     0.47748,     0.47848,     0.47948,\n",
              "           0.48048,     0.48148,     0.48248,     0.48348,     0.48448,     0.48549,     0.48649,     0.48749,     0.48849,     0.48949,     0.49049,     0.49149,     0.49249,     0.49349,     0.49449,      0.4955,      0.4965,      0.4975,      0.4985,      0.4995,      0.5005,      0.5015,      0.5025,      0.5035,\n",
              "            0.5045,     0.50551,     0.50651,     0.50751,     0.50851,     0.50951,     0.51051,     0.51151,     0.51251,     0.51351,     0.51451,     0.51552,     0.51652,     0.51752,     0.51852,     0.51952,     0.52052,     0.52152,     0.52252,     0.52352,     0.52452,     0.52553,     0.52653,     0.52753,\n",
              "           0.52853,     0.52953,     0.53053,     0.53153,     0.53253,     0.53353,     0.53453,     0.53554,     0.53654,     0.53754,     0.53854,     0.53954,     0.54054,     0.54154,     0.54254,     0.54354,     0.54454,     0.54555,     0.54655,     0.54755,     0.54855,     0.54955,     0.55055,     0.55155,\n",
              "           0.55255,     0.55355,     0.55455,     0.55556,     0.55656,     0.55756,     0.55856,     0.55956,     0.56056,     0.56156,     0.56256,     0.56356,     0.56456,     0.56557,     0.56657,     0.56757,     0.56857,     0.56957,     0.57057,     0.57157,     0.57257,     0.57357,     0.57457,     0.57558,\n",
              "           0.57658,     0.57758,     0.57858,     0.57958,     0.58058,     0.58158,     0.58258,     0.58358,     0.58458,     0.58559,     0.58659,     0.58759,     0.58859,     0.58959,     0.59059,     0.59159,     0.59259,     0.59359,     0.59459,      0.5956,      0.5966,      0.5976,      0.5986,      0.5996,\n",
              "            0.6006,      0.6016,      0.6026,      0.6036,      0.6046,     0.60561,     0.60661,     0.60761,     0.60861,     0.60961,     0.61061,     0.61161,     0.61261,     0.61361,     0.61461,     0.61562,     0.61662,     0.61762,     0.61862,     0.61962,     0.62062,     0.62162,     0.62262,     0.62362,\n",
              "           0.62462,     0.62563,     0.62663,     0.62763,     0.62863,     0.62963,     0.63063,     0.63163,     0.63263,     0.63363,     0.63463,     0.63564,     0.63664,     0.63764,     0.63864,     0.63964,     0.64064,     0.64164,     0.64264,     0.64364,     0.64464,     0.64565,     0.64665,     0.64765,\n",
              "           0.64865,     0.64965,     0.65065,     0.65165,     0.65265,     0.65365,     0.65465,     0.65566,     0.65666,     0.65766,     0.65866,     0.65966,     0.66066,     0.66166,     0.66266,     0.66366,     0.66466,     0.66567,     0.66667,     0.66767,     0.66867,     0.66967,     0.67067,     0.67167,\n",
              "           0.67267,     0.67367,     0.67467,     0.67568,     0.67668,     0.67768,     0.67868,     0.67968,     0.68068,     0.68168,     0.68268,     0.68368,     0.68468,     0.68569,     0.68669,     0.68769,     0.68869,     0.68969,     0.69069,     0.69169,     0.69269,     0.69369,     0.69469,      0.6957,\n",
              "            0.6967,      0.6977,      0.6987,      0.6997,      0.7007,      0.7017,      0.7027,      0.7037,      0.7047,     0.70571,     0.70671,     0.70771,     0.70871,     0.70971,     0.71071,     0.71171,     0.71271,     0.71371,     0.71471,     0.71572,     0.71672,     0.71772,     0.71872,     0.71972,\n",
              "           0.72072,     0.72172,     0.72272,     0.72372,     0.72472,     0.72573,     0.72673,     0.72773,     0.72873,     0.72973,     0.73073,     0.73173,     0.73273,     0.73373,     0.73473,     0.73574,     0.73674,     0.73774,     0.73874,     0.73974,     0.74074,     0.74174,     0.74274,     0.74374,\n",
              "           0.74474,     0.74575,     0.74675,     0.74775,     0.74875,     0.74975,     0.75075,     0.75175,     0.75275,     0.75375,     0.75475,     0.75576,     0.75676,     0.75776,     0.75876,     0.75976,     0.76076,     0.76176,     0.76276,     0.76376,     0.76476,     0.76577,     0.76677,     0.76777,\n",
              "           0.76877,     0.76977,     0.77077,     0.77177,     0.77277,     0.77377,     0.77477,     0.77578,     0.77678,     0.77778,     0.77878,     0.77978,     0.78078,     0.78178,     0.78278,     0.78378,     0.78478,     0.78579,     0.78679,     0.78779,     0.78879,     0.78979,     0.79079,     0.79179,\n",
              "           0.79279,     0.79379,     0.79479,      0.7958,      0.7968,      0.7978,      0.7988,      0.7998,      0.8008,      0.8018,      0.8028,      0.8038,      0.8048,     0.80581,     0.80681,     0.80781,     0.80881,     0.80981,     0.81081,     0.81181,     0.81281,     0.81381,     0.81481,     0.81582,\n",
              "           0.81682,     0.81782,     0.81882,     0.81982,     0.82082,     0.82182,     0.82282,     0.82382,     0.82482,     0.82583,     0.82683,     0.82783,     0.82883,     0.82983,     0.83083,     0.83183,     0.83283,     0.83383,     0.83483,     0.83584,     0.83684,     0.83784,     0.83884,     0.83984,\n",
              "           0.84084,     0.84184,     0.84284,     0.84384,     0.84484,     0.84585,     0.84685,     0.84785,     0.84885,     0.84985,     0.85085,     0.85185,     0.85285,     0.85385,     0.85485,     0.85586,     0.85686,     0.85786,     0.85886,     0.85986,     0.86086,     0.86186,     0.86286,     0.86386,\n",
              "           0.86486,     0.86587,     0.86687,     0.86787,     0.86887,     0.86987,     0.87087,     0.87187,     0.87287,     0.87387,     0.87487,     0.87588,     0.87688,     0.87788,     0.87888,     0.87988,     0.88088,     0.88188,     0.88288,     0.88388,     0.88488,     0.88589,     0.88689,     0.88789,\n",
              "           0.88889,     0.88989,     0.89089,     0.89189,     0.89289,     0.89389,     0.89489,      0.8959,      0.8969,      0.8979,      0.8989,      0.8999,      0.9009,      0.9019,      0.9029,      0.9039,      0.9049,     0.90591,     0.90691,     0.90791,     0.90891,     0.90991,     0.91091,     0.91191,\n",
              "           0.91291,     0.91391,     0.91491,     0.91592,     0.91692,     0.91792,     0.91892,     0.91992,     0.92092,     0.92192,     0.92292,     0.92392,     0.92492,     0.92593,     0.92693,     0.92793,     0.92893,     0.92993,     0.93093,     0.93193,     0.93293,     0.93393,     0.93493,     0.93594,\n",
              "           0.93694,     0.93794,     0.93894,     0.93994,     0.94094,     0.94194,     0.94294,     0.94394,     0.94494,     0.94595,     0.94695,     0.94795,     0.94895,     0.94995,     0.95095,     0.95195,     0.95295,     0.95395,     0.95495,     0.95596,     0.95696,     0.95796,     0.95896,     0.95996,\n",
              "           0.96096,     0.96196,     0.96296,     0.96396,     0.96496,     0.96597,     0.96697,     0.96797,     0.96897,     0.96997,     0.97097,     0.97197,     0.97297,     0.97397,     0.97497,     0.97598,     0.97698,     0.97798,     0.97898,     0.97998,     0.98098,     0.98198,     0.98298,     0.98398,\n",
              "           0.98498,     0.98599,     0.98699,     0.98799,     0.98899,     0.98999,     0.99099,     0.99199,     0.99299,     0.99399,     0.99499,       0.996,       0.997,       0.998,       0.999,           1]), array([[    0.15735,     0.15735,     0.23282,     0.28757,     0.32935,     0.36455,     0.39371,     0.42046,     0.44381,     0.46763,      0.4885,     0.50497,     0.52036,     0.53537,     0.55081,     0.56456,      0.5755,     0.58712,     0.59888,     0.61031,     0.61931,     0.62548,     0.63533,\n",
              "            0.64262,     0.65058,     0.66005,       0.666,     0.67464,     0.68172,     0.68644,     0.69325,     0.70028,       0.706,     0.71222,     0.71622,     0.72083,     0.72535,     0.73048,     0.73461,     0.74106,     0.74378,     0.74877,      0.7514,     0.75567,     0.76028,      0.7659,\n",
              "             0.7685,     0.77044,     0.77431,      0.7777,     0.78233,     0.78544,     0.78909,     0.79098,      0.7944,     0.79813,      0.8009,     0.80267,      0.8047,     0.80653,     0.80798,     0.81231,     0.81444,     0.81649,     0.81857,     0.82067,     0.82317,     0.82405,     0.82544,\n",
              "            0.82666,     0.82912,     0.83069,     0.83183,     0.83308,      0.8347,     0.83601,     0.83727,     0.83955,     0.84066,     0.84119,     0.84287,     0.84585,     0.84771,     0.85095,     0.85216,     0.85372,     0.85526,     0.85597,      0.8572,     0.85803,     0.86023,     0.86152,\n",
              "            0.86283,     0.86375,     0.86546,     0.86691,     0.86798,     0.86911,     0.87101,      0.8719,     0.87332,      0.8743,     0.87587,     0.87785,     0.87929,     0.88074,     0.88144,     0.88169,     0.88334,     0.88401,     0.88558,     0.88641,     0.88732,     0.88765,     0.88766,\n",
              "            0.88791,     0.88829,     0.88912,     0.88954,     0.89079,     0.89106,     0.89133,     0.89226,     0.89399,     0.89458,     0.89455,     0.89551,     0.89625,     0.89735,     0.89867,     0.89902,      0.8992,     0.89945,     0.89985,     0.90065,     0.90087,     0.90131,     0.90174,\n",
              "            0.90249,     0.90305,      0.9051,     0.90566,     0.90595,     0.90617,     0.90631,     0.90645,     0.90658,      0.9067,     0.90682,     0.90742,     0.90902,      0.9095,      0.9097,     0.90968,     0.91057,     0.91181,     0.91257,     0.91311,     0.91337,     0.91438,     0.91478,\n",
              "            0.91586,      0.9165,     0.91688,     0.91714,     0.91738,     0.91848,     0.91874,     0.91953,     0.92057,     0.92096,     0.92134,     0.92174,      0.9223,      0.9226,     0.92275,      0.9229,     0.92346,     0.92359,     0.92371,     0.92381,     0.92414,     0.92461,     0.92467,\n",
              "            0.92502,     0.92587,     0.92585,     0.92598,     0.92618,     0.92685,     0.92755,     0.92752,     0.92776,     0.92791,     0.92789,     0.92839,     0.92871,     0.92907,     0.92982,     0.93033,     0.93138,     0.93174,     0.93245,      0.9327,     0.93284,     0.93297,      0.9334,\n",
              "            0.93378,     0.93431,     0.93529,     0.93563,     0.93586,     0.93658,     0.93712,     0.93752,     0.93779,     0.93777,     0.93815,     0.93867,     0.93884,       0.939,      0.9392,     0.93942,     0.94059,     0.94098,     0.94136,     0.94158,     0.94201,     0.94259,     0.94292,\n",
              "            0.94434,     0.94588,     0.94666,     0.94678,     0.94691,     0.94705,     0.94726,     0.94748,     0.94768,     0.94789,     0.94855,     0.94877,     0.94928,     0.94959,     0.95053,     0.95061,      0.9506,       0.951,     0.95165,     0.95219,     0.95238,     0.95247,     0.95256,\n",
              "            0.95265,     0.95274,     0.95282,     0.95302,     0.95322,     0.95369,     0.95417,     0.95415,     0.95414,     0.95425,     0.95437,     0.95449,     0.95463,     0.95494,     0.95517,     0.95536,     0.95598,     0.95605,     0.95613,      0.9562,     0.95628,     0.95635,     0.95642,\n",
              "             0.9564,     0.95639,     0.95639,     0.95638,     0.95638,     0.95638,     0.95708,     0.95778,     0.95793,     0.95807,     0.95868,     0.95882,     0.95897,     0.95911,     0.95958,     0.95972,     0.95987,     0.96001,     0.96055,     0.96105,     0.96132,     0.96154,     0.96173,\n",
              "            0.96193,     0.96221,     0.96237,     0.96244,     0.96251,     0.96259,     0.96266,     0.96273,      0.9628,     0.96324,     0.96323,     0.96322,     0.96329,     0.96344,     0.96358,     0.96368,     0.96367,     0.96367,     0.96366,     0.96365,     0.96391,     0.96427,      0.9646,\n",
              "            0.96463,     0.96467,      0.9647,     0.96474,     0.96477,      0.9648,     0.96484,     0.96487,     0.96491,     0.96494,     0.96498,     0.96501,     0.96504,     0.96504,     0.96504,     0.96504,     0.96516,     0.96548,     0.96571,     0.96608,     0.96636,     0.96661,     0.96691,\n",
              "            0.96735,     0.96749,     0.96763,     0.96777,       0.968,     0.96828,     0.96845,     0.96863,     0.96938,     0.96969,     0.96969,     0.96999,     0.97015,     0.97015,     0.97013,      0.9704,     0.97062,     0.97072,     0.97082,     0.97092,     0.97103,     0.97138,     0.97166,\n",
              "            0.97184,     0.97201,     0.97205,     0.97221,     0.97237,     0.97269,     0.97296,     0.97295,     0.97295,     0.97295,     0.97293,      0.9734,     0.97339,     0.97357,     0.97375,     0.97386,     0.97386,     0.97385,     0.97416,     0.97431,     0.97433,     0.97437,     0.97441,\n",
              "            0.97445,      0.9745,     0.97454,     0.97458,     0.97463,     0.97467,     0.97471,     0.97475,     0.97477,     0.97476,     0.97513,     0.97563,     0.97582,     0.97594,     0.97607,     0.97619,      0.9762,     0.97618,     0.97665,     0.97665,     0.97665,     0.97664,     0.97664,\n",
              "            0.97665,     0.97672,     0.97678,     0.97684,     0.97691,     0.97697,     0.97704,      0.9771,     0.97751,     0.97809,     0.97808,     0.97808,     0.97808,     0.97806,     0.97805,     0.97805,     0.97816,     0.97866,     0.97906,     0.97923,      0.9794,     0.97949,     0.97948,\n",
              "            0.98045,     0.98045,     0.98044,     0.98043,     0.98042,     0.98042,     0.98041,     0.98061,     0.98087,     0.98088,     0.98087,     0.98086,     0.98085,     0.98085,     0.98085,     0.98086,     0.98104,     0.98123,     0.98134,     0.98132,     0.98139,     0.98155,     0.98172,\n",
              "            0.98181,      0.9818,     0.98179,     0.98179,     0.98178,     0.98228,     0.98227,     0.98227,     0.98227,     0.98226,     0.98225,     0.98275,     0.98275,     0.98274,     0.98274,     0.98274,     0.98273,     0.98273,     0.98272,     0.98289,     0.98306,     0.98322,     0.98321,\n",
              "            0.98321,     0.98321,     0.98326,      0.9833,     0.98335,      0.9834,     0.98344,     0.98349,     0.98354,     0.98358,     0.98363,     0.98368,      0.9837,      0.9837,     0.98369,     0.98369,     0.98368,     0.98368,     0.98368,     0.98368,     0.98368,     0.98367,     0.98399,\n",
              "            0.98467,     0.98551,     0.98567,     0.98567,     0.98566,     0.98566,     0.98566,     0.98565,     0.98564,     0.98563,     0.98563,     0.98563,     0.98562,     0.98612,     0.98612,     0.98611,     0.98611,      0.9861,     0.98608,     0.98608,     0.98608,     0.98608,     0.98608,\n",
              "            0.98608,     0.98621,     0.98658,     0.98658,     0.98658,     0.98658,     0.98657,     0.98657,     0.98657,     0.98657,     0.98656,     0.98656,     0.98656,     0.98655,     0.98655,     0.98686,     0.98706,     0.98705,     0.98755,     0.98754,     0.98753,     0.98752,     0.98751,\n",
              "            0.98793,     0.98802,     0.98801,     0.98801,     0.98801,     0.98799,     0.98799,     0.98799,     0.98798,     0.98798,     0.98797,     0.98797,     0.98796,     0.98796,     0.98795,     0.98795,     0.98794,     0.98793,     0.98833,     0.98845,     0.98844,     0.98843,     0.98888,\n",
              "            0.98895,     0.98894,     0.98894,     0.98893,     0.98893,     0.98892,     0.98893,     0.98929,     0.98943,     0.98943,     0.98943,     0.98943,     0.98977,     0.99045,     0.99044,     0.99137,     0.99148,     0.99191,       0.992,     0.99199,     0.99199,     0.99198,     0.99198,\n",
              "            0.99198,     0.99198,     0.99196,     0.99196,     0.99195,     0.99195,     0.99195,     0.99247,     0.99247,     0.99247,     0.99246,     0.99299,     0.99299,     0.99298,     0.99298,     0.99297,     0.99296,     0.99295,     0.99295,     0.99294,     0.99293,     0.99293,     0.99293,\n",
              "            0.99292,     0.99292,     0.99292,     0.99291,     0.99291,     0.99344,     0.99381,     0.99397,     0.99397,     0.99396,     0.99395,     0.99394,     0.99393,     0.99393,     0.99448,     0.99448,     0.99447,     0.99446,     0.99445,     0.99444,     0.99444,     0.99444,     0.99444,\n",
              "            0.99444,     0.99443,      0.9948,     0.99498,     0.99497,     0.99496,     0.99551,     0.99551,      0.9955,      0.9955,     0.99605,     0.99605,     0.99605,      0.9966,     0.99715,     0.99715,     0.99714,     0.99714,     0.99713,     0.99711,     0.99711,     0.99711,     0.99711,\n",
              "            0.99711,     0.99711,      0.9971,     0.99709,     0.99708,     0.99708,     0.99708,     0.99708,     0.99707,     0.99707,     0.99706,     0.99705,     0.99704,     0.99703,     0.99702,     0.99702,     0.99701,     0.99701,       0.997,     0.99699,     0.99698,     0.99698,     0.99697,\n",
              "            0.99696,     0.99695,     0.99695,     0.99693,     0.99691,     0.99691,      0.9969,     0.99689,     0.99687,     0.99685,     0.99683,     0.99683,     0.99682,     0.99719,     0.99744,     0.99743,     0.99742,     0.99741,     0.99741,     0.99739,     0.99803,     0.99803,     0.99802,\n",
              "            0.99801,     0.99801,     0.99799,     0.99799,     0.99798,     0.99797,     0.99795,     0.99794,     0.99861,      0.9986,     0.99859,     0.99859,     0.99858,     0.99856,     0.99856,     0.99853,     0.99852,     0.99851,      0.9985,     0.99848,     0.99847,     0.99846,     0.99845,\n",
              "            0.99842,     0.99839,     0.99838,     0.99876,     0.99916,     0.99915,     0.99914,     0.99913,     0.99911,     0.99911,      0.9991,     0.99908,     0.99907,     0.99906,     0.99904,     0.99903,     0.99901,     0.99899,     0.99898,     0.99896,     0.99894,     0.99893,     0.99891,\n",
              "            0.99889,     0.99887,     0.99887,     0.99885,     0.99883,     0.99881,      0.9988,     0.99878,     0.99874,     0.99874,      0.9987,     0.99867,     0.99867,     0.99864,     0.99863,      0.9986,     0.99859,     0.99859,     0.99858,     0.99858,     0.99855,     0.99853,     0.99852,\n",
              "             0.9985,     0.99849,     0.99847,     0.99845,           1,           1,           1,           1,           1,           1,           1,           1,           1,           1,           1,           1,           1,           1,           1,           1,           1,           1,           1,\n",
              "                  1,           1,           1,           1,           1,           1,           1,           1,           1,           1,           1,           1,           1,           1,           1,           1,           1,           1,           1,           1,           1,           1,           1,\n",
              "                  1,           1,           1,           1,           1,           1,           1,           1,           1,           1,           1,           1,           1,           1,           1,           1,           1,           1,           1,           1,           1,           1,           1,\n",
              "                  1,           1,           1,           1,           1,           1,           1,           1,           1,           1,           1,           1,           1,           1,           1,           1,           1,           1,           1,           1,           1,           1,           1,\n",
              "                  1,           1,           1,           1,           1,           1,           1,           1,           1,           1,           1,           1,           1,           1,           1,           1,           1,           1,           1,           1,           1,           1,           1,\n",
              "                  1,           1,           1,           1,           1,           1,           1,           1,           1,           1,           1,           1,           1,           1,           1,           1,           1,           1,           1,           1,           1,           1,           1,\n",
              "                  1,           1,           1,           1,           1,           1,           1,           1,           1,           1,           1,           1,           1,           1,           1,           1,           1,           1,           1,           1,           1,           1,           1,\n",
              "                  1,           1,           1,           1,           1,           1,           1,           1,           1,           1,           1,           1,           1,           1,           1,           1,           1,           1,           1,           1,           1,           1,           1,\n",
              "                  1,           1,           1,           1,           1,           1,           1,           1,           1,           1,           1,           1,           1,           1,           1,           1,           1,           1,           1,           1,           1,           1,           1,\n",
              "                  1,           1,           1,           1,           1,           1,           1,           1,           1,           1,           1]]), 'Confidence', 'Precision'], [array([          0,    0.001001,    0.002002,    0.003003,    0.004004,    0.005005,    0.006006,    0.007007,    0.008008,    0.009009,     0.01001,    0.011011,    0.012012,    0.013013,    0.014014,    0.015015,    0.016016,    0.017017,    0.018018,    0.019019,     0.02002,    0.021021,    0.022022,    0.023023,\n",
              "          0.024024,    0.025025,    0.026026,    0.027027,    0.028028,    0.029029,     0.03003,    0.031031,    0.032032,    0.033033,    0.034034,    0.035035,    0.036036,    0.037037,    0.038038,    0.039039,     0.04004,    0.041041,    0.042042,    0.043043,    0.044044,    0.045045,    0.046046,    0.047047,\n",
              "          0.048048,    0.049049,     0.05005,    0.051051,    0.052052,    0.053053,    0.054054,    0.055055,    0.056056,    0.057057,    0.058058,    0.059059,     0.06006,    0.061061,    0.062062,    0.063063,    0.064064,    0.065065,    0.066066,    0.067067,    0.068068,    0.069069,     0.07007,    0.071071,\n",
              "          0.072072,    0.073073,    0.074074,    0.075075,    0.076076,    0.077077,    0.078078,    0.079079,     0.08008,    0.081081,    0.082082,    0.083083,    0.084084,    0.085085,    0.086086,    0.087087,    0.088088,    0.089089,     0.09009,    0.091091,    0.092092,    0.093093,    0.094094,    0.095095,\n",
              "          0.096096,    0.097097,    0.098098,    0.099099,      0.1001,      0.1011,      0.1021,      0.1031,      0.1041,     0.10511,     0.10611,     0.10711,     0.10811,     0.10911,     0.11011,     0.11111,     0.11211,     0.11311,     0.11411,     0.11512,     0.11612,     0.11712,     0.11812,     0.11912,\n",
              "           0.12012,     0.12112,     0.12212,     0.12312,     0.12412,     0.12513,     0.12613,     0.12713,     0.12813,     0.12913,     0.13013,     0.13113,     0.13213,     0.13313,     0.13413,     0.13514,     0.13614,     0.13714,     0.13814,     0.13914,     0.14014,     0.14114,     0.14214,     0.14314,\n",
              "           0.14414,     0.14515,     0.14615,     0.14715,     0.14815,     0.14915,     0.15015,     0.15115,     0.15215,     0.15315,     0.15415,     0.15516,     0.15616,     0.15716,     0.15816,     0.15916,     0.16016,     0.16116,     0.16216,     0.16316,     0.16416,     0.16517,     0.16617,     0.16717,\n",
              "           0.16817,     0.16917,     0.17017,     0.17117,     0.17217,     0.17317,     0.17417,     0.17518,     0.17618,     0.17718,     0.17818,     0.17918,     0.18018,     0.18118,     0.18218,     0.18318,     0.18418,     0.18519,     0.18619,     0.18719,     0.18819,     0.18919,     0.19019,     0.19119,\n",
              "           0.19219,     0.19319,     0.19419,      0.1952,      0.1962,      0.1972,      0.1982,      0.1992,      0.2002,      0.2012,      0.2022,      0.2032,      0.2042,     0.20521,     0.20621,     0.20721,     0.20821,     0.20921,     0.21021,     0.21121,     0.21221,     0.21321,     0.21421,     0.21522,\n",
              "           0.21622,     0.21722,     0.21822,     0.21922,     0.22022,     0.22122,     0.22222,     0.22322,     0.22422,     0.22523,     0.22623,     0.22723,     0.22823,     0.22923,     0.23023,     0.23123,     0.23223,     0.23323,     0.23423,     0.23524,     0.23624,     0.23724,     0.23824,     0.23924,\n",
              "           0.24024,     0.24124,     0.24224,     0.24324,     0.24424,     0.24525,     0.24625,     0.24725,     0.24825,     0.24925,     0.25025,     0.25125,     0.25225,     0.25325,     0.25425,     0.25526,     0.25626,     0.25726,     0.25826,     0.25926,     0.26026,     0.26126,     0.26226,     0.26326,\n",
              "           0.26426,     0.26527,     0.26627,     0.26727,     0.26827,     0.26927,     0.27027,     0.27127,     0.27227,     0.27327,     0.27427,     0.27528,     0.27628,     0.27728,     0.27828,     0.27928,     0.28028,     0.28128,     0.28228,     0.28328,     0.28428,     0.28529,     0.28629,     0.28729,\n",
              "           0.28829,     0.28929,     0.29029,     0.29129,     0.29229,     0.29329,     0.29429,      0.2953,      0.2963,      0.2973,      0.2983,      0.2993,      0.3003,      0.3013,      0.3023,      0.3033,      0.3043,     0.30531,     0.30631,     0.30731,     0.30831,     0.30931,     0.31031,     0.31131,\n",
              "           0.31231,     0.31331,     0.31431,     0.31532,     0.31632,     0.31732,     0.31832,     0.31932,     0.32032,     0.32132,     0.32232,     0.32332,     0.32432,     0.32533,     0.32633,     0.32733,     0.32833,     0.32933,     0.33033,     0.33133,     0.33233,     0.33333,     0.33433,     0.33534,\n",
              "           0.33634,     0.33734,     0.33834,     0.33934,     0.34034,     0.34134,     0.34234,     0.34334,     0.34434,     0.34535,     0.34635,     0.34735,     0.34835,     0.34935,     0.35035,     0.35135,     0.35235,     0.35335,     0.35435,     0.35536,     0.35636,     0.35736,     0.35836,     0.35936,\n",
              "           0.36036,     0.36136,     0.36236,     0.36336,     0.36436,     0.36537,     0.36637,     0.36737,     0.36837,     0.36937,     0.37037,     0.37137,     0.37237,     0.37337,     0.37437,     0.37538,     0.37638,     0.37738,     0.37838,     0.37938,     0.38038,     0.38138,     0.38238,     0.38338,\n",
              "           0.38438,     0.38539,     0.38639,     0.38739,     0.38839,     0.38939,     0.39039,     0.39139,     0.39239,     0.39339,     0.39439,      0.3954,      0.3964,      0.3974,      0.3984,      0.3994,      0.4004,      0.4014,      0.4024,      0.4034,      0.4044,     0.40541,     0.40641,     0.40741,\n",
              "           0.40841,     0.40941,     0.41041,     0.41141,     0.41241,     0.41341,     0.41441,     0.41542,     0.41642,     0.41742,     0.41842,     0.41942,     0.42042,     0.42142,     0.42242,     0.42342,     0.42442,     0.42543,     0.42643,     0.42743,     0.42843,     0.42943,     0.43043,     0.43143,\n",
              "           0.43243,     0.43343,     0.43443,     0.43544,     0.43644,     0.43744,     0.43844,     0.43944,     0.44044,     0.44144,     0.44244,     0.44344,     0.44444,     0.44545,     0.44645,     0.44745,     0.44845,     0.44945,     0.45045,     0.45145,     0.45245,     0.45345,     0.45445,     0.45546,\n",
              "           0.45646,     0.45746,     0.45846,     0.45946,     0.46046,     0.46146,     0.46246,     0.46346,     0.46446,     0.46547,     0.46647,     0.46747,     0.46847,     0.46947,     0.47047,     0.47147,     0.47247,     0.47347,     0.47447,     0.47548,     0.47648,     0.47748,     0.47848,     0.47948,\n",
              "           0.48048,     0.48148,     0.48248,     0.48348,     0.48448,     0.48549,     0.48649,     0.48749,     0.48849,     0.48949,     0.49049,     0.49149,     0.49249,     0.49349,     0.49449,      0.4955,      0.4965,      0.4975,      0.4985,      0.4995,      0.5005,      0.5015,      0.5025,      0.5035,\n",
              "            0.5045,     0.50551,     0.50651,     0.50751,     0.50851,     0.50951,     0.51051,     0.51151,     0.51251,     0.51351,     0.51451,     0.51552,     0.51652,     0.51752,     0.51852,     0.51952,     0.52052,     0.52152,     0.52252,     0.52352,     0.52452,     0.52553,     0.52653,     0.52753,\n",
              "           0.52853,     0.52953,     0.53053,     0.53153,     0.53253,     0.53353,     0.53453,     0.53554,     0.53654,     0.53754,     0.53854,     0.53954,     0.54054,     0.54154,     0.54254,     0.54354,     0.54454,     0.54555,     0.54655,     0.54755,     0.54855,     0.54955,     0.55055,     0.55155,\n",
              "           0.55255,     0.55355,     0.55455,     0.55556,     0.55656,     0.55756,     0.55856,     0.55956,     0.56056,     0.56156,     0.56256,     0.56356,     0.56456,     0.56557,     0.56657,     0.56757,     0.56857,     0.56957,     0.57057,     0.57157,     0.57257,     0.57357,     0.57457,     0.57558,\n",
              "           0.57658,     0.57758,     0.57858,     0.57958,     0.58058,     0.58158,     0.58258,     0.58358,     0.58458,     0.58559,     0.58659,     0.58759,     0.58859,     0.58959,     0.59059,     0.59159,     0.59259,     0.59359,     0.59459,      0.5956,      0.5966,      0.5976,      0.5986,      0.5996,\n",
              "            0.6006,      0.6016,      0.6026,      0.6036,      0.6046,     0.60561,     0.60661,     0.60761,     0.60861,     0.60961,     0.61061,     0.61161,     0.61261,     0.61361,     0.61461,     0.61562,     0.61662,     0.61762,     0.61862,     0.61962,     0.62062,     0.62162,     0.62262,     0.62362,\n",
              "           0.62462,     0.62563,     0.62663,     0.62763,     0.62863,     0.62963,     0.63063,     0.63163,     0.63263,     0.63363,     0.63463,     0.63564,     0.63664,     0.63764,     0.63864,     0.63964,     0.64064,     0.64164,     0.64264,     0.64364,     0.64464,     0.64565,     0.64665,     0.64765,\n",
              "           0.64865,     0.64965,     0.65065,     0.65165,     0.65265,     0.65365,     0.65465,     0.65566,     0.65666,     0.65766,     0.65866,     0.65966,     0.66066,     0.66166,     0.66266,     0.66366,     0.66466,     0.66567,     0.66667,     0.66767,     0.66867,     0.66967,     0.67067,     0.67167,\n",
              "           0.67267,     0.67367,     0.67467,     0.67568,     0.67668,     0.67768,     0.67868,     0.67968,     0.68068,     0.68168,     0.68268,     0.68368,     0.68468,     0.68569,     0.68669,     0.68769,     0.68869,     0.68969,     0.69069,     0.69169,     0.69269,     0.69369,     0.69469,      0.6957,\n",
              "            0.6967,      0.6977,      0.6987,      0.6997,      0.7007,      0.7017,      0.7027,      0.7037,      0.7047,     0.70571,     0.70671,     0.70771,     0.70871,     0.70971,     0.71071,     0.71171,     0.71271,     0.71371,     0.71471,     0.71572,     0.71672,     0.71772,     0.71872,     0.71972,\n",
              "           0.72072,     0.72172,     0.72272,     0.72372,     0.72472,     0.72573,     0.72673,     0.72773,     0.72873,     0.72973,     0.73073,     0.73173,     0.73273,     0.73373,     0.73473,     0.73574,     0.73674,     0.73774,     0.73874,     0.73974,     0.74074,     0.74174,     0.74274,     0.74374,\n",
              "           0.74474,     0.74575,     0.74675,     0.74775,     0.74875,     0.74975,     0.75075,     0.75175,     0.75275,     0.75375,     0.75475,     0.75576,     0.75676,     0.75776,     0.75876,     0.75976,     0.76076,     0.76176,     0.76276,     0.76376,     0.76476,     0.76577,     0.76677,     0.76777,\n",
              "           0.76877,     0.76977,     0.77077,     0.77177,     0.77277,     0.77377,     0.77477,     0.77578,     0.77678,     0.77778,     0.77878,     0.77978,     0.78078,     0.78178,     0.78278,     0.78378,     0.78478,     0.78579,     0.78679,     0.78779,     0.78879,     0.78979,     0.79079,     0.79179,\n",
              "           0.79279,     0.79379,     0.79479,      0.7958,      0.7968,      0.7978,      0.7988,      0.7998,      0.8008,      0.8018,      0.8028,      0.8038,      0.8048,     0.80581,     0.80681,     0.80781,     0.80881,     0.80981,     0.81081,     0.81181,     0.81281,     0.81381,     0.81481,     0.81582,\n",
              "           0.81682,     0.81782,     0.81882,     0.81982,     0.82082,     0.82182,     0.82282,     0.82382,     0.82482,     0.82583,     0.82683,     0.82783,     0.82883,     0.82983,     0.83083,     0.83183,     0.83283,     0.83383,     0.83483,     0.83584,     0.83684,     0.83784,     0.83884,     0.83984,\n",
              "           0.84084,     0.84184,     0.84284,     0.84384,     0.84484,     0.84585,     0.84685,     0.84785,     0.84885,     0.84985,     0.85085,     0.85185,     0.85285,     0.85385,     0.85485,     0.85586,     0.85686,     0.85786,     0.85886,     0.85986,     0.86086,     0.86186,     0.86286,     0.86386,\n",
              "           0.86486,     0.86587,     0.86687,     0.86787,     0.86887,     0.86987,     0.87087,     0.87187,     0.87287,     0.87387,     0.87487,     0.87588,     0.87688,     0.87788,     0.87888,     0.87988,     0.88088,     0.88188,     0.88288,     0.88388,     0.88488,     0.88589,     0.88689,     0.88789,\n",
              "           0.88889,     0.88989,     0.89089,     0.89189,     0.89289,     0.89389,     0.89489,      0.8959,      0.8969,      0.8979,      0.8989,      0.8999,      0.9009,      0.9019,      0.9029,      0.9039,      0.9049,     0.90591,     0.90691,     0.90791,     0.90891,     0.90991,     0.91091,     0.91191,\n",
              "           0.91291,     0.91391,     0.91491,     0.91592,     0.91692,     0.91792,     0.91892,     0.91992,     0.92092,     0.92192,     0.92292,     0.92392,     0.92492,     0.92593,     0.92693,     0.92793,     0.92893,     0.92993,     0.93093,     0.93193,     0.93293,     0.93393,     0.93493,     0.93594,\n",
              "           0.93694,     0.93794,     0.93894,     0.93994,     0.94094,     0.94194,     0.94294,     0.94394,     0.94494,     0.94595,     0.94695,     0.94795,     0.94895,     0.94995,     0.95095,     0.95195,     0.95295,     0.95395,     0.95495,     0.95596,     0.95696,     0.95796,     0.95896,     0.95996,\n",
              "           0.96096,     0.96196,     0.96296,     0.96396,     0.96496,     0.96597,     0.96697,     0.96797,     0.96897,     0.96997,     0.97097,     0.97197,     0.97297,     0.97397,     0.97497,     0.97598,     0.97698,     0.97798,     0.97898,     0.97998,     0.98098,     0.98198,     0.98298,     0.98398,\n",
              "           0.98498,     0.98599,     0.98699,     0.98799,     0.98899,     0.98999,     0.99099,     0.99199,     0.99299,     0.99399,     0.99499,       0.996,       0.997,       0.998,       0.999,           1]), array([[    0.97608,     0.97608,      0.9742,     0.97186,     0.97139,     0.96998,     0.96857,     0.96717,      0.9667,      0.9667,     0.96623,     0.96576,     0.96529,     0.96482,     0.96388,     0.96388,     0.96341,     0.96341,     0.96295,     0.96295,     0.96295,     0.96248,     0.96201,\n",
              "            0.96154,     0.96107,     0.96107,     0.96107,      0.9606,     0.96013,     0.96013,      0.9593,     0.95872,     0.95872,     0.95872,     0.95872,     0.95826,     0.95826,     0.95732,     0.95732,     0.95732,     0.95638,     0.95621,     0.95591,     0.95591,     0.95591,     0.95591,\n",
              "            0.95591,     0.95591,     0.95497,     0.95497,     0.95497,     0.95497,      0.9545,      0.9545,      0.9545,      0.9545,      0.9545,     0.95403,     0.95403,     0.95356,     0.95356,     0.95356,     0.95356,     0.95356,     0.95356,     0.95356,     0.95356,     0.95356,     0.95356,\n",
              "            0.95356,     0.95356,     0.95356,     0.95356,     0.95356,     0.95356,     0.95356,     0.95356,     0.95356,     0.95356,     0.95356,     0.95356,     0.95356,      0.9531,     0.95263,     0.95263,     0.95263,     0.95263,     0.95263,     0.95263,     0.95263,     0.95263,     0.95263,\n",
              "            0.95263,     0.95263,     0.95263,     0.95263,     0.95216,     0.95216,     0.95169,     0.95135,     0.95122,     0.95075,     0.95075,     0.95056,     0.95028,     0.95028,     0.95028,     0.95028,     0.94981,     0.94981,     0.94981,     0.94934,     0.94887,     0.94887,     0.94841,\n",
              "            0.94841,     0.94841,     0.94841,     0.94805,     0.94794,     0.94794,     0.94794,     0.94794,     0.94747,     0.94735,       0.947,       0.947,       0.947,     0.94653,     0.94653,     0.94653,     0.94653,     0.94653,     0.94653,     0.94653,     0.94653,     0.94653,     0.94653,\n",
              "            0.94634,     0.94606,     0.94606,     0.94606,     0.94606,     0.94606,     0.94606,     0.94606,     0.94606,     0.94606,     0.94606,     0.94606,     0.94606,     0.94606,     0.94507,     0.94477,     0.94465,     0.94465,     0.94465,     0.94465,     0.94465,     0.94465,     0.94465,\n",
              "            0.94448,     0.94418,     0.94418,     0.94418,     0.94418,     0.94418,     0.94418,     0.94418,     0.94418,     0.94418,     0.94418,     0.94418,     0.94418,     0.94418,     0.94418,     0.94418,     0.94418,     0.94418,     0.94418,     0.94409,     0.94371,     0.94347,     0.94325,\n",
              "            0.94325,     0.94314,     0.94287,     0.94278,     0.94278,     0.94278,     0.94273,     0.94234,     0.94231,     0.94182,     0.94152,     0.94137,      0.9409,      0.9409,      0.9409,      0.9409,      0.9409,      0.9409,      0.9409,      0.9409,      0.9409,      0.9409,      0.9409,\n",
              "             0.9409,     0.94066,     0.94043,     0.94043,     0.94043,     0.94043,     0.94043,     0.94043,     0.94036,     0.94009,     0.93996,     0.93996,     0.93996,     0.93996,     0.93996,     0.93996,     0.93996,     0.93996,     0.93949,     0.93949,     0.93949,     0.93902,     0.93902,\n",
              "            0.93902,     0.93902,     0.93902,     0.93902,     0.93902,     0.93902,     0.93902,     0.93902,     0.93902,     0.93902,     0.93902,     0.93902,     0.93902,     0.93902,     0.93902,     0.93884,     0.93863,     0.93856,     0.93856,     0.93856,     0.93809,     0.93809,     0.93809,\n",
              "            0.93809,     0.93809,     0.93809,     0.93809,     0.93809,     0.93762,     0.93747,     0.93699,     0.93668,     0.93668,     0.93668,     0.93668,     0.93668,     0.93668,     0.93668,     0.93668,     0.93668,     0.93668,     0.93668,     0.93668,     0.93668,     0.93668,     0.93663,\n",
              "            0.93625,     0.93613,     0.93604,     0.93594,     0.93585,     0.93576,     0.93574,     0.93527,     0.93527,     0.93527,     0.93527,     0.93527,     0.93527,     0.93527,     0.93527,     0.93527,     0.93527,     0.93527,      0.9348,      0.9348,      0.9348,      0.9348,      0.9348,\n",
              "             0.9348,      0.9348,      0.9348,      0.9348,      0.9348,      0.9348,      0.9348,      0.9348,      0.9348,     0.93408,      0.9338,     0.93353,      0.9334,      0.9334,      0.9334,     0.93335,     0.93321,     0.93307,     0.93294,     0.93248,     0.93246,     0.93246,     0.93246,\n",
              "            0.93246,     0.93246,     0.93246,     0.93246,     0.93246,     0.93246,     0.93246,     0.93246,     0.93246,     0.93246,     0.93246,     0.93246,     0.93246,     0.93235,     0.93222,     0.93209,     0.93199,     0.93129,     0.93105,     0.93105,     0.93105,     0.93058,     0.93058,\n",
              "            0.93058,     0.93058,     0.93058,     0.93058,     0.93058,     0.93058,     0.93058,     0.93058,     0.93058,     0.93049,     0.93021,     0.93011,     0.92997,     0.92976,     0.92919,     0.92917,     0.92871,     0.92871,     0.92871,     0.92871,     0.92871,     0.92871,     0.92871,\n",
              "            0.92871,     0.92871,     0.92824,     0.92824,     0.92824,     0.92824,     0.92816,     0.92803,      0.9279,     0.92778,     0.92732,     0.92684,     0.92636,     0.92636,     0.92636,     0.92628,     0.92604,     0.92565,     0.92542,      0.9251,     0.92448,     0.92448,     0.92448,\n",
              "            0.92448,     0.92448,     0.92448,     0.92448,     0.92448,     0.92448,     0.92448,     0.92448,     0.92426,      0.9237,     0.92355,     0.92355,     0.92355,     0.92355,     0.92355,     0.92355,      0.9233,     0.92251,     0.92211,     0.92199,     0.92187,     0.92175,     0.92151,\n",
              "             0.9212,      0.9212,      0.9212,      0.9212,      0.9212,      0.9212,      0.9212,      0.9212,      0.9212,     0.92119,     0.92107,     0.92095,     0.92083,     0.92018,     0.91974,      0.9195,     0.91886,     0.91886,     0.91886,     0.91886,     0.91886,     0.91861,     0.91808,\n",
              "             0.9176,     0.91728,     0.91704,     0.91662,     0.91614,     0.91585,     0.91561,      0.9151,      0.9151,     0.91421,     0.91373,     0.91325,     0.91311,     0.91299,     0.91287,     0.91276,     0.91276,     0.91276,     0.91258,     0.91163,     0.91135,     0.91135,     0.91135,\n",
              "            0.91123,     0.91099,     0.91062,     0.91028,     0.91003,     0.90987,     0.90975,     0.90963,     0.90951,     0.90913,     0.90865,     0.90846,     0.90837,     0.90827,     0.90817,     0.90808,     0.90764,     0.90738,     0.90714,     0.90713,     0.90713,     0.90711,     0.90665,\n",
              "            0.90641,     0.90619,     0.90619,     0.90619,     0.90619,     0.90619,     0.90619,     0.90619,     0.90619,     0.90619,     0.90619,     0.90619,     0.90601,     0.90563,     0.90539,     0.90504,     0.90475,     0.90467,     0.90459,     0.90451,     0.90443,     0.90435,     0.90432,\n",
              "            0.90354,     0.90338,     0.90327,     0.90311,     0.90295,     0.90272,     0.90248,     0.90205,     0.90157,     0.90089,     0.90073,     0.90057,     0.90011,     0.89963,     0.89951,     0.89939,     0.89927,     0.89818,     0.89727,     0.89719,     0.89711,     0.89703,     0.89695,\n",
              "            0.89687,     0.89681,     0.89677,     0.89661,     0.89644,      0.8963,     0.89618,     0.89606,     0.89594,     0.89566,     0.89529,     0.89505,     0.89485,     0.89469,     0.89453,     0.89447,     0.89432,     0.89408,     0.89274,     0.89195,     0.89171,     0.89053,     0.89029,\n",
              "            0.88977,     0.88938,     0.88917,     0.88901,     0.88885,      0.8878,     0.88756,     0.88731,     0.88707,     0.88671,     0.88623,     0.88575,     0.88527,     0.88493,     0.88469,     0.88429,     0.88381,     0.88333,     0.88321,     0.88284,     0.88208,     0.88184,      0.8818,\n",
              "            0.88138,     0.88112,     0.88088,     0.88024,     0.88008,     0.87945,     0.87899,     0.87899,     0.87843,     0.87827,     0.87811,     0.87774,     0.87617,     0.87537,     0.87442,      0.8743,     0.87346,     0.87289,     0.87203,     0.87108,     0.87089,     0.87076,     0.87062,\n",
              "            0.87033,     0.86985,     0.86843,     0.86795,     0.86746,     0.86698,      0.8665,     0.86602,     0.86526,     0.86507,     0.86481,     0.86433,     0.86385,      0.8625,     0.86226,       0.861,     0.86052,      0.8591,     0.85822,      0.8579,     0.85672,     0.85648,     0.85577,\n",
              "            0.85553,     0.85528,     0.85458,     0.85439,      0.8542,     0.85288,     0.85131,     0.85051,     0.85003,     0.84861,     0.84766,     0.84601,     0.84514,      0.8449,     0.84466,     0.84441,     0.84386,     0.84242,       0.841,     0.83943,     0.83927,     0.83864,     0.83844,\n",
              "            0.83825,     0.83741,     0.83677,     0.83598,     0.83503,     0.83385,     0.83202,     0.83178,       0.831,     0.82989,     0.82886,     0.82791,     0.82696,     0.82414,     0.82108,     0.81919,      0.8173,     0.81682,     0.81423,     0.81046,     0.81001,     0.80977,     0.80858,\n",
              "            0.80826,     0.80783,     0.80547,     0.80335,       0.802,     0.80175,     0.80081,     0.79978,     0.79883,     0.79741,     0.79435,     0.79387,     0.78925,     0.78658,     0.78563,     0.78421,     0.78322,     0.78081,     0.78057,       0.777,     0.77524,     0.77335,     0.77135,\n",
              "            0.77028,     0.76604,     0.76556,     0.76157,     0.75733,     0.75667,     0.75379,     0.75237,     0.74744,     0.74273,     0.73827,     0.73732,     0.73493,     0.73405,     0.73142,     0.72695,     0.72553,     0.72355,     0.72293,     0.71729,     0.71376,     0.71281,     0.70983,\n",
              "            0.70739,     0.70456,     0.70016,     0.69984,     0.69515,     0.69326,     0.68551,     0.68081,     0.67399,      0.6702,     0.66483,     0.66388,     0.65753,     0.65087,      0.6493,     0.63873,     0.63263,     0.63014,     0.62392,      0.6157,     0.61084,     0.60653,     0.60277,\n",
              "            0.59361,     0.58167,     0.57741,     0.56754,     0.55721,     0.55296,     0.54758,     0.54053,     0.52856,     0.52472,     0.51798,     0.50741,     0.50495,     0.49824,      0.4858,     0.48143,     0.47569,      0.4656,     0.46025,     0.45033,     0.44004,     0.43717,     0.42895,\n",
              "            0.42214,     0.41602,     0.41438,     0.40663,     0.40141,       0.393,     0.39105,     0.38243,     0.37233,     0.37081,     0.35964,     0.35294,     0.35141,     0.34507,     0.34067,     0.33472,     0.33312,     0.33118,      0.3296,     0.32928,     0.32318,     0.31893,     0.31541,\n",
              "            0.31185,     0.31117,     0.30617,     0.30176,     0.29815,     0.29705,     0.29341,     0.29186,     0.28727,     0.28574,     0.28113,     0.27822,     0.27311,     0.27163,     0.26931,     0.26292,     0.25988,     0.25587,     0.25139,     0.24857,     0.24806,     0.24569,     0.24136,\n",
              "             0.2372,     0.23306,     0.23274,      0.2309,     0.23007,     0.22783,     0.22688,     0.22578,     0.22388,     0.22168,     0.21914,     0.21603,     0.21555,     0.21485,     0.21435,     0.21153,     0.21121,      0.2096,      0.2077,     0.20618,     0.20484,     0.20395,       0.203,\n",
              "            0.20195,     0.20005,     0.19815,     0.19625,     0.19521,     0.19449,     0.19384,     0.19287,     0.19191,     0.19115,     0.19091,      0.1895,     0.18854,      0.1857,      0.1838,      0.1819,     0.18047,     0.17866,     0.17834,     0.17711,     0.17615,     0.17554,     0.17329,\n",
              "            0.16952,     0.16527,     0.16103,     0.15819,     0.15207,     0.14782,     0.13701,     0.12901,     0.12195,      0.1102,     0.10268,    0.091865,    0.083868,    0.078685,    0.068812,     0.06316,     0.05657,    0.047634,     0.04339,    0.040083,    0.035838,    0.031593,    0.029693,\n",
              "           0.027325,     0.02308,    0.018835,    0.016466,    0.015036,    0.013136,    0.011705,   0.0093367,    0.008409,   0.0078826,   0.0073102,   0.0070011,   0.0067607,   0.0060051,   0.0055868,   0.0053945,   0.0052022,   0.0040819,   0.0037187,   0.0036119,   0.0035051,   0.0033982,   0.0032914,\n",
              "           0.002987,   0.0023231,    0.002275,   0.0022269,   0.0021788,   0.0021307,   0.0020827,   0.0020346,   0.0019865,   0.0019384,   0.0018904,   0.0016502,   0.0013942,   0.0013408,   0.0012874,    0.001234,   0.0011805,   0.0011271,   0.0010737,   0.0010203,  0.00096686,   0.0004944,           0,\n",
              "                  0,           0,           0,           0,           0,           0,           0,           0,           0,           0,           0,           0,           0,           0,           0,           0,           0,           0,           0,           0,           0,           0,           0,\n",
              "                  0,           0,           0,           0,           0,           0,           0,           0,           0,           0,           0,           0,           0,           0,           0,           0,           0,           0,           0,           0,           0,           0,           0,\n",
              "                  0,           0,           0,           0,           0,           0,           0,           0,           0,           0,           0,           0,           0,           0,           0,           0,           0,           0,           0,           0,           0,           0,           0,\n",
              "                  0,           0,           0,           0,           0,           0,           0,           0,           0,           0,           0]]), 'Confidence', 'Recall']]\n",
              "fitness: 0.6666292467563352\n",
              "keys: ['metrics/precision(B)', 'metrics/recall(B)', 'metrics/mAP50(B)', 'metrics/mAP50-95(B)']\n",
              "maps: array([    0.63365])\n",
              "names: {0: 'License_Plate'}\n",
              "plot: True\n",
              "results_dict: {'metrics/precision(B)': 0.9729502528168847, 'metrics/recall(B)': 0.9279037636761214, 'metrics/mAP50(B)': 0.9634311496534795, 'metrics/mAP50-95(B)': 0.6336512575455413, 'fitness': 0.6666292467563352}\n",
              "save_dir: PosixPath('runs/detect/train2')\n",
              "speed: {'preprocess': 0.2992452647562484, 'inference': 2.2476770544564855, 'loss': 0.0005775183177064242, 'postprocess': 2.2700904984161885}\n",
              "task: 'detect'"
            ]
          },
          "metadata": {},
          "execution_count": 16
        }
      ]
    },
    {
      "cell_type": "code",
      "source": [
        "!scp -r /content/runs '/content/gdrive/MyDrive/CompVis'"
      ],
      "metadata": {
        "id": "Aoq5T8n3oJMo"
      },
      "execution_count": 17,
      "outputs": []
    }
  ]
}